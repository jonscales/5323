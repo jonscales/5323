{
 "cells": [
  {
   "cell_type": "markdown",
   "id": "2f817064-e978-47aa-bef2-7bbae00de3bb",
   "metadata": {},
   "source": [
    "## Team 1 H2\n",
    "## Homework 2 \n",
    "## Pat Mitchell,  Jon Scales"
   ]
  },
  {
   "cell_type": "code",
   "execution_count": 43,
   "id": "e4879548-2cda-470e-99da-64599d0c7476",
   "metadata": {},
   "outputs": [],
   "source": [
    "import pandas as pd\n",
    "import numpy as np\n",
    "import time"
   ]
  },
  {
   "cell_type": "markdown",
   "id": "7aea6ffe-73e6-485a-8697-152961c81c5e",
   "metadata": {},
   "source": [
    "## Step by Step Solution"
   ]
  },
  {
   "cell_type": "code",
   "execution_count": null,
   "id": "6fbae021-be12-4474-bbcb-3375633cd457",
   "metadata": {},
   "outputs": [],
   "source": []
  },
  {
   "cell_type": "code",
   "execution_count": 2,
   "id": "25fdee08-9a09-4b45-bc0d-ca5cd5260b6e",
   "metadata": {},
   "outputs": [
    {
     "name": "stdout",
     "output_type": "stream",
     "text": [
      "                  AAPL        GOOG         IBM       MSFT\n",
      "Date                                                     \n",
      "2010-01-04   27.990226  313.062468  113.304536  25.884104\n",
      "2010-01-05   28.038618  311.683844  111.935822  25.892466\n",
      "2010-01-06   27.592626  303.826685  111.208683  25.733566\n",
      "2010-01-07   27.541619  296.753749  110.823732  25.465944\n",
      "2010-01-08   27.724725  300.709808  111.935822  25.641571\n",
      "...                ...         ...         ...        ...\n",
      "2016-10-17  117.550003  779.960022  154.770004  57.220001\n",
      "2016-10-18  117.470001  795.260010  150.720001  57.660000\n",
      "2016-10-19  117.120003  801.500000  151.259995  57.529999\n",
      "2016-10-20  117.059998  796.969971  151.520004  57.250000\n",
      "2016-10-21  116.599998  799.369995  149.630005  59.660000\n",
      "\n",
      "[1714 rows x 4 columns]\n"
     ]
    }
   ],
   "source": [
    "price = pd.read_pickle(\"yahoo_price.pkl\")\n",
    "print(price)\n"
   ]
  },
  {
   "cell_type": "code",
   "execution_count": 3,
   "id": "dea207d5-1d53-4444-a2c3-46362e60cecf",
   "metadata": {},
   "outputs": [
    {
     "name": "stdout",
     "output_type": "stream",
     "text": [
      "                  AAPL        GOOG         IBM       MSFT\n",
      "Date                                                     \n",
      "2010-01-04   27.990226  313.062468  113.304536  25.884104\n",
      "2010-01-05   28.038618  311.683844  111.935822  25.892466\n",
      "2010-01-06   27.592626  303.826685  111.208683  25.733566\n",
      "2010-01-07   27.541619  296.753749  110.823732  25.465944\n",
      "2010-01-08   27.724725  300.709808  111.935822  25.641571\n",
      "...                ...         ...         ...        ...\n",
      "2016-10-17  117.550003  779.960022  154.770004  57.220001\n",
      "2016-10-18  117.470001  795.260010  150.720001  57.660000\n",
      "2016-10-19  117.120003  801.500000  151.259995  57.529999\n",
      "2016-10-20  117.059998  796.969971  151.520004  57.250000\n",
      "2016-10-21  116.599998  799.369995  149.630005  59.660000\n",
      "\n",
      "[1714 rows x 4 columns]\n"
     ]
    }
   ],
   "source": [
    "df = pd.DataFrame(price)\n",
    "print(df)"
   ]
  },
  {
   "cell_type": "code",
   "execution_count": null,
   "id": "831eb09c-1d56-47c8-a7eb-736d91fd71ef",
   "metadata": {},
   "outputs": [],
   "source": [
    "df.head()\n"
   ]
  },
  {
   "cell_type": "code",
   "execution_count": 6,
   "id": "3bc84c96-e454-4ac8-a5f2-ba19f4e09a1a",
   "metadata": {},
   "outputs": [
    {
     "name": "stdout",
     "output_type": "stream",
     "text": [
      "                AAPL      GOOG       IBM      MSFT\n",
      "Date                                              \n",
      "2010-01-04  0.000000  0.000000  0.000000  0.000000\n",
      "2010-01-05  0.001729 -0.004404 -0.012080  0.000323\n",
      "2010-01-06 -0.015906 -0.025209 -0.006496 -0.006137\n",
      "2010-01-07 -0.001849 -0.023280 -0.003462 -0.010400\n",
      "2010-01-08  0.006648  0.013331  0.010035  0.006897\n",
      "...              ...       ...       ...       ...\n",
      "2016-10-17 -0.000680  0.001837  0.002072 -0.003483\n",
      "2016-10-18 -0.000681  0.019616 -0.026168  0.007690\n",
      "2016-10-19 -0.002979  0.007846  0.003583 -0.002255\n",
      "2016-10-20 -0.000512 -0.005652  0.001719 -0.004867\n",
      "2016-10-21 -0.003930  0.003011 -0.012474  0.042096\n",
      "\n",
      "[1714 rows x 4 columns]\n"
     ]
    }
   ],
   "source": [
    "pc = df.pct_change()\n",
    "newpc=pc.fillna(0)\n",
    "print(newpc)\n"
   ]
  },
  {
   "cell_type": "code",
   "execution_count": 17,
   "id": "23e82527-bd23-42b6-a86f-12a565acfae8",
   "metadata": {},
   "outputs": [
    {
     "name": "stdout",
     "output_type": "stream",
     "text": [
      "Date\n",
      "2010-01-04    0.000000\n",
      "2010-01-05   -0.012080\n",
      "2010-01-06   -0.006496\n",
      "2010-01-07   -0.003462\n",
      "2010-01-08    0.010035\n",
      "                ...   \n",
      "2016-10-17    0.002072\n",
      "2016-10-18   -0.026168\n",
      "2016-10-19    0.003583\n",
      "2016-10-20    0.001719\n",
      "2016-10-21   -0.012474\n",
      "Name: IBM, Length: 1714, dtype: float64\n",
      "Date\n",
      "2010-01-04    0.000000\n",
      "2010-01-05    0.000323\n",
      "2010-01-06   -0.006137\n",
      "2010-01-07   -0.010400\n",
      "2010-01-08    0.006897\n",
      "                ...   \n",
      "2016-10-17   -0.003483\n",
      "2016-10-18    0.007690\n",
      "2016-10-19   -0.002255\n",
      "2016-10-20   -0.004867\n",
      "2016-10-21    0.042096\n",
      "Name: MSFT, Length: 1714, dtype: float64\n"
     ]
    }
   ],
   "source": [
    "ibm = newpc[\"IBM\"]\n",
    "msft = newpc[\"MSFT\"]\n",
    "print(ibm)\n",
    "print(msft)"
   ]
  },
  {
   "cell_type": "code",
   "execution_count": 9,
   "id": "888a6dad-f4b9-42fc-ae90-2ef1e325cfb1",
   "metadata": {},
   "outputs": [
    {
     "name": "stdout",
     "output_type": "stream",
     "text": [
      "1714\n"
     ]
    }
   ],
   "source": [
    "print(len(ibm))"
   ]
  },
  {
   "cell_type": "code",
   "execution_count": 44,
   "id": "7eeb91a1-4f5a-4972-a19a-8a811f6c00e9",
   "metadata": {
    "scrolled": true
   },
   "outputs": [
    {
     "name": "stdout",
     "output_type": "stream",
     "text": [
      "IBM mean =  0.00023578340374124098\n",
      "MSFT mean =  0.0005947098583016726\n",
      "IBM variance = 0.0001462851874135756\n",
      "NSFT variance = 0.0001462851874135756\n",
      "IDM std dev = 0.012094841355452978\n",
      "MSFT std dev = 0.012094841355452978\n",
      "The covariance between IBM & MSFT is  8.860312842304405e-05\n",
      "The time of execution for the numpy version is : 16.366958618164062 ms\n"
     ]
    }
   ],
   "source": [
    "IBM_sum=0\n",
    "for x in ibm:\n",
    "    IBM_sum +=x\n",
    "IBM_mean = IBM_sum/len(ibm)\n",
    "#print(\"IBM sum = \",IBM_sum)\n",
    "\n",
    "print(\"IBM mean = \",IBM_mean)\n",
    "\n",
    "MSFT_sum=0\n",
    "for x in msft:\n",
    "    MSFT_sum += x\n",
    "MSFT_mean = MSFT_sum/len(msft)\n",
    "#print(\"MSFT sum = \",MSFT_sum)\n",
    "\n",
    "print(\"MSFT mean = \",MSFT_mean)\n",
    "\n",
    "t1 = 0\n",
    "for x in ibm:\n",
    "    t1 += (x - IBM_mean)**2\n",
    "IBM_var =t1/len(ibm)\n",
    "print(\"IBM variance =\",IBM_var)\n",
    "\n",
    "t2 = 0\n",
    "for x in msft:\n",
    "    t2 += (x - MSFT_mean)**2\n",
    "MSFT_var =t1/len(msft)\n",
    "print(\"NSFT variance =\",MSFT_var)\n",
    "\n",
    "IBM_std= IBM_var**.5\n",
    "print(\"IDM std dev =\",IBM_std)\n",
    "\n",
    "MSFT_std= MSFT_var**.5\n",
    "print(\"MSFT std dev =\",MSFT_std)\n",
    "\n",
    "start_time = time.time()\n",
    "covar =0\n",
    "prod=0\n",
    "start_time = time.time()\n",
    "for i in range(len(ibm)):\n",
    "    prod += ((ibm.iloc[i] -IBM_mean) * (msft.iloc[i] - MSFT_mean))\n",
    "covar = prod/len(ibm)\n",
    "#print(prod)\n",
    "end = time.time()\n",
    "elapsed_time = end - start_time\n",
    "print(\"The covariance between IBM & MSFT is \",covar)\n",
    "\n",
    "print(\"The time of execution for the numpy version is :\",\n",
    "      (elapsed_time) * 10**3, \"ms\")\n",
    "\n",
    "    \n",
    "    "
   ]
  },
  {
   "cell_type": "markdown",
   "id": "9d4c8dcf-78cf-4266-b089-abdf15c77e10",
   "metadata": {},
   "source": [
    "## using built in functions"
   ]
  },
  {
   "cell_type": "code",
   "execution_count": 45,
   "id": "a16e5962-d9c6-4553-b83e-b192b9c9c64a",
   "metadata": {},
   "outputs": [
    {
     "name": "stdout",
     "output_type": "stream",
     "text": [
      " Covariance  (IBM, MFST)(with 0 dof) --> 8.865477046849079e-05\n",
      "The time of execution for the numpy version is : 0.0 ms\n"
     ]
    }
   ],
   "source": [
    "start_time = time.time()\n",
    "print(f\" Covariance  (IBM, MFST)(with 0 dof) --> {pc['IBM'].cov(pc['MSFT'], ddof=0)}\")\n",
    "end = time.time()\n",
    "elapsed_time = end - start_time\n",
    "print(\"The time of execution for the pandas version is :\",\n",
    "      (elapsed_time) * 10**3, \"ms\")\n"
   ]
  },
  {
   "cell_type": "code",
   "execution_count": 42,
   "id": "c3429789-1cc5-419c-9f84-f546846b56e8",
   "metadata": {},
   "outputs": [
    {
     "name": "stdout",
     "output_type": "stream",
     "text": [
      " Covariance  (IBM, MFST)(with 1 dof) --> 8.870655479703546e-05\n"
     ]
    }
   ],
   "source": [
    "print(f\" Covariance  (IBM, MFST)(with 1 dof) --> {pc['IBM'].cov(pc['MSFT'], ddof=1)}\")"
   ]
  },
  {
   "cell_type": "code",
   "execution_count": null,
   "id": "2eb52cca-638d-43db-a408-7e80cf40c1b8",
   "metadata": {},
   "outputs": [],
   "source": []
  }
 ],
 "metadata": {
  "kernelspec": {
   "display_name": "Python 3 (ipykernel)",
   "language": "python",
   "name": "python3"
  },
  "language_info": {
   "codemirror_mode": {
    "name": "ipython",
    "version": 3
   },
   "file_extension": ".py",
   "mimetype": "text/x-python",
   "name": "python",
   "nbconvert_exporter": "python",
   "pygments_lexer": "ipython3",
   "version": "3.12.4"
  }
 },
 "nbformat": 4,
 "nbformat_minor": 5
}
