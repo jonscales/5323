{
 "cells": [
  {
   "cell_type": "code",
   "execution_count": 33,
   "id": "prostate-industry",
   "metadata": {},
   "outputs": [],
   "source": [
    "# This is how you import the library\n",
    "# Numpy = NUMERICAL PYTHON\n",
    "\n",
    "import numpy as np\n",
    "import time"
   ]
  },
  {
   "cell_type": "code",
   "execution_count": 35,
   "id": "photographic-parade",
   "metadata": {},
   "outputs": [
    {
     "name": "stdout",
     "output_type": "stream",
     "text": [
      "[       0        1        2 ... 99999997 99999998 99999999]\n",
      "The time of execution for the numpy version is : 383.1615447998047 ms\n",
      "4999999950000000\n",
      "====================================\n"
     ]
    }
   ],
   "source": [
    "# summation first 1Million numbers\n",
    "start_time = time.time()\n",
    "values = np.arange(100000000, dtype=np.uint64)\n",
    "print(values)\n",
    "result = np.sum(values)\n",
    "end = time.time()\n",
    "elapsed_time = end - start_time\n",
    "print(\"The time of execution for the numpy version is :\",\n",
    "      (elapsed_time) * 10**3, \"ms\")\n",
    "print(result)\n",
    "print(\"====================================\")"
   ]
  },
  {
   "cell_type": "code",
   "execution_count": 39,
   "id": "unavailable-tucson",
   "metadata": {},
   "outputs": [
    {
     "name": "stdout",
     "output_type": "stream",
     "text": [
      "The time of execution for the python version is : 13359.179019927979 ms\n",
      "4999999950000000\n"
     ]
    }
   ],
   "source": [
    "start_time = time.time()\n",
    "summation = 0\n",
    "x = range(0, 100000000)\n",
    "for n in x:\n",
    "    summation = summation + n\n",
    "end = time.time()\n",
    "elapsed_time = end - start_time\n",
    "print(\"The time of execution for the python version is :\",\n",
    "      (elapsed_time) * 10**3, \"ms\")\n",
    "print(summation)"
   ]
  },
  {
   "cell_type": "code",
   "execution_count": 41,
   "id": "amateur-export",
   "metadata": {},
   "outputs": [
    {
     "name": "stdout",
     "output_type": "stream",
     "text": [
      "The time of execution for the python version is : 23888.935327529907 ms\n",
      "4999999950000000\n"
     ]
    }
   ],
   "source": [
    "start_time = time.time()\n",
    "summation = 0\n",
    "summation = sum(list(range(0, 100000000)))\n",
    "end = time.time()\n",
    "elapsed_time = end - start_time\n",
    "print(\"The time of execution for the python version is :\",\n",
    "      (elapsed_time) * 10**3, \"ms\")\n",
    "print(summation)"
   ]
  },
  {
   "cell_type": "code",
   "execution_count": 11,
   "id": "formed-twenty",
   "metadata": {},
   "outputs": [],
   "source": [
    "# This is just a typical and simple python list. This is has nothing to do\n",
    "# with numpy\n",
    "mylist = [1,2,3]"
   ]
  },
  {
   "cell_type": "code",
   "execution_count": 13,
   "id": "color-patent",
   "metadata": {},
   "outputs": [
    {
     "data": {
      "text/plain": [
       "array([1, 2, 3])"
      ]
     },
     "execution_count": 13,
     "metadata": {},
     "output_type": "execute_result"
    }
   ],
   "source": [
    "# here we are type-casting a python-list into a numpy-array\n",
    "np.array(mylist)"
   ]
  },
  {
   "cell_type": "code",
   "execution_count": 15,
   "id": "descending-fashion",
   "metadata": {},
   "outputs": [],
   "source": [
    "# this is a nested-python-list, nothing to do with numpy \n",
    "nested_list = [[1,2], [3,4], [5,6]]"
   ]
  },
  {
   "cell_type": "code",
   "execution_count": 17,
   "id": "chronic-jackson",
   "metadata": {},
   "outputs": [
    {
     "name": "stdout",
     "output_type": "stream",
     "text": [
      "[[1, 2], [3, 4], [5, 6]]\n"
     ]
    }
   ],
   "source": [
    "print(nested_list)"
   ]
  },
  {
   "cell_type": "code",
   "execution_count": 19,
   "id": "fantastic-spanking",
   "metadata": {},
   "outputs": [
    {
     "name": "stdout",
     "output_type": "stream",
     "text": [
      "[[1 2]\n",
      " [3 4]\n",
      " [5 6]]\n"
     ]
    }
   ],
   "source": [
    "# here we are type-casting a nested-python-list into a numpy-array\n",
    "# in this case the array will be a 2-D array(matrix)\n",
    "print(np.array(nested_list))"
   ]
  },
  {
   "cell_type": "code",
   "execution_count": 21,
   "id": "metallic-enemy",
   "metadata": {},
   "outputs": [
    {
     "name": "stdout",
     "output_type": "stream",
     "text": [
      "[0 2 4 6 8]\n"
     ]
    }
   ],
   "source": [
    "# arange will allow you to define a set of values as follows\n",
    "# arange(start, stop, step)\n",
    "# BE AWARE THAT THE STOP VALUE IS NOT INCLUDED\n",
    "# example 1\n",
    "print(np.arange(0,10,2))"
   ]
  },
  {
   "cell_type": "code",
   "execution_count": 23,
   "id": "accredited-village",
   "metadata": {},
   "outputs": [
    {
     "data": {
      "text/plain": [
       "array([ 0,  2,  4,  6,  8, 10])"
      ]
     },
     "execution_count": 23,
     "metadata": {},
     "output_type": "execute_result"
    }
   ],
   "source": [
    "# arange will allow you to define a set of values as follows\n",
    "# arange(start, stop, step)\n",
    "# BE AWARE THAT THE STOP VALUE IS NOT INCLUDED\n",
    "# example 2\n",
    "np.arange(0,11,2)"
   ]
  },
  {
   "cell_type": "code",
   "execution_count": 25,
   "id": "stone-demonstration",
   "metadata": {},
   "outputs": [
    {
     "data": {
      "text/plain": [
       "array([0., 0., 0.])"
      ]
     },
     "execution_count": 25,
     "metadata": {},
     "output_type": "execute_result"
    }
   ],
   "source": [
    "# zeros.\n",
    "#very useful to quickly create arrays or matrices full of zeroes\n",
    "np.zeros(3)"
   ]
  },
  {
   "cell_type": "code",
   "execution_count": 27,
   "id": "charming-livestock",
   "metadata": {},
   "outputs": [
    {
     "ename": "TypeError",
     "evalue": "Cannot interpret '10' as a data type",
     "output_type": "error",
     "traceback": [
      "\u001b[1;31m---------------------------------------------------------------------------\u001b[0m",
      "\u001b[1;31mTypeError\u001b[0m                                 Traceback (most recent call last)",
      "Cell \u001b[1;32mIn[27], line 2\u001b[0m\n\u001b[0;32m      1\u001b[0m \u001b[38;5;66;03m# why is failing ???? you will see why on the cell below\u001b[39;00m\n\u001b[1;32m----> 2\u001b[0m np\u001b[38;5;241m.\u001b[39mzeros(\u001b[38;5;241m4\u001b[39m,\u001b[38;5;241m10\u001b[39m)\n",
      "\u001b[1;31mTypeError\u001b[0m: Cannot interpret '10' as a data type"
     ]
    }
   ],
   "source": [
    "# why is failing ???? you will see why on the cell below\n",
    "np.zeros(4,10)"
   ]
  },
  {
   "cell_type": "code",
   "execution_count": 29,
   "id": "provincial-return",
   "metadata": {},
   "outputs": [
    {
     "data": {
      "text/plain": [
       "array([[0., 0., 0., 0., 0., 0., 0., 0., 0., 0.],\n",
       "       [0., 0., 0., 0., 0., 0., 0., 0., 0., 0.],\n",
       "       [0., 0., 0., 0., 0., 0., 0., 0., 0., 0.],\n",
       "       [0., 0., 0., 0., 0., 0., 0., 0., 0., 0.]])"
      ]
     },
     "execution_count": 29,
     "metadata": {},
     "output_type": "execute_result"
    }
   ],
   "source": [
    "# this one works? why? what is the diference? \n",
    "# answer: it expects a tuple\n",
    "np.zeros((4,10))"
   ]
  },
  {
   "cell_type": "code",
   "execution_count": 31,
   "id": "descending-letter",
   "metadata": {},
   "outputs": [
    {
     "data": {
      "text/plain": [
       "array([1., 1., 1.])"
      ]
     },
     "execution_count": 31,
     "metadata": {},
     "output_type": "execute_result"
    }
   ],
   "source": [
    "# ones.\n",
    "#very useful to quickly create arrays or matrices full of ones\n",
    "np.ones(3)"
   ]
  },
  {
   "cell_type": "code",
   "execution_count": null,
   "id": "satisfied-privacy",
   "metadata": {},
   "outputs": [],
   "source": [
    "# why it fails????\n",
    "np.ones(4,10)"
   ]
  },
  {
   "cell_type": "code",
   "execution_count": 33,
   "id": "optimum-remove",
   "metadata": {},
   "outputs": [
    {
     "data": {
      "text/plain": [
       "array([[1., 1., 1., 1., 1., 1., 1., 1., 1., 1.],\n",
       "       [1., 1., 1., 1., 1., 1., 1., 1., 1., 1.],\n",
       "       [1., 1., 1., 1., 1., 1., 1., 1., 1., 1.],\n",
       "       [1., 1., 1., 1., 1., 1., 1., 1., 1., 1.]])"
      ]
     },
     "execution_count": 33,
     "metadata": {},
     "output_type": "execute_result"
    }
   ],
   "source": [
    "# this one works? why? what is the diference? \n",
    "# answer: it expects a tuple\n",
    "np.ones((4,10))"
   ]
  },
  {
   "cell_type": "code",
   "execution_count": 35,
   "id": "unexpected-width",
   "metadata": {},
   "outputs": [
    {
     "data": {
      "text/plain": [
       "array([ 0.,  5., 10.])"
      ]
     },
     "execution_count": 35,
     "metadata": {},
     "output_type": "execute_result"
    }
   ],
   "source": [
    "# Linspace - Linearly spaced - example 1\n",
    "# Evenly distributed numbers over an interval of interest\n",
    "# Format: linspace(start, stop, how many #s  you want)\n",
    "# linspace(0,10,3)  MEANS\n",
    "# a. start = 1st value will be zero\n",
    "# b. stop = last value will be 10\n",
    "# c. # of samples = 3\n",
    "# BE AWARE THAT THIS INSTRUCTIONS INCLUDES-INCLUDES-INCLUDES the stop value\n",
    "# VERY - VERY SIMILAR TO MATLAB AND OCTAVE\n",
    "np.linspace(0,10,3)"
   ]
  },
  {
   "cell_type": "code",
   "execution_count": 37,
   "id": "banned-arbor",
   "metadata": {},
   "outputs": [
    {
     "data": {
      "text/plain": [
       "array([ 0. ,  2.5,  5. ,  7.5, 10. ])"
      ]
     },
     "execution_count": 37,
     "metadata": {},
     "output_type": "execute_result"
    }
   ],
   "source": [
    "# Linspace - Linearly spaced - example 2\n",
    "np.linspace(0,10,5)"
   ]
  },
  {
   "cell_type": "code",
   "execution_count": 39,
   "id": "thorough-nickname",
   "metadata": {},
   "outputs": [
    {
     "data": {
      "text/plain": [
       "array([ 0.,  2.,  4.,  6.,  8., 10.])"
      ]
     },
     "execution_count": 39,
     "metadata": {},
     "output_type": "execute_result"
    }
   ],
   "source": [
    "# Linspace - Linearly spaced - example 3\n",
    "np.linspace(0,10,6)"
   ]
  },
  {
   "cell_type": "code",
   "execution_count": 41,
   "id": "phantom-resident",
   "metadata": {},
   "outputs": [
    {
     "data": {
      "text/plain": [
       "array([[1., 0., 0., 0., 0.],\n",
       "       [0., 1., 0., 0., 0.],\n",
       "       [0., 0., 1., 0., 0.],\n",
       "       [0., 0., 0., 1., 0.],\n",
       "       [0., 0., 0., 0., 1.]])"
      ]
     },
     "execution_count": 41,
     "metadata": {},
     "output_type": "execute_result"
    }
   ],
   "source": [
    "# Identity matrix  = diagonal is equal to 1, everything else is zero\n",
    "# Identity matrices are always square.\n",
    "# for such reason you only need one number\n",
    "np.eye(5)"
   ]
  },
  {
   "cell_type": "code",
   "execution_count": 43,
   "id": "identified-ecuador",
   "metadata": {},
   "outputs": [
    {
     "data": {
      "text/plain": [
       "array([0.87402238, 0.13598794])"
      ]
     },
     "execution_count": 43,
     "metadata": {},
     "output_type": "execute_result"
    }
   ],
   "source": [
    "# generatates an array with two random numbers\n",
    "# Create an array of the given shape and populate it with random samples \n",
    "# from a uniform distribution over [0, 1).\n",
    "#https://numpy.org/doc/stable/reference/random/generated/numpy.random.rand.html \n",
    "\n",
    "np.random.rand(2)"
   ]
  },
  {
   "cell_type": "code",
   "execution_count": 45,
   "id": "vulnerable-header",
   "metadata": {},
   "outputs": [
    {
     "data": {
      "text/plain": [
       "array([[0.83183179, 0.38794942, 0.18202183, 0.09690545],\n",
       "       [0.6452022 , 0.59490129, 0.70273755, 0.43726196],\n",
       "       [0.457976  , 0.13137185, 0.8121324 , 0.61833759]])"
      ]
     },
     "execution_count": 45,
     "metadata": {},
     "output_type": "execute_result"
    }
   ],
   "source": [
    "# generatates an array with two random numbers\n",
    "# random samples from a uniform distribution\n",
    "# a Tuple is not required here\n",
    "# Again, values between [0,1)\n",
    "\n",
    "np.random.rand(3,4)  #here we are asking for a 3x4 matrix full of random numbers"
   ]
  },
  {
   "cell_type": "code",
   "execution_count": 47,
   "id": "circular-latvia",
   "metadata": {},
   "outputs": [
    {
     "data": {
      "text/plain": [
       "array([[-0.76369467, -1.0653628 ,  1.19520787,  0.55427914, -0.32073154],\n",
       "       [-0.78936716, -3.11500396,  1.80738829, -0.64532174,  0.13395599],\n",
       "       [-0.40051061, -1.23409816, -0.57841395, -0.1431988 , -0.66699252],\n",
       "       [-0.95310949,  0.94316171,  1.73513473,  0.27081253, -0.58506458],\n",
       "       [ 0.66168503, -2.09669278,  0.80328168,  2.02779694,  0.57611275]])"
      ]
     },
     "execution_count": 47,
     "metadata": {},
     "output_type": "execute_result"
    }
   ],
   "source": [
    "# generatates an array with two random numbers\n",
    "# random samples from a \"standard normal\" distribution\n",
    "# mean 0 and variance 1\n",
    "# https://numpy.org/doc/stable/reference/random/generated/numpy.random.randn.html\n",
    "\n",
    "np.random.randn(5,5)"
   ]
  },
  {
   "cell_type": "code",
   "execution_count": 49,
   "id": "headed-stationery",
   "metadata": {},
   "outputs": [
    {
     "data": {
      "text/plain": [
       "89"
      ]
     },
     "execution_count": 49,
     "metadata": {},
     "output_type": "execute_result"
    }
   ],
   "source": [
    "# random.randint(low, high=None, size=None, dtype=int)\n",
    "# generates ONE random integer value between 1 and 100\n",
    "# https://numpy.org/doc/stable/reference/random/generated/numpy.random.randint.html\n",
    "\n",
    "np.random.randint(1,100)"
   ]
  },
  {
   "cell_type": "code",
   "execution_count": 11,
   "id": "automated-frontier",
   "metadata": {},
   "outputs": [
    {
     "data": {
      "text/plain": [
       "array([ 4,  4,  6, 10,  3,  9,  7,  5,  7,  6,  5,  8,  9,  5,  6,  1, 10,\n",
       "        7, 10,  7,  1,  1,  9,  7, 10,  8,  9,  5,  3,  5,  9,  9,  9,  2,\n",
       "        7,  3,  5, 10,  2,  1,  7,  7, 10,  7,  8,  2,  4,  8,  8,  7,  9,\n",
       "        5,  6,  9,  6,  4,  4,  3,  6,  2,  1, 10,  5,  5,  7,  6,  4,  8,\n",
       "        8, 10,  5, 10,  2,  6,  7,  2,  6,  9,  5, 10,  7,  4,  7,  3,  3,\n",
       "        3,  7,  6,  8,  1,  4,  2, 10,  1,  8,  6,  7,  2,  7,  3])"
      ]
     },
     "execution_count": 11,
     "metadata": {},
     "output_type": "execute_result"
    }
   ],
   "source": [
    "# generates 10 random integers values between 1 and 100. The samples\n",
    "# will be returned in a 10 element array\n",
    "np.random.randint(1,11,100)"
   ]
  },
  {
   "cell_type": "code",
   "execution_count": 23,
   "id": "passing-vermont",
   "metadata": {},
   "outputs": [
    {
     "data": {
      "text/plain": [
       "array([[ 3,  4,  6,  2,  3, 10, 10,  3,  7,  9],\n",
       "       [ 1,  8,  6,  1,  8,  4, 10,  7,  6,  6],\n",
       "       [ 5,  6,  2,  5,  6, 10,  5,  6,  4,  8]])"
      ]
     },
     "execution_count": 23,
     "metadata": {},
     "output_type": "execute_result"
    }
   ],
   "source": [
    "# generates 2*3 random integers values between 1 and 100. The samples\n",
    "# will be returned in a 2-rows by 3-column matrix\n",
    "np.random.randint(1, 11, (3,10) ) #  EQUIVALENT --> np.random.randint(1, 100, size=(2,3))"
   ]
  },
  {
   "cell_type": "code",
   "execution_count": 55,
   "id": "annoying-strength",
   "metadata": {},
   "outputs": [
    {
     "data": {
      "text/plain": [
       "array([0, 0, 1, 0, 0, 1, 0, 1, 1, 1])"
      ]
     },
     "execution_count": 55,
     "metadata": {},
     "output_type": "execute_result"
    }
   ],
   "source": [
    "# Generates an array of 10 elements - between zero and 2 (2 excluded)\n",
    "np.random.randint(2, size=10)"
   ]
  },
  {
   "cell_type": "code",
   "execution_count": 57,
   "id": "defensive-strand",
   "metadata": {},
   "outputs": [
    {
     "data": {
      "text/plain": [
       "array([3, 1, 2, 2, 1, 3, 3, 0])"
      ]
     },
     "execution_count": 57,
     "metadata": {},
     "output_type": "execute_result"
    }
   ],
   "source": [
    "# Generates an array of 8 elements - between 0 and 4 (4 excluded)\n",
    "np.random.randint(4, size=8)"
   ]
  },
  {
   "cell_type": "code",
   "execution_count": null,
   "id": "about-gardening",
   "metadata": {},
   "outputs": [],
   "source": []
  },
  {
   "cell_type": "code",
   "execution_count": 61,
   "id": "taken-russia",
   "metadata": {},
   "outputs": [
    {
     "data": {
      "text/plain": [
       "array([0.37454012, 0.95071431, 0.73199394, 0.59865848])"
      ]
     },
     "execution_count": 61,
     "metadata": {},
     "output_type": "execute_result"
    }
   ],
   "source": [
    "# Do you need numbers that have reproducibility\n",
    "# then use a random seed - execute this cell multiple times and observe\n",
    "np.random.seed(42)\n",
    "np.random.rand(4)"
   ]
  },
  {
   "cell_type": "markdown",
   "id": "future-petite",
   "metadata": {},
   "source": [
    "# RESHAPING"
   ]
  },
  {
   "cell_type": "code",
   "execution_count": 63,
   "id": "global-handy",
   "metadata": {},
   "outputs": [
    {
     "data": {
      "text/plain": [
       "array([ 6, 18, 10, 10,  3,  7,  2,  1, 11,  5,  1,  0, 11, 11, 16,  9])"
      ]
     },
     "execution_count": 63,
     "metadata": {},
     "output_type": "execute_result"
    }
   ],
   "source": [
    "#Step 1: Generate the data\n",
    "#reshape a one-D vector into a 2-D array (matrix)\n",
    "\n",
    "ecArray = np.random.randint(0,20,16)\n",
    "ecArray"
   ]
  },
  {
   "cell_type": "code",
   "execution_count": 65,
   "id": "intermediate-mobility",
   "metadata": {},
   "outputs": [
    {
     "name": "stdout",
     "output_type": "stream",
     "text": [
      "this is known as rank 1 array: (16,)\n"
     ]
    }
   ],
   "source": [
    "# Step 2. Check the size\n",
    "#checking the shape of our array\n",
    "ecArray.shape\n",
    "print(f\"this is known as rank 1 array: {ecArray.shape}\")"
   ]
  },
  {
   "cell_type": "code",
   "execution_count": null,
   "id": "advisory-contrary",
   "metadata": {},
   "outputs": [],
   "source": [
    "# Step 3. Try to reshape it.\n",
    "# this one will fail. WHY ?? -->The answer is related to the previous cell\n",
    "ecArray.reshape(4,5)"
   ]
  },
  {
   "cell_type": "code",
   "execution_count": null,
   "id": "rural-yugoslavia",
   "metadata": {},
   "outputs": [],
   "source": [
    "# Step 3. Try to reshape it.\n",
    "# this one will fail?? why??\n",
    "ecArray.reshape(4,3)"
   ]
  },
  {
   "cell_type": "code",
   "execution_count": 67,
   "id": "loving-cursor",
   "metadata": {},
   "outputs": [
    {
     "data": {
      "text/plain": [
       "array([[ 6, 18, 10, 10],\n",
       "       [ 3,  7,  2,  1],\n",
       "       [11,  5,  1,  0],\n",
       "       [11, 11, 16,  9]])"
      ]
     },
     "execution_count": 67,
     "metadata": {},
     "output_type": "execute_result"
    }
   ],
   "source": [
    "# Step 3. Try to reshape it.\n",
    "# this one will work?? why??\n",
    "ecArray.reshape(4,4)"
   ]
  },
  {
   "cell_type": "code",
   "execution_count": 69,
   "id": "improved-reputation",
   "metadata": {},
   "outputs": [
    {
     "name": "stdout",
     "output_type": "stream",
     "text": [
      "[ 6 18 10 10  3  7  2  1 11  5  1  0 11 11 16  9]\n",
      "18\n",
      "18\n"
     ]
    }
   ],
   "source": [
    "# finds the maximum\n",
    "print(ecArray)\n",
    "print(ecArray.max())\n",
    "print(np.max(ecArray))"
   ]
  },
  {
   "cell_type": "code",
   "execution_count": 71,
   "id": "configured-airport",
   "metadata": {},
   "outputs": [
    {
     "name": "stdout",
     "output_type": "stream",
     "text": [
      "[ 6 18 10 10  3  7  2  1 11  5  1  0 11 11 16  9]\n",
      "1\n",
      "1\n"
     ]
    }
   ],
   "source": [
    "# returns the indices of the maximum values along an axis.\n",
    "print(ecArray)\n",
    "print(ecArray.argmax())\n",
    "print(np.argmax(ecArray))"
   ]
  },
  {
   "cell_type": "code",
   "execution_count": 73,
   "id": "legendary-tracy",
   "metadata": {},
   "outputs": [
    {
     "name": "stdout",
     "output_type": "stream",
     "text": [
      "[ 6 18 10 10  3  7  2  1 11  5  1  0 11 11 16  9]\n",
      "0\n",
      "0\n"
     ]
    }
   ],
   "source": [
    "# finds the minimum\n",
    "print(ecArray)\n",
    "print(ecArray.min())\n",
    "print(np.min(ecArray))"
   ]
  },
  {
   "cell_type": "code",
   "execution_count": 75,
   "id": "adequate-richardson",
   "metadata": {},
   "outputs": [
    {
     "name": "stdout",
     "output_type": "stream",
     "text": [
      "[ 6 18 10 10  3  7  2  1 11  5  1  0 11 11 16  9]\n",
      "11\n",
      "11\n"
     ]
    }
   ],
   "source": [
    "#returns the indices of the minimum values along an axis.\n",
    "print(ecArray)\n",
    "print(ecArray.argmin())\n",
    "print(np.argmin(ecArray))"
   ]
  },
  {
   "cell_type": "code",
   "execution_count": 25,
   "id": "roman-invention",
   "metadata": {},
   "outputs": [
    {
     "data": {
      "text/plain": [
       "array([43, 12, 39, 71, 10, 25, 31, 19, 55, 33, 86, 33,  8, 70, 32, 18, 84,\n",
       "       29,  2, 59,  7, 33, 96,  3, 87, 80, 31, 74, 70, 95, 17, 71, 55, 77,\n",
       "       64, 97, 73, 99, 41, 44, 28, 34, 99, 22, 92, 76, 23, 91, 23, 28, 25,\n",
       "       64,  8,  4, 64,  9, 64, 33, 21, 82,  8, 56, 49, 47, 36, 89, 17, 49,\n",
       "       12, 93, 22, 65,  9, 18, 24, 54, 35, 73, 93,  2, 75, 70, 62, 40, 69,\n",
       "       20, 63, 40, 21, 10, 28, 38, 93, 58, 92, 82,  7, 85, 53, 79])"
      ]
     },
     "execution_count": 25,
     "metadata": {},
     "output_type": "execute_result"
    }
   ],
   "source": [
    "# Generate 10 integers numbers between 1 and 100\n",
    "intArray =  np.random.randint(1,100,100)\n",
    "intArray"
   ]
  },
  {
   "cell_type": "code",
   "execution_count": 79,
   "id": "satisfied-candle",
   "metadata": {},
   "outputs": [
    {
     "data": {
      "text/plain": [
       "dtype('int32')"
      ]
     },
     "execution_count": 79,
     "metadata": {},
     "output_type": "execute_result"
    }
   ],
   "source": [
    "# how to examine what type your array is\n",
    "intArray.dtype"
   ]
  },
  {
   "cell_type": "code",
   "execution_count": 81,
   "id": "universal-briefs",
   "metadata": {},
   "outputs": [
    {
     "data": {
      "text/plain": [
       "array([0.98323089, 0.46676289, 0.85994041, 0.68030754])"
      ]
     },
     "execution_count": 81,
     "metadata": {},
     "output_type": "execute_result"
    }
   ],
   "source": [
    "# randombly \n",
    "floatArray =  np.random.rand(4)\n",
    "floatArray"
   ]
  },
  {
   "cell_type": "code",
   "execution_count": 83,
   "id": "supposed-polymer",
   "metadata": {},
   "outputs": [
    {
     "name": "stdout",
     "output_type": "stream",
     "text": [
      "float64\n"
     ]
    }
   ],
   "source": [
    "# how to examine what type your array is\n",
    "print(floatArray.dtype)"
   ]
  },
  {
   "cell_type": "code",
   "execution_count": null,
   "id": "hired-lingerie",
   "metadata": {},
   "outputs": [],
   "source": []
  }
 ],
 "metadata": {
  "kernelspec": {
   "display_name": "Python 3 (ipykernel)",
   "language": "python",
   "name": "python3"
  },
  "language_info": {
   "codemirror_mode": {
    "name": "ipython",
    "version": 3
   },
   "file_extension": ".py",
   "mimetype": "text/x-python",
   "name": "python",
   "nbconvert_exporter": "python",
   "pygments_lexer": "ipython3",
   "version": "3.12.4"
  }
 },
 "nbformat": 4,
 "nbformat_minor": 5
}
