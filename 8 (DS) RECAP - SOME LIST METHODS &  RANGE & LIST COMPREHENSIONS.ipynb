{
 "cells": [
  {
   "cell_type": "markdown",
   "metadata": {},
   "source": [
    "# METHODS a list example"
   ]
  },
  {
   "cell_type": "code",
   "execution_count": 11,
   "metadata": {},
   "outputs": [
    {
     "name": "stdout",
     "output_type": "stream",
     "text": [
      "[1, 2, 3, 4, 5, 6, 7, 8, 9, 10, 11, 11]\n",
      "=====================\n",
      "2\n",
      "=====================\n",
      "[1, 2, 5, 3, 4, 5, 6, 7, 8, 9, 10, 11, 11]\n",
      "=====================\n"
     ]
    }
   ],
   "source": [
    "#Methods are built-in functions. \n",
    "# These built-in functions \"methods are associated with objects and allow you to ... \n",
    "# ... perform actions on an onject\n",
    "\n",
    "#Some methods that can be used for lists\n",
    "# 1. .append\n",
    "# 2. .count\n",
    "# 3. .extend\n",
    "# 4. .insert\n",
    "# 5. .pop\n",
    "# 6. .remove\n",
    "# 7. reverse\n",
    "# 8. sort\n",
    "\n",
    "#basic example\n",
    "myList=[1, 2, 3, 4, 5, 6, 7, 8, 9, 10]\n",
    "#myList.  # Explain how to use TAB\n",
    "#myList.   #explain how to use SHIFT + TAB\n",
    "\n",
    "myList.append(11)\n",
    "myList.append(11)\n",
    "print(myList)\n",
    "print(\"=====================\")\n",
    "print(myList.count(11))\n",
    "print(\"=====================\")\n",
    "myList.insert(2,5)\n",
    "print(myList)\n",
    "print(\"=====================\")"
   ]
  },
  {
   "cell_type": "markdown",
   "metadata": {},
   "source": [
    "# More about Range"
   ]
  },
  {
   "cell_type": "code",
   "execution_count": 18,
   "metadata": {},
   "outputs": [
    {
     "name": "stdout",
     "output_type": "stream",
     "text": [
      "===========\n",
      "range(0, 5)\n",
      "<class 'range'>\n",
      "===========\n",
      "[0, 1, 2, 3, 4]\n",
      "<class 'list'>\n",
      "===========\n"
     ]
    }
   ],
   "source": [
    "#simple range example\n",
    "l1=range(0,5)\n",
    "print(\"===========\")\n",
    "print(l1)\n",
    "print(type(l1))\n",
    "print(\"===========\")\n",
    "l1 = list(l1)\n",
    "print(l1)\n",
    "print(type(l1))\n",
    "print(\"===========\")"
   ]
  },
  {
   "cell_type": "code",
   "execution_count": 20,
   "metadata": {},
   "outputs": [
    {
     "name": "stdout",
     "output_type": "stream",
     "text": [
      "[2, 4, 6, 8]\n"
     ]
    }
   ],
   "source": [
    "# range(a, b, c) where\n",
    "# a = initial value OR FROM\n",
    "# b = final value   OR TO\n",
    "# c = step OR increment\n",
    "l2 = list(range(2, 10, 2))\n",
    "print(l2)"
   ]
  },
  {
   "cell_type": "markdown",
   "metadata": {},
   "source": [
    "# Lists Comprehensions"
   ]
  },
  {
   "cell_type": "code",
   "execution_count": 22,
   "metadata": {},
   "outputs": [
    {
     "name": "stdout",
     "output_type": "stream",
     "text": [
      "['H', 'e', 'l', 'l', 'o']\n"
     ]
    }
   ],
   "source": [
    "#IDEA: \n",
    "# To give you the ability of building lists while using a completely different notation.\n",
    "# Think about it as a loop that is contained in squared brackets\n",
    "\n",
    "# Basic Example: With letters\n",
    "l3 = [letter for letter in 'Hello']\n",
    "print(l3)\n"
   ]
  },
  {
   "cell_type": "code",
   "execution_count": 26,
   "metadata": {},
   "outputs": [
    {
     "name": "stdout",
     "output_type": "stream",
     "text": [
      "[1, 3, 5, 7, 9]\n"
     ]
    }
   ],
   "source": [
    "#Basic Example: With numbers\n",
    "l4 = [num for num in range(1,10,2)]\n",
    "print(l4)"
   ]
  },
  {
   "cell_type": "code",
   "execution_count": 29,
   "metadata": {},
   "outputs": [
    {
     "name": "stdout",
     "output_type": "stream",
     "text": [
      "[1, 9, 25, 49, 81]\n"
     ]
    }
   ],
   "source": [
    "#Basic Example: With numbers but more complex\n",
    "l5 = [num**2 for num in range(1,10,2)]\n",
    "print(l5)"
   ]
  },
  {
   "cell_type": "code",
   "execution_count": 32,
   "metadata": {},
   "outputs": [
    {
     "name": "stdout",
     "output_type": "stream",
     "text": [
      "[3, 6, 9]\n"
     ]
    }
   ],
   "source": [
    "#Basic Example: With numbers but even more complex\n",
    "l6 = [num for num in range(1,10,1) if (num%3 == 0)]\n",
    "print(l6)"
   ]
  },
  {
   "cell_type": "code",
   "execution_count": 34,
   "metadata": {},
   "outputs": [
    {
     "name": "stdout",
     "output_type": "stream",
     "text": [
      "[9, 36, 81]\n"
     ]
    }
   ],
   "source": [
    "#Basic Example: With numbers but even a little bit more complex\n",
    "l7 = [num**2 for num in range(1,10,1) if (num%3 == 0)]\n",
    "print(l7)"
   ]
  },
  {
   "cell_type": "code",
   "execution_count": 36,
   "metadata": {},
   "outputs": [
    {
     "name": "stdout",
     "output_type": "stream",
     "text": [
      "[1.0, 2.0, 3.0, 4.0]\n"
     ]
    }
   ],
   "source": [
    "#Some other nice examples\n",
    "l8 = [2, 4, 6, 8]\n",
    "divide_by_Two = [(val/2.0) for val in l8]\n",
    "print(divide_by_Two)"
   ]
  },
  {
   "cell_type": "code",
   "execution_count": 38,
   "metadata": {},
   "outputs": [
    {
     "name": "stdout",
     "output_type": "stream",
     "text": [
      "[1.0, 3.0, 5.0, 7.0]\n"
     ]
    }
   ],
   "source": [
    "# You can even go deeper and have nested list comprehensions\n",
    "sourceList = [1, 81, 625, 2401]\n",
    "l9 = [val**0.5 for val in [val**0.5 for val in sourceList ]]\n",
    "print(l9)"
   ]
  },
  {
   "cell_type": "code",
   "execution_count": null,
   "metadata": {
    "collapsed": true,
    "jupyter": {
     "outputs_hidden": true
    }
   },
   "outputs": [],
   "source": []
  }
 ],
 "metadata": {
  "kernelspec": {
   "display_name": "Python 3 (ipykernel)",
   "language": "python",
   "name": "python3"
  },
  "language_info": {
   "codemirror_mode": {
    "name": "ipython",
    "version": 3
   },
   "file_extension": ".py",
   "mimetype": "text/x-python",
   "name": "python",
   "nbconvert_exporter": "python",
   "pygments_lexer": "ipython3",
   "version": "3.12.4"
  }
 },
 "nbformat": 4,
 "nbformat_minor": 4
}
