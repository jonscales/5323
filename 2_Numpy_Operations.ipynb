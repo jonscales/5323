{
 "cells": [
  {
   "cell_type": "markdown",
   "id": "4dfa96ac",
   "metadata": {},
   "source": [
    "# 1) Numpy Arithmetic Array Fxs\n",
    "https://numpy.org/doc/stable/reference/routines.math.html\n",
    "\n",
    "# 2) Numpy Universal Array Fxs\n",
    "https://numpy.org/doc/stable/reference/ufuncs.html\n",
    "\n",
    "# 3) Numpy Statistics Fxs\n",
    "https://numpy.org/doc/stable/reference/routines.statistics.html\n",
    "\n",
    "\n",
    "# Broadcasting\n",
    "https://numpy.org/doc/stable/user/basics.broadcasting.html"
   ]
  },
  {
   "cell_type": "code",
   "execution_count": 1,
   "id": "c2a2a301",
   "metadata": {},
   "outputs": [],
   "source": [
    "import numpy as np "
   ]
  },
  {
   "cell_type": "code",
   "execution_count": 2,
   "id": "b837ad4d",
   "metadata": {},
   "outputs": [
    {
     "name": "stdout",
     "output_type": "stream",
     "text": [
      "[10  9  8  7  6  5  4  3  2  1  0]\n"
     ]
    }
   ],
   "source": [
    "myArray = np.arange(10, -1, -1)\n",
    "print(myArray)"
   ]
  },
  {
   "cell_type": "markdown",
   "id": "c2160355",
   "metadata": {},
   "source": [
    "# Arithmetic between an array and a scalar"
   ]
  },
  {
   "cell_type": "code",
   "execution_count": 3,
   "id": "0045d6c1",
   "metadata": {},
   "outputs": [
    {
     "name": "stdout",
     "output_type": "stream",
     "text": [
      "[30 29 28 27 26 25 24 23 22 21 20]\n"
     ]
    }
   ],
   "source": [
    "# example 1\n",
    "# it will be an element wise operations (element by element)\n",
    "print(myArray + 20)"
   ]
  },
  {
   "cell_type": "code",
   "execution_count": 4,
   "id": "279e985e",
   "metadata": {},
   "outputs": [
    {
     "name": "stdout",
     "output_type": "stream",
     "text": [
      "[ 5  4  3  2  1  0 -1 -2 -3 -4 -5]\n"
     ]
    }
   ],
   "source": [
    "# example 2\n",
    "# it will be an element wise operations (element by element)\n",
    "print(myArray - 5)"
   ]
  },
  {
   "cell_type": "markdown",
   "id": "a7fb8a29",
   "metadata": {},
   "source": [
    "# Arithmetic between arrays"
   ]
  },
  {
   "cell_type": "code",
   "execution_count": 5,
   "id": "e1071614",
   "metadata": {},
   "outputs": [
    {
     "name": "stdout",
     "output_type": "stream",
     "text": [
      "[20 18 16 14 12 10  8  6  4  2  0]\n"
     ]
    }
   ],
   "source": [
    "# Example 1 - ELEMENT WISE (ELEMENT TO ELEMENT)\n",
    "# [10  9  8  7  6  5  4  3  2  1  0] \n",
    "#                  +\n",
    "# [10  9  8  7  6  5  4  3  2  1  0]\n",
    "#                  =\n",
    "# [20 18 16 14 12 10  8  6  4  2  0]\n",
    "print(myArray + myArray)"
   ]
  },
  {
   "cell_type": "markdown",
   "id": "e1cd932a",
   "metadata": {},
   "source": [
    "# How Numpy Handles division by zero"
   ]
  },
  {
   "cell_type": "code",
   "execution_count": 6,
   "id": "71be5312",
   "metadata": {},
   "outputs": [
    {
     "name": "stdout",
     "output_type": "stream",
     "text": [
      "[ 1.  1.  1.  1.  1.  1.  1.  1.  1.  1. nan]\n"
     ]
    },
    {
     "name": "stderr",
     "output_type": "stream",
     "text": [
      "D:\\SwInstalledHere\\Miniconda3\\envs\\tensorflow1X\\lib\\site-packages\\ipykernel_launcher.py:3: RuntimeWarning: invalid value encountered in true_divide\n",
      "  This is separate from the ipykernel package so we can avoid doing imports until\n"
     ]
    }
   ],
   "source": [
    "# Example 1\n",
    "# NAN = NOT A NUMBER = 0/0\n",
    "print(myArray/myArray)"
   ]
  },
  {
   "cell_type": "code",
   "execution_count": 7,
   "id": "57174444",
   "metadata": {},
   "outputs": [
    {
     "ename": "ZeroDivisionError",
     "evalue": "division by zero",
     "output_type": "error",
     "traceback": [
      "\u001b[1;31m---------------------------------------------------------------------------\u001b[0m",
      "\u001b[1;31mZeroDivisionError\u001b[0m                         Traceback (most recent call last)",
      "\u001b[1;32m<ipython-input-7-acc10f8a4528>\u001b[0m in \u001b[0;36m<module>\u001b[1;34m\u001b[0m\n\u001b[0;32m      1\u001b[0m \u001b[1;31m# Example 2 (PYTHON ONLY - THIS CELL DOES NOT HAVE ANY NUMPY)\u001b[0m\u001b[1;33m\u001b[0m\u001b[1;33m\u001b[0m\u001b[1;33m\u001b[0m\u001b[0m\n\u001b[1;32m----> 2\u001b[1;33m \u001b[1;36m1\u001b[0m\u001b[1;33m/\u001b[0m\u001b[1;36m0\u001b[0m\u001b[1;33m\u001b[0m\u001b[1;33m\u001b[0m\u001b[0m\n\u001b[0m",
      "\u001b[1;31mZeroDivisionError\u001b[0m: division by zero"
     ]
    }
   ],
   "source": [
    "# Example 2 (PYTHON ONLY - THIS CELL DOES NOT HAVE ANY NUMPY)\n",
    "1/0"
   ]
  },
  {
   "cell_type": "code",
   "execution_count": 8,
   "id": "a59c114d",
   "metadata": {},
   "outputs": [
    {
     "name": "stdout",
     "output_type": "stream",
     "text": [
      "[0.1        0.11111111 0.125      0.14285714 0.16666667 0.2\n",
      " 0.25       0.33333333 0.5        1.                inf]\n"
     ]
    },
    {
     "name": "stderr",
     "output_type": "stream",
     "text": [
      "D:\\SwInstalledHere\\Miniconda3\\envs\\tensorflow1X\\lib\\site-packages\\ipykernel_launcher.py:5: RuntimeWarning: divide by zero encountered in true_divide\n",
      "  \"\"\"\n"
     ]
    }
   ],
   "source": [
    "# Example 3\n",
    "# INFINITY  = SCALAR / 0 (NUMPY)\n",
    "# NUMPY DOES NOT GIVE YOU BACK A FULL ERROR, IT WILL GIVE YOU BACK WARNINGS\n",
    "# BUT STILL PROCESSES THE INSTRUCTION. THIS DOES NOT CRASH YOUR PROGRAM\n",
    "print(1/myArray)"
   ]
  },
  {
   "cell_type": "markdown",
   "id": "0c81f9db",
   "metadata": {},
   "source": [
    "# Some Arithmetic Functions"
   ]
  },
  {
   "cell_type": "code",
   "execution_count": 9,
   "id": "7da97428",
   "metadata": {},
   "outputs": [
    {
     "name": "stdout",
     "output_type": "stream",
     "text": [
      "[10  9  8  7  6  5  4  3  2  1  0]\n"
     ]
    }
   ],
   "source": [
    "# let's visualize the source array once again\n",
    "myArray = np.arange(10, -1, -1)\n",
    "print(myArray)"
   ]
  },
  {
   "cell_type": "code",
   "execution_count": 10,
   "id": "dfbb8cfa",
   "metadata": {},
   "outputs": [
    {
     "name": "stdout",
     "output_type": "stream",
     "text": [
      "[3.16227766 3.         2.82842712 2.64575131 2.44948974 2.23606798\n",
      " 2.         1.73205081 1.41421356 1.         0.        ]\n"
     ]
    }
   ],
   "source": [
    "# Example 1\n",
    "# computing the square root of all values in an array\n",
    "arraySqrt = np.sqrt(myArray)\n",
    "print(arraySqrt)"
   ]
  },
  {
   "cell_type": "code",
   "execution_count": 11,
   "id": "ba2fedd4",
   "metadata": {},
   "outputs": [
    {
     "name": "stdout",
     "output_type": "stream",
     "text": [
      "[  0  45  90 135 180 225 270 315 360]\n"
     ]
    }
   ],
   "source": [
    "# Example # 2\n",
    "# RE-define the array\n",
    "myArray = np.arange(0,405,45 )\n",
    "print(myArray)"
   ]
  },
  {
   "cell_type": "code",
   "execution_count": 12,
   "id": "6fc69c3e",
   "metadata": {},
   "outputs": [
    {
     "data": {
      "text/plain": [
       "array([ 0.00000000e+00,  7.07106781e-01,  1.00000000e+00,  7.07106781e-01,\n",
       "        1.22464680e-16, -7.07106781e-01, -1.00000000e+00, -7.07106781e-01,\n",
       "       -2.44929360e-16])"
      ]
     },
     "execution_count": 12,
     "metadata": {},
     "output_type": "execute_result"
    }
   ],
   "source": [
    "# Example 2 - CONTINUES\n",
    "# convert degrees to radians \n",
    "myArray = myArray * (np.pi / 180.)\n",
    "np.sin(myArray)"
   ]
  },
  {
   "cell_type": "code",
   "execution_count": 13,
   "id": "72df5759",
   "metadata": {},
   "outputs": [
    {
     "name": "stdout",
     "output_type": "stream",
     "text": [
      "[  0  45  90 135 180 225 270 315 360]\n"
     ]
    }
   ],
   "source": [
    "# Example 3\n",
    "# RE-define the array\n",
    "myArray = np.arange(0,405,45 )\n",
    "print(myArray)"
   ]
  },
  {
   "cell_type": "code",
   "execution_count": 14,
   "id": "fadb4504",
   "metadata": {},
   "outputs": [
    {
     "data": {
      "text/plain": [
       "array([ 0.00000000e+00,  7.07106781e-01,  1.00000000e+00,  7.07106781e-01,\n",
       "        1.22464680e-16, -7.07106781e-01, -1.00000000e+00, -7.07106781e-01,\n",
       "       -2.44929360e-16])"
      ]
     },
     "execution_count": 14,
     "metadata": {},
     "output_type": "execute_result"
    }
   ],
   "source": [
    "# Example 3 - CONTINUES\n",
    "# ALTERNATIVE WAY TO CONVERT FROM DEGREES TO RADIANS\n",
    "myArray = np.radians(myArray)\n",
    "np.sin(myArray)"
   ]
  },
  {
   "cell_type": "code",
   "execution_count": 17,
   "id": "75b96de9",
   "metadata": {},
   "outputs": [
    {
     "name": "stdout",
     "output_type": "stream",
     "text": [
      "[      0       1      10     100    1000   10000  100000 1000000]\n"
     ]
    }
   ],
   "source": [
    "# Example 4\n",
    "# RE-define the array\n",
    "myArray = np.array([0, 1 ,10, 100, 1000, 10000, 100000, 1000000])\n",
    "print(myArray)"
   ]
  },
  {
   "cell_type": "code",
   "execution_count": 18,
   "id": "7838e8ff",
   "metadata": {},
   "outputs": [
    {
     "name": "stdout",
     "output_type": "stream",
     "text": [
      "[-inf   0.   1.   2.   3.   4.   5.   6.]\n"
     ]
    },
    {
     "name": "stderr",
     "output_type": "stream",
     "text": [
      "D:\\SwInstalledHere\\Miniconda3\\envs\\tensorflow1X\\lib\\site-packages\\ipykernel_launcher.py:2: RuntimeWarning: divide by zero encountered in log10\n",
      "  \n"
     ]
    }
   ],
   "source": [
    "# Example 4 - CONTINUES\n",
    "myArray = np.log10(myArray)\n",
    "print(myArray)"
   ]
  },
  {
   "cell_type": "markdown",
   "id": "596bd14d",
   "metadata": {},
   "source": [
    "# Some Numpy Statistical Fxs"
   ]
  },
  {
   "cell_type": "code",
   "execution_count": 19,
   "id": "6ef21841",
   "metadata": {},
   "outputs": [
    {
     "name": "stdout",
     "output_type": "stream",
     "text": [
      "[  1   2   3   4   5   6   7   8   9  10  11  12  13  14  15  16  17  18\n",
      "  19  20  21  22  23  24  25  26  27  28  29  30  31  32  33  34  35  36\n",
      "  37  38  39  40  41  42  43  44  45  46  47  48  49  50  51  52  53  54\n",
      "  55  56  57  58  59  60  61  62  63  64  65  66  67  68  69  70  71  72\n",
      "  73  74  75  76  77  78  79  80  81  82  83  84  85  86  87  88  89  90\n",
      "  91  92  93  94  95  96  97  98  99 100]\n"
     ]
    }
   ],
   "source": [
    "# let's Re-define the array\n",
    "myArray = np.arange(1, 101, 1)\n",
    "print(myArray)"
   ]
  },
  {
   "cell_type": "code",
   "execution_count": 20,
   "id": "0effc62c",
   "metadata": {},
   "outputs": [
    {
     "name": "stdout",
     "output_type": "stream",
     "text": [
      "5050\n"
     ]
    }
   ],
   "source": [
    "# example 1\n",
    "# summation of all elements in an array\n",
    "sumOfElements = np.sum(myArray)\n",
    "print(sumOfElements)"
   ]
  },
  {
   "cell_type": "code",
   "execution_count": 21,
   "id": "6803d909",
   "metadata": {},
   "outputs": [
    {
     "name": "stdout",
     "output_type": "stream",
     "text": [
      "50.5\n"
     ]
    }
   ],
   "source": [
    "# example 2\n",
    "# compute the mean (mathematical average) of all elements in an array\n",
    "arrayMean = np.mean(myArray)\n",
    "print(arrayMean)"
   ]
  },
  {
   "cell_type": "code",
   "execution_count": 22,
   "id": "0571e99e",
   "metadata": {},
   "outputs": [
    {
     "name": "stdout",
     "output_type": "stream",
     "text": [
      "The Maximum is:  100\n",
      "The Minimum is:  1\n"
     ]
    }
   ],
   "source": [
    "# example 3\n",
    "# find the maximum and minimum in an array\n",
    "arrayMax = np.max(myArray)\n",
    "arrayMin = np.min(myArray)\n",
    "print(\"The Maximum is: \", arrayMax)\n",
    "print(\"The Minimum is: \", arrayMin)"
   ]
  },
  {
   "cell_type": "code",
   "execution_count": 23,
   "id": "72719bc3",
   "metadata": {},
   "outputs": [
    {
     "name": "stdout",
     "output_type": "stream",
     "text": [
      "833.25\n"
     ]
    }
   ],
   "source": [
    "# example 4\n",
    "# find the variance\n",
    "arrayVar = np.var(myArray)\n",
    "print(arrayVar)"
   ]
  },
  {
   "cell_type": "code",
   "execution_count": 24,
   "id": "a43d4619",
   "metadata": {},
   "outputs": [
    {
     "name": "stdout",
     "output_type": "stream",
     "text": [
      "28.86607004772212\n"
     ]
    }
   ],
   "source": [
    "# example 5\n",
    "# find the standard deviation\n",
    "arrayStd = np.std(myArray)\n",
    "print(arrayStd)"
   ]
  },
  {
   "cell_type": "markdown",
   "id": "6468f8f1",
   "metadata": {},
   "source": [
    "# Axis Logic in 2D Arrays"
   ]
  },
  {
   "cell_type": "code",
   "execution_count": 25,
   "id": "a56e5e68",
   "metadata": {},
   "outputs": [
    {
     "name": "stdout",
     "output_type": "stream",
     "text": [
      "[24 23 22 21 20 19 18 17 16 15 14 13 12 11 10  9  8  7  6  5  4  3  2  1\n",
      "  0]\n"
     ]
    }
   ],
   "source": [
    "# let's redefine the array \n",
    "myArray = np.arange(24, -1, -1)\n",
    "print(myArray)"
   ]
  },
  {
   "cell_type": "code",
   "execution_count": 26,
   "id": "95bf229a",
   "metadata": {},
   "outputs": [
    {
     "name": "stdout",
     "output_type": "stream",
     "text": [
      "This array has  25 Elements\n",
      "This array dimensions are:  (25,)\n"
     ]
    }
   ],
   "source": [
    "# how many elements do I have in this array?\n",
    "print(\"This array has \", np.size(myArray), \"Elements\")\n",
    "print(\"This array dimensions are: \", np.shape(myArray))"
   ]
  },
  {
   "cell_type": "code",
   "execution_count": 27,
   "id": "3b728bc0",
   "metadata": {},
   "outputs": [
    {
     "name": "stdout",
     "output_type": "stream",
     "text": [
      "[[24 23 22 21 20]\n",
      " [19 18 17 16 15]\n",
      " [14 13 12 11 10]\n",
      " [ 9  8  7  6  5]\n",
      " [ 4  3  2  1  0]]\n"
     ]
    }
   ],
   "source": [
    "# let's RESHAPE this array, into something that has really two dimensions\n",
    "myMatrix = myArray.reshape(5,5)\n",
    "print(myMatrix)\n",
    "\n",
    "# this works because the original array had 25 elements  = rows * columns \n",
    "# where chosen wisely"
   ]
  },
  {
   "cell_type": "code",
   "execution_count": 28,
   "id": "3db726b1",
   "metadata": {},
   "outputs": [
    {
     "name": "stdout",
     "output_type": "stream",
     "text": [
      "This array has  25 Elements\n",
      "This array dimensions are:  (5, 5)\n",
      "This array dimensions are:  (5, 5)\n"
     ]
    }
   ],
   "source": [
    "# how many elements do I have in this array?\n",
    "print(\"This array has \", np.size(myMatrix), \"Elements\")\n",
    "print(\"This array dimensions are: \", np.shape(myMatrix))\n",
    "print(\"This array dimensions are: \", myMatrix.shape)"
   ]
  },
  {
   "cell_type": "code",
   "execution_count": null,
   "id": "a9a511d7",
   "metadata": {},
   "outputs": [],
   "source": [
    "# Example 1\n",
    "# let's find the sum of all elements in this matrix\n",
    "sumOfElements = np.sum(myMatrix)\n",
    "print(sumOfElements)"
   ]
  },
  {
   "cell_type": "code",
   "execution_count": 29,
   "id": "bc57c515",
   "metadata": {},
   "outputs": [
    {
     "name": "stdout",
     "output_type": "stream",
     "text": [
      "300\n"
     ]
    }
   ],
   "source": [
    "# Example 2\n",
    "# let's find the sum of all elements in this matrix\n",
    "sumOfElements = myMatrix.sum()\n",
    "print(sumOfElements)"
   ]
  },
  {
   "cell_type": "code",
   "execution_count": 30,
   "id": "6f4076af",
   "metadata": {},
   "outputs": [
    {
     "name": "stdout",
     "output_type": "stream",
     "text": [
      "[[24 23 22 21 20]\n",
      " [19 18 17 16 15]\n",
      " [14 13 12 11 10]\n",
      " [ 9  8  7  6  5]\n",
      " [ 4  3  2  1  0]]\n",
      "[70 65 60 55 50]\n"
     ]
    }
   ],
   "source": [
    "# Example 3\n",
    "# let's find the sum of all elements in each single colum in this matrix\n",
    "print(myMatrix)\n",
    "sumOfColumns = myMatrix.sum(axis = 0)\n",
    "print(sumOfColumns)"
   ]
  },
  {
   "cell_type": "code",
   "execution_count": null,
   "id": "b31ea09c",
   "metadata": {},
   "outputs": [],
   "source": [
    "# Example 3\n",
    "# let's find the sum of all elements in each single row in this matrix\n",
    "sumOfRows = myMatrix.sum(axis = 1)\n",
    "print(sumOfRows)"
   ]
  },
  {
   "cell_type": "code",
   "execution_count": null,
   "id": "0eb035c8",
   "metadata": {},
   "outputs": [],
   "source": []
  }
 ],
 "metadata": {
  "kernelspec": {
   "display_name": "Python 3 (ipykernel)",
   "language": "python",
   "name": "python3"
  },
  "language_info": {
   "codemirror_mode": {
    "name": "ipython",
    "version": 3
   },
   "file_extension": ".py",
   "mimetype": "text/x-python",
   "name": "python",
   "nbconvert_exporter": "python",
   "pygments_lexer": "ipython3",
   "version": "3.12.4"
  }
 },
 "nbformat": 4,
 "nbformat_minor": 5
}
