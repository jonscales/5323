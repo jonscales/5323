{
 "cells": [
  {
   "cell_type": "markdown",
   "metadata": {},
   "source": [
    "# This section is a review for DICTIONARIES"
   ]
  },
  {
   "cell_type": "code",
   "execution_count": 1,
   "metadata": {},
   "outputs": [
    {
     "data": {
      "text/plain": [
       "'value1'"
      ]
     },
     "execution_count": 1,
     "metadata": {},
     "output_type": "execute_result"
    }
   ],
   "source": [
    "# MUST KNOW\n",
    "# 1. OK They are MUTABLE: Content can change  \n",
    "# 2. OK Are constructed with CURLY {} braquets\n",
    "#    2.a) It consist of two major fields a key and a value.\n",
    "#    2.b) YOU ACCESS EACH ONE OF THE KEYS WITH SQUARE BRACKETS\n",
    "# 3. OK COMMAS are used to separate elements in the list\n",
    "\n",
    "# Basic Idea: Very similar to a hash table.\n",
    "# They are mappings. Mappings are basically a sequence of objects stored by a key\n",
    "#Example of a basic Dictionary\n",
    "dict1 = {'key1':'value1', 'key2':'value2'}\n",
    "dict1['key1']"
   ]
  },
  {
   "cell_type": "code",
   "execution_count": 2,
   "metadata": {},
   "outputs": [
    {
     "data": {
      "text/plain": [
       "5"
      ]
     },
     "execution_count": 2,
     "metadata": {},
     "output_type": "execute_result"
    }
   ],
   "source": [
    "#Example with numbers\n",
    "dict2 = {'a':10, 'b':5}\n",
    "dict2['b']"
   ]
  },
  {
   "cell_type": "code",
   "execution_count": 3,
   "metadata": {},
   "outputs": [
    {
     "data": {
      "text/plain": [
       "['cat', 'dog', 'horse']"
      ]
     },
     "execution_count": 3,
     "metadata": {},
     "output_type": "execute_result"
    }
   ],
   "source": [
    "#A slightly more advance example\n",
    "dict3={'k1':999, 'k2':[21, 43, 65], 'k3':['cat', 'dog', 'horse']}\n",
    "dict3['k3']"
   ]
  },
  {
   "cell_type": "markdown",
   "metadata": {},
   "source": [
    "# Accesing Elements in a Dictionary"
   ]
  },
  {
   "cell_type": "code",
   "execution_count": 4,
   "metadata": {},
   "outputs": [
    {
     "data": {
      "text/plain": [
       "43"
      ]
     },
     "execution_count": 4,
     "metadata": {},
     "output_type": "execute_result"
    }
   ],
   "source": [
    "dict3['k2'][1]"
   ]
  },
  {
   "cell_type": "code",
   "execution_count": 5,
   "metadata": {},
   "outputs": [
    {
     "data": {
      "text/plain": [
       "'CAT'"
      ]
     },
     "execution_count": 5,
     "metadata": {},
     "output_type": "execute_result"
    }
   ],
   "source": [
    "# We can do this because cat is a string, so we can use the methods associated with strings\n",
    "dict3['k3'][0].upper()"
   ]
  },
  {
   "cell_type": "markdown",
   "metadata": {},
   "source": [
    "# Testing Mutability"
   ]
  },
  {
   "cell_type": "code",
   "execution_count": 6,
   "metadata": {},
   "outputs": [
    {
     "name": "stdout",
     "output_type": "stream",
     "text": [
      "{'k1': 999, 'k2': [21, 43, 65], 'k3': ['cat', 'dog', 'horse']}\n",
      "{'k1': 1000, 'k2': [21, 43, 65], 'k3': ['cat', 'dog', 'horse']}\n"
     ]
    }
   ],
   "source": [
    "#Example 1\n",
    "print(dict3)                      # original dictionary\n",
    "dict3['k1'] = dict3['k1'] + 1     # Adding one to original value at that location\n",
    "print(dict3)                      # let's see if value has changed"
   ]
  },
  {
   "cell_type": "code",
   "execution_count": 7,
   "metadata": {},
   "outputs": [
    {
     "name": "stdout",
     "output_type": "stream",
     "text": [
      "{'k1': 1000, 'k2': [21, 43, 65], 'k3': ['cat', 'dog', 'horse']}\n",
      "{'k1': 'Hello World', 'k2': [21, 43, 65], 'k3': ['cat', 'dog', 'horse']}\n"
     ]
    }
   ],
   "source": [
    "#Example 2\n",
    "print(dict3)                      # original dictionary\n",
    "dict3['k1'] = 'Hello World'     # Adding one to original value at that location\n",
    "print(dict3)                      # let's see if value has changed"
   ]
  },
  {
   "cell_type": "code",
   "execution_count": 8,
   "metadata": {},
   "outputs": [
    {
     "name": "stdout",
     "output_type": "stream",
     "text": [
      "{'k1': 'Hello'}\n",
      "{'k3': 'World'}\n",
      "{'k2': 'Time to leave'}\n"
     ]
    }
   ],
   "source": [
    "#let's create an empty dictionary, and grow it\n",
    "dict4 = {}               #This command creates an empty dictionary\n",
    "#--------\n",
    "dict4 = {'k1':'Hello'}   #We just added a new element\n",
    "print(dict4)\n",
    "#--------\n",
    "dict4 = {'k3':'World'}   #We just added one more element\n",
    "print(dict4)\n",
    "#--------\n",
    "dict4 = {'k2':'Time to leave'}   #We just added one more element\n",
    "print(dict4)\n",
    "#--------"
   ]
  },
  {
   "cell_type": "markdown",
   "metadata": {},
   "source": [
    "WHAT? it did not work? why ? --> Because it is not done this way. It is done as follows:"
   ]
  },
  {
   "cell_type": "code",
   "execution_count": 9,
   "metadata": {},
   "outputs": [
    {
     "name": "stdout",
     "output_type": "stream",
     "text": [
      "{'k1': 'Hello'}\n",
      "{'k1': 'Hello', 'k3': 'World'}\n",
      "{'k1': 'Hello', 'k3': 'World', 'k2': 'Time to leave'}\n"
     ]
    }
   ],
   "source": [
    "#let's create an empty dictionary, and grow it\n",
    "dict5 = {}               #This command creates an empty dictionary\n",
    "#--------\n",
    "dict5['k1'] ='Hello'     #We just added a new element\n",
    "print(dict5)\n",
    "#--------\n",
    "dict5['k3'] = 'World'   #We just added one more element\n",
    "print(dict5)\n",
    "#--------\n",
    "dict5['k2'] = 'Time to leave'   #We just added one more element\n",
    "print(dict5)\n",
    "#--------"
   ]
  },
  {
   "cell_type": "markdown",
   "metadata": {},
   "source": [
    "# Nesting Dictionaries"
   ]
  },
  {
   "cell_type": "code",
   "execution_count": 10,
   "metadata": {},
   "outputs": [
    {
     "data": {
      "text/plain": [
       "'someValueHere'"
      ]
     },
     "execution_count": 10,
     "metadata": {},
     "output_type": "execute_result"
    }
   ],
   "source": [
    "# here you are nesting objects, so you can use a huge variety of methods on this objects\n",
    "# for the following example:\n",
    "# a. nkl1 = Nested Key Level 1\n",
    "# b. nkl2 = Nested Key Level 2\n",
    "dict6={'k1':{'nkl1':{'nkl2':'someValueHere'}}}\n",
    "#lets look at the tree\n",
    "# dict6\n",
    "#  -->k1\n",
    "#       -->nkl1\n",
    "#              -->nkl2\n",
    "#                     -->someValueHere\n",
    "\n",
    "# this means that you can do something like this to reach the value\n",
    "dict6['k1']['nkl1']['nkl2']"
   ]
  },
  {
   "cell_type": "code",
   "execution_count": 2,
   "metadata": {},
   "outputs": [
    {
     "data": {
      "text/plain": [
       "'SOMEVALUEHERE'"
      ]
     },
     "execution_count": 2,
     "metadata": {},
     "output_type": "execute_result"
    }
   ],
   "source": [
    "#Now let's see how to use a method\n",
    "dict6['k1']['nkl1']['nkl2'].upper()"
   ]
  },
  {
   "cell_type": "markdown",
   "metadata": {},
   "source": [
    "# Some (NOT ALL) Dictionary Methods"
   ]
  },
  {
   "cell_type": "code",
   "execution_count": 3,
   "metadata": {},
   "outputs": [
    {
     "name": "stdout",
     "output_type": "stream",
     "text": [
      "dict_keys(['k1', 'k2', 'k3'])\n",
      "dict_values([22, 'Hello', 'x'])\n",
      "dict_items([('k1', 22), ('k2', 'Hello'), ('k3', 'x')])\n"
     ]
    }
   ],
   "source": [
    "dict7={'k1':22, 'k2':'Hello', 'k3':'x'}\n",
    "print(dict7.keys())                           # returns a list of all keys in a dictionary\n",
    "print(dict7.values())                         # returns a list of all values in a dictionary\n",
    "print(dict7.items())                          # return all the tuples (key, value) in a dictionary"
   ]
  },
  {
   "cell_type": "code",
   "execution_count": null,
   "metadata": {},
   "outputs": [],
   "source": []
  }
 ],
 "metadata": {
  "kernelspec": {
   "display_name": "Python 3",
   "language": "python",
   "name": "python3"
  },
  "language_info": {
   "codemirror_mode": {
    "name": "ipython",
    "version": 3
   },
   "file_extension": ".py",
   "mimetype": "text/x-python",
   "name": "python",
   "nbconvert_exporter": "python",
   "pygments_lexer": "ipython3",
   "version": "3.8.5"
  }
 },
 "nbformat": 4,
 "nbformat_minor": 2
}
