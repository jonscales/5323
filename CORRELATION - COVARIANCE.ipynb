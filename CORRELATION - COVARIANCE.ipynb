{
 "cells": [
  {
   "cell_type": "markdown",
   "metadata": {},
   "source": [
    "# about pickle files\n",
    "https://pandas.pydata.org/docs/reference/api/pandas.read_pickle.html\n",
    "https://www.geeksforgeeks.org/dataframe-read_pickle-method-in-pandas/\n",
    "https://www.w3schools.com/python/pandas/ref_df_pct_change.asp\n"
   ]
  },
  {
   "cell_type": "code",
   "execution_count": 5,
   "metadata": {},
   "outputs": [
    {
     "name": "stdout",
     "output_type": "stream",
     "text": [
      "                  AAPL        GOOG         IBM       MSFT\n",
      "Date                                                     \n",
      "2010-01-04   27.990226  313.062468  113.304536  25.884104\n",
      "2010-01-05   28.038618  311.683844  111.935822  25.892466\n",
      "2010-01-06   27.592626  303.826685  111.208683  25.733566\n",
      "2010-01-07   27.541619  296.753749  110.823732  25.465944\n",
      "2010-01-08   27.724725  300.709808  111.935822  25.641571\n",
      "...                ...         ...         ...        ...\n",
      "2016-10-17  117.550003  779.960022  154.770004  57.220001\n",
      "2016-10-18  117.470001  795.260010  150.720001  57.660000\n",
      "2016-10-19  117.120003  801.500000  151.259995  57.529999\n",
      "2016-10-20  117.059998  796.969971  151.520004  57.250000\n",
      "2016-10-21  116.599998  799.369995  149.630005  59.660000\n",
      "\n",
      "[1714 rows x 4 columns]\n",
      "===============\n",
      "                 AAPL      GOOG       IBM      MSFT\n",
      "Date                                               \n",
      "2010-01-04  123432400   3927000   6155300  38409100\n",
      "2010-01-05  150476200   6031900   6841400  49749600\n",
      "2010-01-06  138040000   7987100   5605300  58182400\n",
      "2010-01-07  119282800  12876600   5840600  50559700\n",
      "2010-01-08  111902700   9483900   4197200  51197400\n",
      "...               ...       ...       ...       ...\n",
      "2016-10-17   23624900   1089500   5890400  23830000\n",
      "2016-10-18   24553500   1995600  12770600  19149500\n",
      "2016-10-19   20034600    116600   4632900  22878400\n",
      "2016-10-20   24125800   1734200   4023100  49455600\n",
      "2016-10-21   22384800   1260500   4401900  79974200\n",
      "\n",
      "[1714 rows x 4 columns]\n",
      "===============\n",
      " Corrrelation(MFST, IBM) --> 0.4997636114415114\n",
      " Covariance  (MFST, IBM) --> 8.870655479703546e-05\n",
      " Covariance  (IBM, MFST) --> 8.865477046849079e-05\n"
     ]
    }
   ],
   "source": [
    "import numpy as np\n",
    "import pandas as pd\n",
    "#=========================================\n",
    "price = pd.read_pickle(\"yahoo_price.pkl\")\n",
    "volume = pd.read_pickle(\"yahoo_volume.pkl\")\n",
    "print(price)\n",
    "print(\"===============\")\n",
    "print(volume)\n",
    "print(\"===============\")\n",
    "returns = price.pct_change()\n",
    "print(f\" Corrrelation(MFST, IBM) --> {returns['MSFT'].corr(returns['IBM'])}\")\n",
    "print(f\" Covariance  (MFST, IBM) --> {returns['MSFT'].cov(returns['IBM'])}\")\n",
    "print(f\" Covariance  (IBM, MFST) --> {returns['IBM'].cov(returns['MSFT'], ddof=0)}\")"
   ]
  },
  {
   "cell_type": "markdown",
   "metadata": {},
   "source": [
    "## Example 2"
   ]
  },
  {
   "cell_type": "code",
   "execution_count": 3,
   "metadata": {},
   "outputs": [
    {
     "name": "stdout",
     "output_type": "stream",
     "text": [
      "      CompX  CompY\n",
      "2015   1245    100\n",
      "2016   1415    123\n",
      "2017   1312    129\n",
      "2018   1427    143\n",
      "2019   1510    150\n",
      "2020   1590    197\n",
      " Corrrelation(Comp X, Comp Y) --> 0.9157308063042233\n",
      " Covariance  (Comp X, Comp Y) --> 3778.2000000000003\n"
     ]
    }
   ],
   "source": [
    "my_frame = pd.DataFrame([[1245, 100],\n",
    "                      [1415, 123],\n",
    "                      [1312, 129],\n",
    "                      [1427, 143],\n",
    "                      [1510, 150],\n",
    "                      [1590, 197]], \n",
    "                     index=[2015, 2016, 2017, 2018, 2019, 2020],\n",
    "                     columns=[\"CompX\", \"CompY\"])\n",
    "\n",
    "print(my_frame)\n",
    "returns = price.pct_change()\n",
    "print(f\" Corrrelation(Comp X, Comp Y) --> {my_frame['CompX'].corr(my_frame['CompY'])}\")\n",
    "print(f\" Covariance  (Comp X, Comp Y) --> {my_frame['CompX'].cov(my_frame['CompY'])}\")"
   ]
  },
  {
   "cell_type": "markdown",
   "metadata": {},
   "source": [
    "## Example 3\n",
    "https://pandas.pydata.org/docs/reference/api/pandas.Series.cov.html#pandas.Series.cov"
   ]
  },
  {
   "cell_type": "code",
   "execution_count": 4,
   "metadata": {},
   "outputs": [
    {
     "name": "stdout",
     "output_type": "stream",
     "text": [
      "3148.5\n",
      "3778.2000000000003\n"
     ]
    }
   ],
   "source": [
    "s1 = pd.Series([1245, 1415, 1312, 1427, 1510, 1590])\n",
    "s2 = pd.Series([100, 123, 129, 143, 150, 197])\n",
    "\n",
    "print(s1.cov(s2, ddof=0))\n",
    "print(s1.cov(s2, ddof=1))"
   ]
  },
  {
   "cell_type": "code",
   "execution_count": null,
   "metadata": {},
   "outputs": [],
   "source": []
  }
 ],
 "metadata": {
  "kernelspec": {
   "display_name": "Python 3 (ipykernel)",
   "language": "python",
   "name": "python3"
  },
  "language_info": {
   "codemirror_mode": {
    "name": "ipython",
    "version": 3
   },
   "file_extension": ".py",
   "mimetype": "text/x-python",
   "name": "python",
   "nbconvert_exporter": "python",
   "pygments_lexer": "ipython3",
   "version": "3.12.4"
  }
 },
 "nbformat": 4,
 "nbformat_minor": 4
}
