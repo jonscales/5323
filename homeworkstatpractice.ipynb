{
 "cells": [
  {
   "cell_type": "markdown",
   "id": "dd283c96-2790-4f16-99f1-0c8194a04eef",
   "metadata": {},
   "source": [
    "Homework problems from stats lecture\n"
   ]
  },
  {
   "cell_type": "code",
   "execution_count": 2,
   "id": "0886b481-f3bd-4427-ac41-ec8a7d9359aa",
   "metadata": {},
   "outputs": [
    {
     "name": "stdout",
     "output_type": "stream",
     "text": [
      "60\n"
     ]
    }
   ],
   "source": [
    "#1\n",
    "n =6 \n",
    "M = 10\n",
    "sumx = n*M\n",
    "print(sumx)"
   ]
  },
  {
   "cell_type": "code",
   "execution_count": 4,
   "id": "8c1b83fc-f0f3-46ba-9b66-e17774f070d4",
   "metadata": {},
   "outputs": [
    {
     "name": "stdout",
     "output_type": "stream",
     "text": [
      "5.0\n"
     ]
    }
   ],
   "source": [
    "#2\n",
    "a_mean = 8\n",
    "a_sumx = 40\n",
    "a_n = a_sumx/a_mean\n",
    "print(a_n)"
   ]
  },
  {
   "cell_type": "code",
   "execution_count": 8,
   "id": "49979d38-3556-4605-a8ef-29b2034d5da8",
   "metadata": {},
   "outputs": [
    {
     "name": "stdout",
     "output_type": "stream",
     "text": [
      "5.4\n"
     ]
    }
   ],
   "source": [
    "#3\n",
    "a_n =3\n",
    "b_n = 7\n",
    "a_M = 4\n",
    "b_M = 6\n",
    "weighted_mean = ((a_M*a_n) + (b_M*b_n))/(a_n +b_n)\n",
    "print(weighted_mean)\n"
   ]
  },
  {
   "cell_type": "code",
   "execution_count": 24,
   "id": "33f08ad4-ba68-4337-af7e-cbbc319dbcdf",
   "metadata": {},
   "outputs": [
    {
     "name": "stdout",
     "output_type": "stream",
     "text": [
      "8\n",
      "280\n",
      "35.0\n",
      "========================================\n",
      "7\n",
      "230\n",
      "32.857142857142854\n"
     ]
    }
   ],
   "source": [
    "#4\n",
    "#false\n",
    "import numpy as np\n",
    "\n",
    "M=35\n",
    "data=[0,10,20,30,40,50, 60, 70]\n",
    "n1=len(data)\n",
    "print(n1)\n",
    "s=np.sum(data)\n",
    "print(s)\n",
    "mean=s/n1\n",
    "print(mean)\n",
    "newdata = [0,10,20,30,40, 60, 70]\n",
    "n2=len(newdata)\n",
    "newsum=np.sum(newdata)\n",
    "newmean=newsum/n2\n",
    "print('====' *10)\n",
    "print(n2)\n",
    "print(newsum)\n",
    "print(newmean)"
   ]
  },
  {
   "cell_type": "code",
   "execution_count": 46,
   "id": "859b9591-16a4-4d0f-a11f-9cf53f9a3cba",
   "metadata": {},
   "outputs": [
    {
     "name": "stdout",
     "output_type": "stream",
     "text": [
      "numpy version\n",
      "\n",
      "[5 8 6 8 1]\n",
      "28\n",
      "10\n",
      "2.8\n",
      "===============\n",
      "python version\n",
      "\n",
      "[5, 4, 4, 3, 3, 2, 2, 2, 2, 1]\n",
      "10\n",
      "28\n",
      "2.8\n"
     ]
    }
   ],
   "source": [
    "#5\n",
    "\n",
    "x_vals = [5,4,3,2,1]\n",
    "freqs=[1,2,2,4,1]\n",
    "x = np.array(x_vals)\n",
    "f = np.array(freqs)\n",
    "expand_data = x*f\n",
    "print('numpy version\\n')\n",
    "\n",
    "print(expand_data)\n",
    "sumvals=np.sum(expand_data)\n",
    "mean=sumvals/np.sum(f)\n",
    "print(sumvals)\n",
    "print(np.sum(f))\n",
    "print(mean)\n",
    "print('==='*5)\n",
    "print('python version\\n')\n",
    "\n",
    "expanded = [x_vals[i] for i in range(len(x_vals)) for _ in range(freqs[i])]\n",
    "print(expanded)\n",
    "n=len(expanded)\n",
    "print(n)\n",
    "s=0\n",
    "for x in expanded: \n",
    "    s += x\n",
    "print(s)\n",
    "m2 = s/n\n",
    "print(m2)\n",
    "    \n",
    "\n",
    "\n",
    "    \n",
    "    \n",
    "\n"
   ]
  },
  {
   "cell_type": "code",
   "execution_count": null,
   "id": "a8291dcd-0137-4951-a155-cbd722483b21",
   "metadata": {},
   "outputs": [],
   "source": []
  }
 ],
 "metadata": {
  "kernelspec": {
   "display_name": "Python 3 (ipykernel)",
   "language": "python",
   "name": "python3"
  },
  "language_info": {
   "codemirror_mode": {
    "name": "ipython",
    "version": 3
   },
   "file_extension": ".py",
   "mimetype": "text/x-python",
   "name": "python",
   "nbconvert_exporter": "python",
   "pygments_lexer": "ipython3",
   "version": "3.12.4"
  }
 },
 "nbformat": 4,
 "nbformat_minor": 5
}
