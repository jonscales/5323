{
 "cells": [
  {
   "cell_type": "markdown",
   "metadata": {},
   "source": [
    "# if"
   ]
  },
  {
   "cell_type": "markdown",
   "metadata": {},
   "source": [
    "1. colon needed. The statement is ended with a colon\n",
    "2. Indentation is super-important. It is used to describe the begining of all actions\n",
    "3. More about indentation in python: It is crucial for you to have a good understanding of how important indentation is in python. Indentation helps to maintain proper order and structure of your project/code/program"
   ]
  },
  {
   "cell_type": "code",
   "execution_count": 3,
   "metadata": {},
   "outputs": [
    {
     "name": "stdout",
     "output_type": "stream",
     "text": [
      "Variable 1 is Greater than Variable 2\n"
     ]
    }
   ],
   "source": [
    "#let's create some useful info that will be used in a condition\n",
    "v1=200\n",
    "v2 =20\n",
    "\n",
    "if(v1 > v2):\n",
    "    print(\"Variable 1 is Greater than Variable 2\")"
   ]
  },
  {
   "cell_type": "markdown",
   "metadata": {},
   "source": [
    "# if - else"
   ]
  },
  {
   "cell_type": "code",
   "execution_count": 5,
   "metadata": {},
   "outputs": [
    {
     "name": "stdout",
     "output_type": "stream",
     "text": [
      "Please enter a number: 5\n",
      "Please enter a second number: 5\n",
      "Variable 1 is Greater than or Equal to Variable 2\n"
     ]
    }
   ],
   "source": [
    "#let's create some useful info that will be used in a condition\n",
    "v1=input(\"Please enter a number: \")\n",
    "v2 = input(\"Please enter a second number: \")\n",
    "\n",
    "if(v1 >= v2):\n",
    "    print(\"Variable 1 is Greater than or Equal to Variable 2\")\n",
    "else:\n",
    "    print(\"Variable 2 is Greater than Variable 1\")"
   ]
  },
  {
   "cell_type": "markdown",
   "metadata": {},
   "source": [
    "# if-elif-else"
   ]
  },
  {
   "cell_type": "code",
   "execution_count": 10,
   "metadata": {},
   "outputs": [
    {
     "name": "stdout",
     "output_type": "stream",
     "text": [
      "Please enter a number: 3\n",
      "Please enter a second number: 3\n",
      "Variable 2 is or Equal to Variable 1\n"
     ]
    }
   ],
   "source": [
    "#let's create some useful info that will be used in a condition\n",
    "v1=input(\"Please enter a number: \")\n",
    "v2 = input(\"Please enter a second number: \")\n",
    "\n",
    "if(v1 > v2):\n",
    "    print(\"Variable 1 is Greater than  Variable 2\")\n",
    "elif(v1 == v2):\n",
    "    print(\"Variable 2 is Equal to Variable 1\")\n",
    "else:\n",
    "    print(\"Variable 2 is Greater than Variable 1\")"
   ]
  },
  {
   "cell_type": "markdown",
   "metadata": {},
   "source": [
    "# for loops"
   ]
  },
  {
   "cell_type": "code",
   "execution_count": null,
   "metadata": {
    "collapsed": true,
    "jupyter": {
     "outputs_hidden": true
    }
   },
   "outputs": [],
   "source": [
    "#The general structure of a for loop is more less as follows:\n",
    "#    for item in object:\n",
    "#         execute this commands"
   ]
  },
  {
   "cell_type": "code",
   "execution_count": 24,
   "metadata": {},
   "outputs": [
    {
     "name": "stdout",
     "output_type": "stream",
     "text": [
      "a\n",
      "b\n",
      "c\n",
      "d\n",
      "e\n",
      "f\n",
      "------------------------\n",
      "['a', 'b', 'c', 'd', 'e', 'f']\n",
      "['a', 'b', 'c', 'd', 'e', 'f']\n",
      "['a', 'b', 'c', 'd', 'e', 'f']\n",
      "['a', 'b', 'c', 'd', 'e', 'f']\n",
      "['a', 'b', 'c', 'd', 'e', 'f']\n",
      "['a', 'b', 'c', 'd', 'e', 'f']\n"
     ]
    }
   ],
   "source": [
    "# Basic for loop example\n",
    "myList = ['a', 'b', 'c', 'd', 'e', 'f']\n",
    "\n",
    "#1st for loop\n",
    "for item in myList:\n",
    "    print(item)\n",
    "  \n",
    "print(\"------------------------\")\n",
    "#second for loop    \n",
    "for item in myList:\n",
    "    print(myList)"
   ]
  },
  {
   "cell_type": "code",
   "execution_count": 39,
   "metadata": {},
   "outputs": [
    {
     "name": "stdout",
     "output_type": "stream",
     "text": [
      "0\n",
      "100\n",
      "=============\n",
      "0\n",
      "2\n",
      "4\n",
      "6\n",
      "8\n",
      "10\n",
      "12\n",
      "14\n",
      "16\n",
      "18\n",
      "20\n",
      "22\n",
      "24\n",
      "26\n",
      "28\n",
      "30\n",
      "32\n",
      "34\n",
      "36\n",
      "38\n",
      "40\n",
      "42\n",
      "44\n",
      "46\n",
      "48\n",
      "50\n",
      "52\n",
      "54\n",
      "56\n",
      "58\n",
      "60\n",
      "62\n",
      "64\n",
      "66\n",
      "68\n",
      "70\n",
      "72\n",
      "74\n",
      "76\n",
      "78\n",
      "80\n",
      "82\n",
      "84\n",
      "86\n",
      "88\n",
      "90\n",
      "92\n",
      "94\n",
      "96\n",
      "98\n",
      "100\n"
     ]
    }
   ],
   "source": [
    "#let's create a list with ALL numbers from 0 to 100 and print the even numbers only\n",
    "numList = range(101)  #  A NEW FUNCTION HAS BEEN INTRODUCED - RANGE --> VALUES (0 TO N-1)\n",
    "                      # more here: https://docs.python.org/3/library/stdtypes.html#typesseq-range\n",
    "    \n",
    "print(numList[0])\n",
    "print(numList[100])\n",
    "print(\"=============\")\n",
    "for val in numList:\n",
    "    if(val%2 == 0): \n",
    "        print(val)"
   ]
  },
  {
   "cell_type": "code",
   "execution_count": 45,
   "metadata": {},
   "outputs": [
    {
     "name": "stdout",
     "output_type": "stream",
     "text": [
      "[0, 1, 2, 3, 4, 5, 6, 7, 8, 9, 10, 11, 12, 13, 14, 15, 16, 17, 18, 19, 20, 21, 22, 23, 24, 25, 26, 27, 28, 29, 30, 31, 32, 33, 34, 35, 36, 37, 38, 39, 40, 41, 42, 43, 44, 45, 46, 47, 48, 49, 50, 51, 52, 53, 54, 55, 56, 57, 58, 59, 60, 61, 62, 63, 64, 65, 66, 67, 68, 69, 70, 71, 72, 73, 74, 75, 76, 77, 78, 79, 80, 81, 82, 83, 84, 85, 86, 87, 88, 89, 90, 91, 92, 93, 94, 95, 96, 97, 98, 99, 100]\n",
      "=============\n",
      "EVEN: 0\n",
      "ODD: 1\n",
      "EVEN: 2\n",
      "ODD: 3\n",
      "EVEN: 4\n",
      "ODD: 5\n",
      "EVEN: 6\n",
      "ODD: 7\n",
      "EVEN: 8\n",
      "ODD: 9\n",
      "EVEN: 10\n",
      "ODD: 11\n",
      "EVEN: 12\n",
      "ODD: 13\n",
      "EVEN: 14\n",
      "ODD: 15\n",
      "EVEN: 16\n",
      "ODD: 17\n",
      "EVEN: 18\n",
      "ODD: 19\n",
      "EVEN: 20\n",
      "ODD: 21\n",
      "EVEN: 22\n",
      "ODD: 23\n",
      "EVEN: 24\n",
      "ODD: 25\n",
      "EVEN: 26\n",
      "ODD: 27\n",
      "EVEN: 28\n",
      "ODD: 29\n",
      "EVEN: 30\n",
      "ODD: 31\n",
      "EVEN: 32\n",
      "ODD: 33\n",
      "EVEN: 34\n",
      "ODD: 35\n",
      "EVEN: 36\n",
      "ODD: 37\n",
      "EVEN: 38\n",
      "ODD: 39\n",
      "EVEN: 40\n",
      "ODD: 41\n",
      "EVEN: 42\n",
      "ODD: 43\n",
      "EVEN: 44\n",
      "ODD: 45\n",
      "EVEN: 46\n",
      "ODD: 47\n",
      "EVEN: 48\n",
      "ODD: 49\n",
      "EVEN: 50\n",
      "ODD: 51\n",
      "EVEN: 52\n",
      "ODD: 53\n",
      "EVEN: 54\n",
      "ODD: 55\n",
      "EVEN: 56\n",
      "ODD: 57\n",
      "EVEN: 58\n",
      "ODD: 59\n",
      "EVEN: 60\n",
      "ODD: 61\n",
      "EVEN: 62\n",
      "ODD: 63\n",
      "EVEN: 64\n",
      "ODD: 65\n",
      "EVEN: 66\n",
      "ODD: 67\n",
      "EVEN: 68\n",
      "ODD: 69\n",
      "EVEN: 70\n",
      "ODD: 71\n",
      "EVEN: 72\n",
      "ODD: 73\n",
      "EVEN: 74\n",
      "ODD: 75\n",
      "EVEN: 76\n",
      "ODD: 77\n",
      "EVEN: 78\n",
      "ODD: 79\n",
      "EVEN: 80\n",
      "ODD: 81\n",
      "EVEN: 82\n",
      "ODD: 83\n",
      "EVEN: 84\n",
      "ODD: 85\n",
      "EVEN: 86\n",
      "ODD: 87\n",
      "EVEN: 88\n",
      "ODD: 89\n",
      "EVEN: 90\n",
      "ODD: 91\n",
      "EVEN: 92\n",
      "ODD: 93\n",
      "EVEN: 94\n",
      "ODD: 95\n",
      "EVEN: 96\n",
      "ODD: 97\n",
      "EVEN: 98\n",
      "ODD: 99\n",
      "EVEN: 100\n"
     ]
    }
   ],
   "source": [
    "# modify th example above such that it will print the odd numbers also\n",
    "#let's create a list with ALL numbers from 0 to 100 and print the even numbers only\n",
    "numList = list(range(101))  #  A NEW FUNCTION HAS BEEN INTRODUCED - RANGE --> VALUES (0 TO N-1)\n",
    "                      # more here: https://docs.python.org/3/library/stdtypes.html#typesseq-range\n",
    "                      # You need to observe that we are casting this into a list\n",
    "print(numList)\n",
    "print(\"=============\")\n",
    "for val in numList:\n",
    "    if(val%2 == 0): \n",
    "        print(\"EVEN:\", val)\n",
    "    else:\n",
    "        print(\"ODD:\", val)"
   ]
  },
  {
   "cell_type": "code",
   "execution_count": 47,
   "metadata": {},
   "outputs": [
    {
     "name": "stdout",
     "output_type": "stream",
     "text": [
      "Final Summation is:  5050\n"
     ]
    }
   ],
   "source": [
    "#let's write a program that will compute the summation of the first 100 consecutive numbers. \n",
    "# Starting at zero\n",
    "summation = 0;\n",
    "l2 = list(range(101))\n",
    "for val in l2:\n",
    "    summation = val + summation\n",
    "print(\"Final Summation is: \", summation)"
   ]
  },
  {
   "cell_type": "markdown",
   "metadata": {},
   "source": [
    "## For loop with tuples"
   ]
  },
  {
   "cell_type": "code",
   "execution_count": 49,
   "metadata": {},
   "outputs": [
    {
     "name": "stdout",
     "output_type": "stream",
     "text": [
      "11\n",
      "12\n",
      "13\n",
      "14\n",
      "15\n",
      "16\n"
     ]
    }
   ],
   "source": [
    "tup = (11, 12, 13, 14, 15, 16)\n",
    "for val in tup:\n",
    "    print(val)"
   ]
  },
  {
   "cell_type": "markdown",
   "metadata": {},
   "source": [
    "## For loops with a sequence of tuples (a.k.a Unpacking Tuples)"
   ]
  },
  {
   "cell_type": "code",
   "execution_count": 53,
   "metadata": {},
   "outputs": [
    {
     "name": "stdout",
     "output_type": "stream",
     "text": [
      "(10, 100)\n",
      "10\n",
      "100\n",
      "==========\n",
      "(20, 200)\n",
      "20\n",
      "200\n",
      "==========\n",
      "(30, 300)\n",
      "30\n",
      "300\n",
      "==========\n",
      "(40, 400)\n",
      "40\n",
      "400\n",
      "==========\n",
      "(50, 500)\n",
      "50\n",
      "500\n",
      "==========\n"
     ]
    }
   ],
   "source": [
    "tup2=[(10, 100), (20, 200), (30, 300), (40, 400), (50, 500)]\n",
    "for tup in tup2:\n",
    "    print(tup)       # This is the one doing the unpacking\n",
    "    print(tup[0])\n",
    "    print(tup[1])\n",
    "    print(\"==========\")"
   ]
  },
  {
   "cell_type": "code",
   "execution_count": 54,
   "metadata": {},
   "outputs": [
    {
     "name": "stdout",
     "output_type": "stream",
     "text": [
      "100\n",
      "200\n",
      "300\n",
      "400\n",
      "500\n"
     ]
    }
   ],
   "source": [
    "# More tuple related examples.\n",
    "# We continue using tup2 as defined above\n",
    "for (t1, t2) in tup2:\n",
    "    print(t2)\n"
   ]
  },
  {
   "cell_type": "code",
   "execution_count": 55,
   "metadata": {},
   "outputs": [
    {
     "name": "stdout",
     "output_type": "stream",
     "text": [
      "The addition of the tuple's elements is 110\n",
      "The addition of the tuple's elements is 220\n",
      "The addition of the tuple's elements is 330\n",
      "The addition of the tuple's elements is 440\n",
      "The addition of the tuple's elements is 550\n"
     ]
    }
   ],
   "source": [
    "# More tuple related examples.\n",
    "# We continue using tup2 as defined above\n",
    "for(t1, t2) in tup2:\n",
    "    print(\"The addition of the tuple's elements is\", t1+t2)"
   ]
  },
  {
   "cell_type": "markdown",
   "metadata": {},
   "source": [
    "## For loops with Dictionaries"
   ]
  },
  {
   "cell_type": "code",
   "execution_count": 60,
   "metadata": {},
   "outputs": [
    {
     "name": "stdout",
     "output_type": "stream",
     "text": [
      "k1\n",
      "k2\n",
      "k3\n"
     ]
    }
   ],
   "source": [
    "#let's define a simple dictionary\n",
    "dict1 = {'k1':'alpha', 'k2':'Mother', 'k3':100}\n",
    "for item in dict1:\n",
    "    print(item)\n",
    "    \n",
    "\n",
    "#What did you get back ???"
   ]
  },
  {
   "cell_type": "markdown",
   "metadata": {},
   "source": [
    "## For Loops: How to iterate through the elements of a Dictionary?"
   ]
  },
  {
   "cell_type": "markdown",
   "metadata": {},
   "source": [
    "1. Python 2: You use the the method: .iteritems()\n",
    "2. Python 3: You use the method:     .items()"
   ]
  },
  {
   "cell_type": "code",
   "execution_count": 65,
   "metadata": {},
   "outputs": [
    {
     "name": "stdout",
     "output_type": "stream",
     "text": [
      "k1\n",
      "alpha\n",
      "========\n",
      "k2\n",
      "Mother\n",
      "========\n",
      "k3\n",
      "100\n",
      "========\n"
     ]
    }
   ],
   "source": [
    "#in this example we will use the same dictionary as above\n",
    "for (key, value) in dict1.items():\n",
    "    print(key)\n",
    "    print(value)\n",
    "    print(\"========\")"
   ]
  },
  {
   "cell_type": "code",
   "execution_count": 66,
   "metadata": {
    "collapsed": true,
    "jupyter": {
     "outputs_hidden": true
    }
   },
   "outputs": [],
   "source": [
    "# STUDENTS: Design a python program that will identify all prime number in a list of 100 consecutive numbers"
   ]
  },
  {
   "cell_type": "markdown",
   "metadata": {},
   "source": [
    "# While Loops"
   ]
  },
  {
   "cell_type": "code",
   "execution_count": 67,
   "metadata": {
    "collapsed": true,
    "jupyter": {
     "outputs_hidden": true
    }
   },
   "outputs": [],
   "source": [
    "# A while loop in python has the following structure\n",
    "\n",
    "# while (testing_Condition):\n",
    "#        Execute these instructions if testing_condition is TRUE\n",
    "#  else:\n",
    "#        Execute these instructions if testing_condition is FALSE "
   ]
  },
  {
   "cell_type": "code",
   "execution_count": 68,
   "metadata": {},
   "outputs": [
    {
     "name": "stdout",
     "output_type": "stream",
     "text": [
      "current value of a is:  1\n",
      "current value of a is:  2\n",
      "current value of a is:  3\n",
      "current value of a is:  4\n",
      "current value of a is:  5\n",
      "Final value of a is: 5\n"
     ]
    }
   ],
   "source": [
    "#Basic while loop example\n",
    "a=0;\n",
    "\n",
    "while(a<=4):\n",
    "    a = a + 1\n",
    "    print(\"current value of a is: \", a)\n",
    "else:\n",
    "    print(\"Final value of a is:\", a)"
   ]
  },
  {
   "cell_type": "code",
   "execution_count": null,
   "metadata": {
    "collapsed": true,
    "jupyter": {
     "outputs_hidden": true
    }
   },
   "outputs": [],
   "source": []
  }
 ],
 "metadata": {
  "kernelspec": {
   "display_name": "Python 3 (ipykernel)",
   "language": "python",
   "name": "python3"
  },
  "language_info": {
   "codemirror_mode": {
    "name": "ipython",
    "version": 3
   },
   "file_extension": ".py",
   "mimetype": "text/x-python",
   "name": "python",
   "nbconvert_exporter": "python",
   "pygments_lexer": "ipython3",
   "version": "3.12.4"
  }
 },
 "nbformat": 4,
 "nbformat_minor": 4
}
