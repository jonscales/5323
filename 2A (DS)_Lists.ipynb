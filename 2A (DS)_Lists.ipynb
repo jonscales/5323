{
 "cells": [
  {
   "cell_type": "markdown",
   "metadata": {},
   "source": [
    "# Lists\n",
    "\n",
    "Earlier when discussing strings we introduced the concept of a *sequence* in Python. Lists can be thought of the most general version of a *sequence* in Python. Unlike strings, they are mutable, meaning the elements inside a list can be changed!\n",
    "\n",
    "A good definition: \n",
    "* Lists are a collection of items in a particular order.\n",
    "* You can put anything you want into a list\n",
    "* The items in your list DO NOT have to be related in any particular way\n",
    "\n",
    "In this section we will learn about:\n",
    "    \n",
    "    1.) Creating lists\n",
    "    2.) Indexing and Slicing Lists\n",
    "    3.) Basic List Methods\n",
    "    4.) Nesting Lists\n",
    "    5.) Introduction to List Comprehensions\n",
    "\n",
    "Lists are constructed with brackets [] and commas separating every element in the list.\n",
    "\n",
    "Let's go ahead and see how we can construct lists!"
   ]
  },
  {
   "cell_type": "code",
   "execution_count": 2,
   "metadata": {},
   "outputs": [
    {
     "data": {
      "text/plain": [
       "[1, 2, 3]"
      ]
     },
     "execution_count": 2,
     "metadata": {},
     "output_type": "execute_result"
    }
   ],
   "source": [
    "# Assign a list to an variable named my_list\n",
    "my_list = [1,2,3]\n",
    "my_list"
   ]
  },
  {
   "cell_type": "markdown",
   "metadata": {},
   "source": [
    "We just created a list of integers, but lists can actually hold different object types. For example:"
   ]
  },
  {
   "cell_type": "code",
   "execution_count": 3,
   "metadata": {},
   "outputs": [],
   "source": [
    "my_list = ['A string',23,100.232,'o']"
   ]
  },
  {
   "cell_type": "markdown",
   "metadata": {},
   "source": [
    "Just like strings, the len() function will tell you how many items are in the sequence of the list."
   ]
  },
  {
   "cell_type": "code",
   "execution_count": 4,
   "metadata": {},
   "outputs": [
    {
     "data": {
      "text/plain": [
       "4"
      ]
     },
     "execution_count": 4,
     "metadata": {},
     "output_type": "execute_result"
    }
   ],
   "source": [
    "len(my_list)"
   ]
  },
  {
   "cell_type": "code",
   "execution_count": 5,
   "metadata": {},
   "outputs": [
    {
     "data": {
      "text/plain": [
       "list"
      ]
     },
     "execution_count": 5,
     "metadata": {},
     "output_type": "execute_result"
    }
   ],
   "source": [
    "type(my_list)"
   ]
  },
  {
   "cell_type": "markdown",
   "metadata": {},
   "source": [
    "using an indiviudal value from a list"
   ]
  },
  {
   "cell_type": "code",
   "execution_count": 6,
   "metadata": {},
   "outputs": [
    {
     "name": "stdout",
     "output_type": "stream",
     "text": [
      "The first element in the list is: A STRING\n"
     ]
    }
   ],
   "source": [
    "message = f\"The first element in the list is: {my_list[0].upper()}\" # here we are doing multiple things in one instruction\n",
    "print(message)"
   ]
  },
  {
   "cell_type": "markdown",
   "metadata": {},
   "source": [
    "### Indexing and Slicing\n",
    "Indexing and slicing works just like in strings. Let's make a new list to remind ourselves of how this works:"
   ]
  },
  {
   "cell_type": "code",
   "execution_count": 7,
   "metadata": {
    "collapsed": true,
    "jupyter": {
     "outputs_hidden": true
    }
   },
   "outputs": [],
   "source": [
    "my_list = ['one','two','three',4,5]"
   ]
  },
  {
   "cell_type": "code",
   "execution_count": 10,
   "metadata": {},
   "outputs": [
    {
     "data": {
      "text/plain": [
       "'one'"
      ]
     },
     "execution_count": 10,
     "metadata": {},
     "output_type": "execute_result"
    }
   ],
   "source": [
    "# Grab element at index 0 - similar example was analysed previously\n",
    "my_list[0]"
   ]
  },
  {
   "cell_type": "code",
   "execution_count": 11,
   "metadata": {},
   "outputs": [
    {
     "data": {
      "text/plain": [
       "['two', 'three', 4, 5]"
      ]
     },
     "execution_count": 11,
     "metadata": {},
     "output_type": "execute_result"
    }
   ],
   "source": [
    "# MAKE SURE YOU MENTION --> SSS --> START - STOP - STEP\n",
    "# Grab index 1 and everything past it (from index one (included) all the way to the end of the list)\n",
    "my_list[1:]"
   ]
  },
  {
   "cell_type": "code",
   "execution_count": 13,
   "metadata": {},
   "outputs": [
    {
     "data": {
      "text/plain": [
       "['one', 'two', 'three']"
      ]
     },
     "execution_count": 13,
     "metadata": {},
     "output_type": "execute_result"
    }
   ],
   "source": [
    "# Grab everything UP TO index 3 (index 3 is excluded)\n",
    "my_list[:3]"
   ]
  },
  {
   "cell_type": "code",
   "execution_count": 7,
   "metadata": {},
   "outputs": [
    {
     "data": {
      "text/plain": [
       "[23, 'o']"
      ]
     },
     "execution_count": 7,
     "metadata": {},
     "output_type": "execute_result"
    }
   ],
   "source": [
    "my_list[1:4:2]"
   ]
  },
  {
   "cell_type": "markdown",
   "metadata": {},
   "source": [
    "We can also use + to concatenate lists, just like we did for strings."
   ]
  },
  {
   "cell_type": "code",
   "execution_count": 14,
   "metadata": {},
   "outputs": [
    {
     "data": {
      "text/plain": [
       "['one', 'two', 'three', 4, 5, 'new item']"
      ]
     },
     "execution_count": 14,
     "metadata": {},
     "output_type": "execute_result"
    }
   ],
   "source": [
    "my_list + ['new item']"
   ]
  },
  {
   "cell_type": "markdown",
   "metadata": {},
   "source": [
    "Note: This doesn't actually change the original list!"
   ]
  },
  {
   "cell_type": "code",
   "execution_count": 15,
   "metadata": {},
   "outputs": [
    {
     "data": {
      "text/plain": [
       "['one', 'two', 'three', 4, 5]"
      ]
     },
     "execution_count": 15,
     "metadata": {},
     "output_type": "execute_result"
    }
   ],
   "source": [
    "my_list"
   ]
  },
  {
   "cell_type": "markdown",
   "metadata": {},
   "source": [
    "You would have to reassign the list to make the change permanent."
   ]
  },
  {
   "cell_type": "code",
   "execution_count": 16,
   "metadata": {
    "collapsed": true,
    "jupyter": {
     "outputs_hidden": true
    }
   },
   "outputs": [],
   "source": [
    "# Reassign\n",
    "my_list = my_list + ['add new item permanently']"
   ]
  },
  {
   "cell_type": "code",
   "execution_count": 18,
   "metadata": {},
   "outputs": [
    {
     "data": {
      "text/plain": [
       "['one', 'two', 'three', 4, 5, 'add new item permanently']"
      ]
     },
     "execution_count": 18,
     "metadata": {},
     "output_type": "execute_result"
    }
   ],
   "source": [
    "my_list"
   ]
  },
  {
   "cell_type": "markdown",
   "metadata": {},
   "source": [
    "We can also use the * for a duplication method similar to strings:"
   ]
  },
  {
   "cell_type": "code",
   "execution_count": 20,
   "metadata": {},
   "outputs": [
    {
     "data": {
      "text/plain": [
       "['one',\n",
       " 'two',\n",
       " 'three',\n",
       " 4,\n",
       " 5,\n",
       " 'add new item permanently',\n",
       " 'one',\n",
       " 'two',\n",
       " 'three',\n",
       " 4,\n",
       " 5,\n",
       " 'add new item permanently']"
      ]
     },
     "execution_count": 20,
     "metadata": {},
     "output_type": "execute_result"
    }
   ],
   "source": [
    "# It duplicates the list\n",
    "my_list * 2"
   ]
  },
  {
   "cell_type": "code",
   "execution_count": 23,
   "metadata": {},
   "outputs": [
    {
     "data": {
      "text/plain": [
       "['one', 'two', 'three', 4, 5, 'add new item permanently']"
      ]
     },
     "execution_count": 23,
     "metadata": {},
     "output_type": "execute_result"
    }
   ],
   "source": [
    "# Again doubling not permanent\n",
    "my_list"
   ]
  },
  {
   "cell_type": "markdown",
   "metadata": {},
   "source": [
    "# Modifying - Adding - Removing Elements from a List"
   ]
  },
  {
   "cell_type": "markdown",
   "metadata": {},
   "source": [
    "# ADDING ELEMENTS"
   ]
  },
  {
   "cell_type": "code",
   "execution_count": 27,
   "metadata": {},
   "outputs": [
    {
     "name": "stdout",
     "output_type": "stream",
     "text": [
      "['Bolin', 'McCoy', 'Dillards', 'Centenial']\n",
      "['Pierce', 'McCoy', 'Dillards', 'Centenial']\n"
     ]
    }
   ],
   "source": [
    "# 1. MODIFYING ELEMENTS IN A LIST\n",
    "\n",
    "buildings = ['Bolin', 'McCoy', 'Dillards', 'Centenial'] # original list\n",
    "print(buildings) # BEFORE\n",
    "buildings[0] = 'Pierce'\n",
    "print(buildings) # AFTER\n",
    "\n",
    "#The first element--element with index zero has been changed, and it is a PERMANENT CHANGE"
   ]
  },
  {
   "cell_type": "code",
   "execution_count": 28,
   "metadata": {},
   "outputs": [
    {
     "name": "stdout",
     "output_type": "stream",
     "text": [
      "['Pierce', 'McCoy', 'Dillards', 'Centenial']\n",
      "['Pierce', 'McCoy', 'Dillards', 'Centenial', 'Bolin']\n"
     ]
    }
   ],
   "source": [
    "# 2A. ADDING ELEMENTS TO A LIST (APPENDING)\n",
    "# This option uses the append() method. \n",
    "# When this method is used, the new value is appended to the END of the list\n",
    "\n",
    "print(buildings)   #just show the before\n",
    "buildings.append('Bolin')   # append the new building to the end of the list\n",
    "print(buildings)   #show the after"
   ]
  },
  {
   "cell_type": "code",
   "execution_count": 10,
   "metadata": {},
   "outputs": [
    {
     "name": "stdout",
     "output_type": "stream",
     "text": [
      "['Bolin', 'McCoy', 'Dillards', 'Centenial']\n",
      "['Hardin', 'Bolin', 'McCoy', 'Dillards', 'Centenial']\n"
     ]
    }
   ],
   "source": [
    "# 2B. INSERTING ELEMENTS INTO A LIST (INSERTING)\n",
    "# This option uses the insert() method. \n",
    "# This method allows you to add new elements into a list in an index of your choice. \n",
    "# In simple words, you are NOT longer restricted to the end of the list, which is what append() does.\n",
    "# FORMAT --> List_Name.insert(index_of_your_choice, element_to_be_inserted)\n",
    "\n",
    "buildings = ['Bolin', 'McCoy', 'Dillards', 'Centenial'] # original list\n",
    "print(buildings)   #show the before\n",
    "buildings.insert(0, 'Hardin')\n",
    "print(buildings)   #show the after"
   ]
  },
  {
   "cell_type": "markdown",
   "metadata": {},
   "source": [
    "# REMOVING ELEMENTS"
   ]
  },
  {
   "cell_type": "code",
   "execution_count": 30,
   "metadata": {},
   "outputs": [
    {
     "name": "stdout",
     "output_type": "stream",
     "text": [
      "['Hardin', 'Pierce', 'McCoy', 'Dillards', 'Centenial', 'Bolin']\n",
      "['Hardin', 'Pierce', 'McCoy', 'Dillards', 'Centenial']\n",
      "Bolin\n"
     ]
    }
   ],
   "source": [
    "# 3. REMOVING ELEMENTS FROM A LIST - POP()\n",
    "# This option makes use of the pop() method\n",
    "# This method removes the element at THE END OF THE LIST (by default)\n",
    "# why the pop method??? --> Because it allows you to capture the element being removed and use it IFF you want\n",
    "\n",
    "print(buildings)   #show the before\n",
    "value_removed = buildings.pop()\n",
    "print(buildings)   #show the after\n",
    "print(value_removed)"
   ]
  },
  {
   "cell_type": "code",
   "execution_count": 31,
   "metadata": {},
   "outputs": [
    {
     "name": "stdout",
     "output_type": "stream",
     "text": [
      "['Hardin', 'Pierce', 'McCoy', 'Dillards', 'Centenial']\n",
      "['Hardin', 'Pierce', 'McCoy', 'Centenial']\n",
      "Dillards\n"
     ]
    }
   ],
   "source": [
    "# 4. REMOVING ELEMENTS FROM A LIST - POP() - BUT WITH INDEX\n",
    "# This is not the default behavior for this method (pop()). \n",
    "# In this variant you specify the index for the element of interest - the one that you want to remove\n",
    "#FORMAT --> list_Name.pop(index)\n",
    "\n",
    "print(buildings)   #show the before\n",
    "value_removed = buildings.pop(3)\n",
    "print(buildings)   #show the after\n",
    "print(value_removed)"
   ]
  },
  {
   "cell_type": "code",
   "execution_count": 32,
   "metadata": {},
   "outputs": [
    {
     "name": "stdout",
     "output_type": "stream",
     "text": [
      "['Hardin', 'Pierce', 'McCoy', 'Centenial']\n",
      "['Pierce', 'McCoy', 'Centenial']\n",
      "['Pierce', 'McCoy']\n"
     ]
    }
   ],
   "source": [
    "# 5A. REMOVING ELEMENTS FROM A LIST - USING THE STATEMENT --> DEL\n",
    "# del does not return a value.\n",
    "\n",
    "print(buildings)   #show the before\n",
    "del buildings[0]\n",
    "print(buildings)   #show the after/before\n",
    "del buildings[-1]\n",
    "print(buildings)   #show the after"
   ]
  },
  {
   "cell_type": "code",
   "execution_count": null,
   "metadata": {},
   "outputs": [],
   "source": [
    "# 5B. REMOVING ELEMENTS FROM A LIST BY VALUE - USES .remove(value_to_be_removed)\n",
    "# del does not return a value."
   ]
  },
  {
   "cell_type": "code",
   "execution_count": 34,
   "metadata": {},
   "outputs": [
    {
     "name": "stdout",
     "output_type": "stream",
     "text": [
      "===== FIRST VARIANT =====\n",
      "['Bolin', 'McCoy', 'Dillards', 'Centenial', 'Fain', 'Pierce']\n",
      "['Bolin', 'McCoy', 'Dillards', 'Fain', 'Pierce']\n",
      "===== SECOND VARIANT =====\n",
      "['Bolin', 'Dillards', 'Fain', 'Pierce']\n"
     ]
    }
   ],
   "source": [
    "buildings = ['Bolin', 'McCoy', 'Dillards', 'Centenial', 'Fain', 'Pierce'] # original list\n",
    "\n",
    "print(\"===== FIRST VARIANT =====\")\n",
    "print(buildings)   #show the before\n",
    "buildings.remove('Centenial')\n",
    "print(buildings)   #show the after/beforw\n",
    "\n",
    "print(\"===== SECOND VARIANT =====\")\n",
    "value_to_remove = 'McCoy'\n",
    "buildings.remove(value_to_remove)\n",
    "print(buildings)   #show the after"
   ]
  },
  {
   "cell_type": "markdown",
   "metadata": {},
   "source": [
    "# SORTING A LIST "
   ]
  },
  {
   "cell_type": "markdown",
   "metadata": {},
   "source": [
    "# using sort() - it affects the list acted upon - PERMANENT CHANGE\n",
    "format --> list_name.sort()"
   ]
  },
  {
   "cell_type": "code",
   "execution_count": 37,
   "metadata": {},
   "outputs": [
    {
     "ename": "TypeError",
     "evalue": "'<' not supported between instances of 'str' and 'float'",
     "output_type": "error",
     "traceback": [
      "\u001b[1;31m---------------------------------------------------------------------------\u001b[0m",
      "\u001b[1;31mTypeError\u001b[0m                                 Traceback (most recent call last)",
      "\u001b[1;32m<ipython-input-37-d13fd88a42d5>\u001b[0m in \u001b[0;36m<module>\u001b[1;34m\u001b[0m\n\u001b[0;32m      1\u001b[0m \u001b[0mmixed_list\u001b[0m \u001b[1;33m=\u001b[0m \u001b[1;33m[\u001b[0m\u001b[1;36m10\u001b[0m\u001b[1;33m,\u001b[0m \u001b[1;36m3.25\u001b[0m\u001b[1;33m,\u001b[0m \u001b[1;34m\"Coconu\"\u001b[0m\u001b[1;33m,\u001b[0m \u001b[1;34m\"Boat\"\u001b[0m\u001b[1;33m,\u001b[0m \u001b[1;34m\"Alphabet\"\u001b[0m\u001b[1;33m,\u001b[0m \u001b[1;36m5.55\u001b[0m\u001b[1;33m,\u001b[0m \u001b[1;36m2\u001b[0m\u001b[1;33m]\u001b[0m  \u001b[1;31m#defining a list\u001b[0m\u001b[1;33m\u001b[0m\u001b[1;33m\u001b[0m\u001b[0m\n\u001b[0;32m      2\u001b[0m \u001b[1;33m\u001b[0m\u001b[0m\n\u001b[1;32m----> 3\u001b[1;33m \u001b[0mmixed_list\u001b[0m\u001b[1;33m.\u001b[0m\u001b[0msort\u001b[0m\u001b[1;33m(\u001b[0m\u001b[1;33m)\u001b[0m\u001b[1;33m\u001b[0m\u001b[1;33m\u001b[0m\u001b[0m\n\u001b[0m\u001b[0;32m      4\u001b[0m \u001b[1;33m\u001b[0m\u001b[0m\n",
      "\u001b[1;31mTypeError\u001b[0m: '<' not supported between instances of 'str' and 'float'"
     ]
    }
   ],
   "source": [
    "mixed_list = [10, 3.25, \"Coconut\", \"Boat\", \"Alphabet\", 5.55, 2]  #defining a list\n",
    "mixed_list.sort()"
   ]
  },
  {
   "cell_type": "code",
   "execution_count": 38,
   "metadata": {},
   "outputs": [
    {
     "ename": "TypeError",
     "evalue": "'<' not supported between instances of 'str' and 'int'",
     "output_type": "error",
     "traceback": [
      "\u001b[1;31m---------------------------------------------------------------------------\u001b[0m",
      "\u001b[1;31mTypeError\u001b[0m                                 Traceback (most recent call last)",
      "\u001b[1;32m<ipython-input-38-601c2ef9941b>\u001b[0m in \u001b[0;36m<module>\u001b[1;34m\u001b[0m\n\u001b[0;32m      1\u001b[0m \u001b[0mmixed_list\u001b[0m \u001b[1;33m=\u001b[0m \u001b[1;33m[\u001b[0m\u001b[1;36m10\u001b[0m\u001b[1;33m,\u001b[0m \u001b[1;34m\"Coconu\"\u001b[0m\u001b[1;33m,\u001b[0m \u001b[1;34m\"Boat\"\u001b[0m\u001b[1;33m,\u001b[0m \u001b[1;34m\"Alphabet\"\u001b[0m\u001b[1;33m,\u001b[0m \u001b[1;36m2\u001b[0m\u001b[1;33m]\u001b[0m  \u001b[1;31m#defining a list\u001b[0m\u001b[1;33m\u001b[0m\u001b[1;33m\u001b[0m\u001b[0m\n\u001b[1;32m----> 2\u001b[1;33m \u001b[0mmixed_list\u001b[0m\u001b[1;33m.\u001b[0m\u001b[0msort\u001b[0m\u001b[1;33m(\u001b[0m\u001b[1;33m)\u001b[0m\u001b[1;33m\u001b[0m\u001b[1;33m\u001b[0m\u001b[0m\n\u001b[0m",
      "\u001b[1;31mTypeError\u001b[0m: '<' not supported between instances of 'str' and 'int'"
     ]
    }
   ],
   "source": [
    "mixed_list = [10, \"Coconu\", \"Boat\", \"Alphabet\", 2]  #defining a list\n",
    "mixed_list.sort()"
   ]
  },
  {
   "cell_type": "code",
   "execution_count": 40,
   "metadata": {},
   "outputs": [
    {
     "name": "stdout",
     "output_type": "stream",
     "text": [
      "['Alphabet', 'Boat', 'Coconut', 'Yolo', 'Zebra']\n"
     ]
    }
   ],
   "source": [
    "# This one will work as expected -->\n",
    "mixed_list = [\"Coconut\", \"Boat\", \"Alphabet\", \"Zebra\", \"Yolo\"]  #defining a list\n",
    "mixed_list.sort()\n",
    "print(mixed_list)"
   ]
  },
  {
   "cell_type": "markdown",
   "metadata": {},
   "source": [
    "# REVERSING A LIST - TWO OPTIONS - PERMANENT CHANGE"
   ]
  },
  {
   "cell_type": "code",
   "execution_count": 51,
   "metadata": {},
   "outputs": [
    {
     "name": "stdout",
     "output_type": "stream",
     "text": [
      "=== FIRST VERSION ===\n",
      "['Coconut', 'Boat', 'Alphabet', 'Zebra', 'Yolo']\n",
      "['Zebra', 'Yolo', 'Coconut', 'Boat', 'Alphabet']\n",
      "=== SECOND VERSION ===\n",
      "['Alphabet', 'Boat', 'Coconut', 'Yolo', 'Zebra']\n"
     ]
    }
   ],
   "source": [
    "# This one also will work as expected, objective to sort the list BUT in reverse order\n",
    "print(\"=== FIRST VERSION ===\")\n",
    "mixed_list = [\"Coconut\", \"Boat\", \"Alphabet\", \"Zebra\", \"Yolo\"]  #defining a list - BEFORE\n",
    "print(mixed_list)\n",
    "mixed_list.sort(reverse=True)  # THIS INSTRUCTION IS DIFFERENT - COMPARE IT TO THE CELL ABOVE\n",
    "print(mixed_list)  # AFTER / BEFORE\n",
    "\n",
    "\n",
    "print(\"=== SECOND VERSION ===\")\n",
    "mixed_list.reverse()\n",
    "print(mixed_list)   #AFTER\n"
   ]
  },
  {
   "cell_type": "markdown",
   "metadata": {},
   "source": [
    "# NUMERICAL LISTS"
   ]
  },
  {
   "cell_type": "code",
   "execution_count": 42,
   "metadata": {},
   "outputs": [
    {
     "name": "stdout",
     "output_type": "stream",
     "text": [
      "[-1, 1, 5, 7, 11]\n"
     ]
    }
   ],
   "source": [
    "#What about a list full of ONLY integer numbers\n",
    "small_number_list = [5, 7, 11, 1, -1]\n",
    "small_number_list.sort()\n",
    "print(small_number_list)"
   ]
  },
  {
   "cell_type": "code",
   "execution_count": 44,
   "metadata": {},
   "outputs": [
    {
     "name": "stdout",
     "output_type": "stream",
     "text": [
      "[1.1, 3.3, 4.4, 6.6, 9.9]\n"
     ]
    }
   ],
   "source": [
    "#What about a list full of ONLY floating point numbers\n",
    "small_number_list = [9.9, 3.3, 1.1, 6.6, 4.4]\n",
    "small_number_list.sort()\n",
    "print(small_number_list)"
   ]
  },
  {
   "cell_type": "code",
   "execution_count": 45,
   "metadata": {},
   "outputs": [
    {
     "name": "stdout",
     "output_type": "stream",
     "text": [
      "[1, 2, 3.3, 6, 8.8, 9.9]\n"
     ]
    }
   ],
   "source": [
    "#What about a list full of a MIX between integers & floating point numbers\n",
    "small_number_list = [9.9, 3.3, 6, 2, 8.8, 1]\n",
    "small_number_list.sort()\n",
    "print(small_number_list)"
   ]
  },
  {
   "cell_type": "markdown",
   "metadata": {},
   "source": [
    "# Temporary Sorting - sorted() - NOT a permanent change to the list\n",
    "IMPORTANT --> sort() and sorted() are NOT THE SAME Thing"
   ]
  },
  {
   "cell_type": "code",
   "execution_count": 2,
   "metadata": {},
   "outputs": [
    {
     "name": "stdout",
     "output_type": "stream",
     "text": [
      "['Alphabet', 'Boat', 'Coconut', 'Yolo', 'Zebra']\n",
      "['Coconut', 'Boat', 'Alphabet', 'Zebra', 'Yolo']\n"
     ]
    }
   ],
   "source": [
    "mixed_list = [\"Coconut\", \"Boat\", \"Alphabet\", \"Zebra\", \"Yolo\"]  #defining a list\n",
    "print(sorted(mixed_list))  #temporary sorted list\n",
    "print(mixed_list)          #original list"
   ]
  },
  {
   "cell_type": "markdown",
   "metadata": {},
   "source": [
    "# FIND OUT NUMBER OF ELEMENTS IN A LIST"
   ]
  },
  {
   "cell_type": "code",
   "execution_count": 52,
   "metadata": {},
   "outputs": [
    {
     "data": {
      "text/plain": [
       "5"
      ]
     },
     "execution_count": 52,
     "metadata": {},
     "output_type": "execute_result"
    }
   ],
   "source": [
    "len(mixed_list)"
   ]
  },
  {
   "cell_type": "markdown",
   "metadata": {},
   "source": [
    "# Returning The last Element on the list"
   ]
  },
  {
   "cell_type": "code",
   "execution_count": 5,
   "metadata": {},
   "outputs": [
    {
     "name": "stdout",
     "output_type": "stream",
     "text": [
      "Yolo\n"
     ]
    }
   ],
   "source": [
    "print(mixed_list[-1])"
   ]
  },
  {
   "cell_type": "code",
   "execution_count": 11,
   "metadata": {},
   "outputs": [
    {
     "ename": "IndexError",
     "evalue": "list index out of range",
     "output_type": "error",
     "traceback": [
      "\u001b[1;31m---------------------------------------------------------------------------\u001b[0m",
      "\u001b[1;31mIndexError\u001b[0m                                Traceback (most recent call last)",
      "\u001b[1;32m~\\AppData\\Local\\Temp\\ipykernel_15804\\233106209.py\u001b[0m in \u001b[0;36m<module>\u001b[1;34m\u001b[0m\n\u001b[0;32m      1\u001b[0m \u001b[1;31m#the previous example will fail IFF the list is empty, see the example below\u001b[0m\u001b[1;33m\u001b[0m\u001b[1;33m\u001b[0m\u001b[1;33m\u001b[0m\u001b[0m\n\u001b[0;32m      2\u001b[0m \u001b[0mtemp_list\u001b[0m \u001b[1;33m=\u001b[0m \u001b[1;33m[\u001b[0m\u001b[1;33m]\u001b[0m \u001b[1;31m# This is the declaration of an empty list\u001b[0m\u001b[1;33m\u001b[0m\u001b[1;33m\u001b[0m\u001b[0m\n\u001b[1;32m----> 3\u001b[1;33m \u001b[0mprint\u001b[0m\u001b[1;33m(\u001b[0m\u001b[0mtemp_list\u001b[0m\u001b[1;33m[\u001b[0m\u001b[1;33m-\u001b[0m\u001b[1;36m1\u001b[0m\u001b[1;33m]\u001b[0m\u001b[1;33m)\u001b[0m\u001b[1;33m\u001b[0m\u001b[1;33m\u001b[0m\u001b[0m\n\u001b[0m",
      "\u001b[1;31mIndexError\u001b[0m: list index out of range"
     ]
    }
   ],
   "source": [
    "#the previous example will fail IFF the list is empty, see the example below\n",
    "temp_list = [] # This is the declaration of an empty list\n",
    "print(temp_list[-1])"
   ]
  },
  {
   "cell_type": "markdown",
   "metadata": {},
   "source": [
    "# Looping through A List"
   ]
  },
  {
   "cell_type": "code",
   "execution_count": 8,
   "metadata": {},
   "outputs": [
    {
     "name": "stdout",
     "output_type": "stream",
     "text": [
      "Current Building is Bolin\n",
      "Current Building is McCoy\n",
      "Current Building is Dillards\n",
      "Current Building is Centenial\n",
      "Current Building is Fain\n",
      "Current Building is Pierce\n"
     ]
    }
   ],
   "source": [
    "buildings = ['Bolin', 'McCoy', 'Dillards', 'Centenial', 'Fain', 'Pierce'] # original list\n",
    "\n",
    "for building in buildings:\n",
    "    print(f\"Current Building is {building}\")"
   ]
  },
  {
   "cell_type": "markdown",
   "metadata": {},
   "source": [
    "# Doing more work per iteration"
   ]
  },
  {
   "cell_type": "code",
   "execution_count": 11,
   "metadata": {},
   "outputs": [
    {
     "name": "stdout",
     "output_type": "stream",
     "text": [
      "Lower case--> bolin \t| Upper case-->  BOLIN \n",
      "Lower case--> mccoy \t| Upper case-->  MCCOY \n",
      "Lower case--> dillards \t| Upper case-->  DILLARDS \n",
      "Lower case--> centenial \t| Upper case-->  CENTENIAL \n",
      "Lower case--> fain \t| Upper case-->  FAIN \n",
      "Lower case--> pierce \t| Upper case-->  PIERCE \n"
     ]
    }
   ],
   "source": [
    "buildings = ['Bolin', 'McCoy', 'Dillards', 'Centenial', 'Fain', 'Pierce'] # original list\n",
    "\n",
    "for building in buildings:\n",
    "    print(f\"Lower case--> {building.lower()} \\t| Upper case-->  {building.upper()} \")"
   ]
  },
  {
   "cell_type": "markdown",
   "metadata": {},
   "source": [
    "# Numerical List with the range function - range()"
   ]
  },
  {
   "cell_type": "markdown",
   "metadata": {},
   "source": [
    "The range function has the following format\n",
    "1) default --> range(start, stop).\n",
    "a) This function is particularly helpful to generate numbers between start and stop, \n",
    "b) The default format uses a step of one. \n",
    "c) The stop value is not included\n",
    "However, there is a variant that deserves to be examined\n",
    "\n",
    "2) variant --> range(start, stop, step).  \n",
    "a) This variant generates numbers that go from start to stop\n",
    "b) The increase between values is equal to step\n",
    "c) stop is not included"
   ]
  },
  {
   "cell_type": "code",
   "execution_count": 23,
   "metadata": {},
   "outputs": [
    {
     "name": "stdout",
     "output_type": "stream",
     "text": [
      "1\n",
      "3\n",
      "5\n",
      "7\n",
      "9\n"
     ]
    }
   ],
   "source": [
    "# analyze the SSS --> Start - Stop - Step\n",
    "for value in range(1,10,2):\n",
    "    print(value)"
   ]
  },
  {
   "cell_type": "code",
   "execution_count": 24,
   "metadata": {},
   "outputs": [
    {
     "name": "stdout",
     "output_type": "stream",
     "text": [
      "0\n",
      "1\n",
      "2\n",
      "3\n",
      "4\n"
     ]
    }
   ],
   "source": [
    "for i in range(0,5):\n",
    "    print(i)\n"
   ]
  },
  {
   "cell_type": "markdown",
   "metadata": {},
   "source": [
    "However, this does not generate a list. Really, show me???"
   ]
  },
  {
   "cell_type": "code",
   "execution_count": 27,
   "metadata": {},
   "outputs": [
    {
     "name": "stdout",
     "output_type": "stream",
     "text": [
      "This is the data type BEFORE <class 'range'>\n",
      "This is the data type AFTER <class 'list'>\n"
     ]
    }
   ],
   "source": [
    "x= range(0,5)\n",
    "print(f\"This is the data type BEFORE {type(x)}\") # this will print the type, if you see LIST then  you have a list, otherwise you have something else\n",
    "\n",
    "#so what can we do?? you can do what follows (see below)\n",
    "x = list(range(0,5))\n",
    "type(x)\n",
    "print(f\"This is the data type AFTER {type(x)}\") "
   ]
  },
  {
   "cell_type": "markdown",
   "metadata": {},
   "source": [
    "# Write a python program that will print on screen all the even integer number between 0 and 100, including 100."
   ]
  },
  {
   "cell_type": "code",
   "execution_count": 30,
   "metadata": {},
   "outputs": [
    {
     "name": "stdout",
     "output_type": "stream",
     "text": [
      "[0, 2, 4, 6, 8, 10, 12, 14, 16, 18, 20, 22, 24, 26, 28, 30, 32, 34, 36, 38, 40, 42, 44, 46, 48, 50, 52, 54, 56, 58, 60, 62, 64, 66, 68, 70, 72, 74, 76, 78, 80, 82, 84, 86, 88, 90, 92, 94, 96, 98, 100]\n"
     ]
    }
   ],
   "source": [
    "our_list = list(range(0,101,2))\n",
    "print(our_list)"
   ]
  },
  {
   "cell_type": "markdown",
   "metadata": {},
   "source": [
    "# Write a python program that will print on screen all odd integer number between 0 and 100."
   ]
  },
  {
   "cell_type": "code",
   "execution_count": 33,
   "metadata": {},
   "outputs": [
    {
     "name": "stdout",
     "output_type": "stream",
     "text": [
      "[1, 3, 5, 7, 9, 11, 13, 15, 17, 19, 21, 23, 25, 27, 29, 31, 33, 35, 37, 39, 41, 43, 45, 47, 49, 51, 53, 55, 57, 59, 61, 63, 65, 67, 69, 71, 73, 75, 77, 79, 81, 83, 85, 87, 89, 91, 93, 95, 97, 99]\n"
     ]
    }
   ],
   "source": [
    "our_list = list(range(1,101,2))\n",
    "print(our_list)"
   ]
  },
  {
   "cell_type": "markdown",
   "metadata": {},
   "source": [
    "# MIN - MAX - SUM"
   ]
  },
  {
   "cell_type": "markdown",
   "metadata": {},
   "source": [
    "Python has multiple built-in fxs that can help to find useful information very quickly"
   ]
  },
  {
   "cell_type": "code",
   "execution_count": 35,
   "metadata": {},
   "outputs": [
    {
     "name": "stdout",
     "output_type": "stream",
     "text": [
      "The Minimum value in our list is 1\n",
      "The Maximum value in our list is 99\n",
      "The Summ of all values in our list is 2500\n"
     ]
    }
   ],
   "source": [
    "print(f\"The Minimum value in our list is {min(our_list)}\")\n",
    "print(f\"The Maximum value in our list is {max(our_list)}\")\n",
    "print(f\"The Summ of all values in our list is {sum(our_list)}\")"
   ]
  },
  {
   "cell_type": "markdown",
   "metadata": {},
   "source": [
    "# CAREFUL WHEN COPYING A LIST"
   ]
  },
  {
   "cell_type": "code",
   "execution_count": 42,
   "metadata": {},
   "outputs": [
    {
     "name": "stdout",
     "output_type": "stream",
     "text": [
      "buildings--> ['Bolin', 'McCoy', 'Dillards', 'Centenial', 'Fain', 'Pierce']\n",
      "my_copy_list--> ['Bolin', 'McCoy', 'Dillards', 'Centenial', 'Fain', 'Pierce']\n"
     ]
    }
   ],
   "source": [
    "#CHECK THIS EXAMPLE - EXECUTE IT AND EXAMINE THE OUTPUT\n",
    "\n",
    "buildings = ['Bolin', 'McCoy', 'Dillards', 'Centenial', 'Fain', 'Pierce'] # original list\n",
    "my_copy_list = buildings  # Attempt at copying the list\n",
    "print(f\"buildings--> {buildings}\")\n",
    "print(f\"my_copy_list--> {my_copy_list}\")\n",
    "\n",
    "# these outputs seeem to be the same, it looks like the copy actually worked. mmmmmmmmmmmmmmmmmmmmmmmmmmmmm"
   ]
  },
  {
   "cell_type": "code",
   "execution_count": 43,
   "metadata": {},
   "outputs": [
    {
     "name": "stdout",
     "output_type": "stream",
     "text": [
      "buildings--> ['Bolin', 'McCoy', 'Dillards', 'Centenial', 'Fain', 'Pierce', 'The Library']\n",
      "my_copy_list--> ['Bolin', 'McCoy', 'Dillards', 'Centenial', 'Fain', 'Pierce', 'The Library']\n"
     ]
    }
   ],
   "source": [
    "# Here we are going to append The Library to the building list. Once that is done, we are going to print both lists.\n",
    "# The expected result is to have two similar but different lists\n",
    "\n",
    "buildings.append('The Library')    \n",
    "print(f\"buildings--> {buildings}\")\n",
    "print(f\"my_copy_list--> {my_copy_list}\")\n",
    "\n",
    "# The results below do not support our expected outcome. WHAT DOES IT MEAN? \n",
    "# --> THE COPYING MECHANISM IS NOT CORRECT, IT IS A POINTER INSTEAD OF A REAL COPY"
   ]
  },
  {
   "cell_type": "markdown",
   "metadata": {},
   "source": [
    "#SO WHAT TO DO IN ORDER TO HAVE A REAL COPY\n",
    "Answer: Make a slice that includes the original list. This is is done by ommiting the first and second index. This pretty much tells python to create a slice that starts at the first element and concludes with the last element, this results in an exact copy. SHOW ME HOW -->"
   ]
  },
  {
   "cell_type": "code",
   "execution_count": 44,
   "metadata": {},
   "outputs": [
    {
     "name": "stdout",
     "output_type": "stream",
     "text": [
      "buildings--> ['Bolin', 'McCoy', 'Dillards', 'Centenial', 'Fain', 'Pierce', 'The Library']\n",
      "my_copy_list--> ['Bolin', 'McCoy', 'Dillards', 'Centenial', 'Fain', 'Pierce']\n"
     ]
    }
   ],
   "source": [
    "#COPYING THE RIGHT WAY\n",
    "\n",
    "buildings = ['Bolin', 'McCoy', 'Dillards', 'Centenial', 'Fain', 'Pierce'] # original list\n",
    "\n",
    "my_copy_list = buildings[:]   #HERE IS WHERE THE MAGIC HAPPENS\n",
    "\n",
    "buildings.append('The Library')   #changin the building list \n",
    "print(f\"buildings--> {buildings}\")\n",
    "print(f\"my_copy_list--> {my_copy_list}\")"
   ]
  },
  {
   "cell_type": "markdown",
   "metadata": {},
   "source": [
    "## Basic List Methods\n",
    "\n",
    "If you are familiar with another programming language, you might start to draw parallels between arrays in another language and lists in Python. Lists in Python however, tend to be more flexible than arrays in other languages for a two good reasons: they have no fixed size (meaning we don't have to specify how big a list will be), and they have no fixed type constraint (like we've seen above).\n",
    "\n",
    "Let's go ahead and explore some more special methods for lists:\n"
   ]
  },
  {
   "cell_type": "code",
   "execution_count": null,
   "metadata": {},
   "outputs": [],
   "source": []
  },
  {
   "cell_type": "code",
   "execution_count": 42,
   "metadata": {
    "collapsed": true,
    "jupyter": {
     "outputs_hidden": true
    }
   },
   "outputs": [],
   "source": [
    "# Create a new list\n",
    "l = [1,2,3]"
   ]
  },
  {
   "cell_type": "markdown",
   "metadata": {},
   "source": [
    "Use the **append** method to permanently add an item to the end of a list:"
   ]
  },
  {
   "cell_type": "code",
   "execution_count": 43,
   "metadata": {
    "collapsed": true,
    "jupyter": {
     "outputs_hidden": true
    }
   },
   "outputs": [],
   "source": [
    "# Append\n",
    "l.append('append me!')"
   ]
  },
  {
   "cell_type": "code",
   "execution_count": 44,
   "metadata": {},
   "outputs": [
    {
     "data": {
      "text/plain": [
       "[1, 2, 3, 'append me!']"
      ]
     },
     "execution_count": 44,
     "metadata": {},
     "output_type": "execute_result"
    }
   ],
   "source": [
    "# Show\n",
    "l"
   ]
  },
  {
   "cell_type": "markdown",
   "metadata": {},
   "source": [
    "Use **pop** to \"pop off\" an item from the list. By default pop takes off the last index, but you can also specify which index to pop off. Let's see an example:"
   ]
  },
  {
   "cell_type": "code",
   "execution_count": 45,
   "metadata": {},
   "outputs": [
    {
     "data": {
      "text/plain": [
       "1"
      ]
     },
     "execution_count": 45,
     "metadata": {},
     "output_type": "execute_result"
    }
   ],
   "source": [
    "# Pop off the 0 indexed item\n",
    "l.pop(0)"
   ]
  },
  {
   "cell_type": "code",
   "execution_count": 46,
   "metadata": {},
   "outputs": [
    {
     "data": {
      "text/plain": [
       "[2, 3, 'append me!']"
      ]
     },
     "execution_count": 46,
     "metadata": {},
     "output_type": "execute_result"
    }
   ],
   "source": [
    "# Show\n",
    "l"
   ]
  },
  {
   "cell_type": "code",
   "execution_count": 47,
   "metadata": {
    "collapsed": true,
    "jupyter": {
     "outputs_hidden": true
    }
   },
   "outputs": [],
   "source": [
    "# Assign the popped element, remember default popped index is -1\n",
    "popped_item = l.pop()"
   ]
  },
  {
   "cell_type": "code",
   "execution_count": 48,
   "metadata": {},
   "outputs": [
    {
     "data": {
      "text/plain": [
       "'append me!'"
      ]
     },
     "execution_count": 48,
     "metadata": {},
     "output_type": "execute_result"
    }
   ],
   "source": [
    "popped_item"
   ]
  },
  {
   "cell_type": "code",
   "execution_count": 49,
   "metadata": {},
   "outputs": [
    {
     "data": {
      "text/plain": [
       "[2, 3]"
      ]
     },
     "execution_count": 49,
     "metadata": {},
     "output_type": "execute_result"
    }
   ],
   "source": [
    "# Show remaining list\n",
    "l"
   ]
  },
  {
   "cell_type": "markdown",
   "metadata": {},
   "source": [
    "It should also be noted that lists indexing will return an error if there is no element at that index. For example:"
   ]
  },
  {
   "cell_type": "code",
   "execution_count": 50,
   "metadata": {},
   "outputs": [
    {
     "ename": "IndexError",
     "evalue": "list index out of range",
     "output_type": "error",
     "traceback": [
      "\u001b[0;31m---------------------------------------------------------------------------\u001b[0m",
      "\u001b[0;31mIndexError\u001b[0m                                Traceback (most recent call last)",
      "\u001b[0;32m<ipython-input-50-3e7ce3111e95>\u001b[0m in \u001b[0;36m<module>\u001b[0;34m()\u001b[0m\n\u001b[0;32m----> 1\u001b[0;31m \u001b[0ml\u001b[0m\u001b[0;34m[\u001b[0m\u001b[0;36m100\u001b[0m\u001b[0;34m]\u001b[0m\u001b[0;34m\u001b[0m\u001b[0m\n\u001b[0m",
      "\u001b[0;31mIndexError\u001b[0m: list index out of range"
     ]
    }
   ],
   "source": [
    "l[100]"
   ]
  },
  {
   "cell_type": "markdown",
   "metadata": {},
   "source": [
    "We can use the **sort** method and the **reverse** methods to also effect your lists:"
   ]
  },
  {
   "cell_type": "code",
   "execution_count": 51,
   "metadata": {
    "collapsed": true,
    "jupyter": {
     "outputs_hidden": true
    }
   },
   "outputs": [],
   "source": [
    "new_list = ['a','e','x','b','c']"
   ]
  },
  {
   "cell_type": "code",
   "execution_count": 52,
   "metadata": {},
   "outputs": [
    {
     "data": {
      "text/plain": [
       "['a', 'e', 'x', 'b', 'c']"
      ]
     },
     "execution_count": 52,
     "metadata": {},
     "output_type": "execute_result"
    }
   ],
   "source": [
    "#Show\n",
    "new_list"
   ]
  },
  {
   "cell_type": "code",
   "execution_count": 53,
   "metadata": {
    "collapsed": true,
    "jupyter": {
     "outputs_hidden": true
    }
   },
   "outputs": [],
   "source": [
    "# Use reverse to reverse order (this is permanent!)\n",
    "new_list.reverse()"
   ]
  },
  {
   "cell_type": "code",
   "execution_count": 54,
   "metadata": {},
   "outputs": [
    {
     "data": {
      "text/plain": [
       "['c', 'b', 'x', 'e', 'a']"
      ]
     },
     "execution_count": 54,
     "metadata": {},
     "output_type": "execute_result"
    }
   ],
   "source": [
    "new_list"
   ]
  },
  {
   "cell_type": "code",
   "execution_count": 55,
   "metadata": {
    "collapsed": true,
    "jupyter": {
     "outputs_hidden": true
    }
   },
   "outputs": [],
   "source": [
    "# Use sort to sort the list (in this case alphabetical order, but for numbers it will go ascending)\n",
    "new_list.sort()"
   ]
  },
  {
   "cell_type": "code",
   "execution_count": 56,
   "metadata": {},
   "outputs": [
    {
     "data": {
      "text/plain": [
       "['a', 'b', 'c', 'e', 'x']"
      ]
     },
     "execution_count": 56,
     "metadata": {},
     "output_type": "execute_result"
    }
   ],
   "source": [
    "new_list"
   ]
  },
  {
   "cell_type": "markdown",
   "metadata": {},
   "source": [
    "## Nesting Lists\n",
    "A great feature of of Python data structures is that they support *nesting*. This means we can have data structures within data structures. For example: A list inside a list.\n",
    "\n",
    "Let's see how this works!"
   ]
  },
  {
   "cell_type": "code",
   "execution_count": 57,
   "metadata": {
    "collapsed": true,
    "jupyter": {
     "outputs_hidden": true
    }
   },
   "outputs": [],
   "source": [
    "# Let's make three lists\n",
    "lst_1=[1,2,3]\n",
    "lst_2=[4,5,6]\n",
    "lst_3=[7,8,9]\n",
    "\n",
    "# Make a list of lists to form a matrix\n",
    "matrix = [lst_1,lst_2,lst_3]"
   ]
  },
  {
   "cell_type": "code",
   "execution_count": 60,
   "metadata": {},
   "outputs": [
    {
     "data": {
      "text/plain": [
       "[[1, 2, 3], [4, 5, 6], [7, 8, 9]]"
      ]
     },
     "execution_count": 60,
     "metadata": {},
     "output_type": "execute_result"
    }
   ],
   "source": [
    "# Show\n",
    "matrix"
   ]
  },
  {
   "cell_type": "markdown",
   "metadata": {},
   "source": [
    "Now we can again use indexing to grab elements, but now there are two levels for the index. The items in the matrix object, and then the items inside that list!"
   ]
  },
  {
   "cell_type": "code",
   "execution_count": 61,
   "metadata": {},
   "outputs": [
    {
     "data": {
      "text/plain": [
       "[1, 2, 3]"
      ]
     },
     "execution_count": 61,
     "metadata": {},
     "output_type": "execute_result"
    }
   ],
   "source": [
    "# Grab first item in matrix object\n",
    "matrix[0]"
   ]
  },
  {
   "cell_type": "code",
   "execution_count": 62,
   "metadata": {},
   "outputs": [
    {
     "data": {
      "text/plain": [
       "1"
      ]
     },
     "execution_count": 62,
     "metadata": {},
     "output_type": "execute_result"
    }
   ],
   "source": [
    "# Grab first item of the first item in the matrix object\n",
    "matrix[0][0]"
   ]
  },
  {
   "cell_type": "markdown",
   "metadata": {},
   "source": [
    "# List Comprehensions\n",
    "Python has an advanced feature called list comprehensions. They allow for quick construction of lists. To fully understand list comprehensions we need to understand for loops. So don't worry if you don't completely understand this section, and feel free to just skip it since we will return to this topic later.\n",
    "\n",
    "But in case you want to know now, here are a few examples!"
   ]
  },
  {
   "cell_type": "code",
   "execution_count": 63,
   "metadata": {
    "collapsed": true,
    "jupyter": {
     "outputs_hidden": true
    }
   },
   "outputs": [],
   "source": [
    "# Build a list comprehension by deconstructing a for loop within a []\n",
    "first_col = [row[0] for row in matrix]"
   ]
  },
  {
   "cell_type": "code",
   "execution_count": 64,
   "metadata": {},
   "outputs": [
    {
     "data": {
      "text/plain": [
       "[1, 4, 7]"
      ]
     },
     "execution_count": 64,
     "metadata": {},
     "output_type": "execute_result"
    }
   ],
   "source": [
    "first_col"
   ]
  },
  {
   "cell_type": "markdown",
   "metadata": {},
   "source": [
    "We used list comprehension here to grab the first element of every row in the matrix object. We will cover this in much more detail later on!\n",
    "\n",
    "For more advanced methods and features of lists in Python, check out the advanced list section later on in this course!"
   ]
  },
  {
   "cell_type": "code",
   "execution_count": null,
   "metadata": {
    "collapsed": true,
    "jupyter": {
     "outputs_hidden": true
    }
   },
   "outputs": [],
   "source": []
  }
 ],
 "metadata": {
  "kernelspec": {
   "display_name": "Python 3 (ipykernel)",
   "language": "python",
   "name": "python3"
  },
  "language_info": {
   "codemirror_mode": {
    "name": "ipython",
    "version": 3
   },
   "file_extension": ".py",
   "mimetype": "text/x-python",
   "name": "python",
   "nbconvert_exporter": "python",
   "pygments_lexer": "ipython3",
   "version": "3.12.4"
  }
 },
 "nbformat": 4,
 "nbformat_minor": 4
}
