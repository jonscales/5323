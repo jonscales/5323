{
 "cells": [
  {
   "cell_type": "markdown",
   "metadata": {},
   "source": [
    "# User Input"
   ]
  },
  {
   "cell_type": "code",
   "execution_count": null,
   "metadata": {},
   "outputs": [],
   "source": [
    "user_age = input(\"Please enter your age:\")\n",
    "print(f\"The user entered {user_age}\")"
   ]
  },
  {
   "cell_type": "markdown",
   "metadata": {},
   "source": [
    "## Be careful with numerical entries. The one below will fail"
   ]
  },
  {
   "cell_type": "code",
   "execution_count": null,
   "metadata": {},
   "outputs": [],
   "source": [
    "#This program is designed to failed on purpose\n",
    "user_age = input(\"Please enter your age:\")\n",
    "if user_age >= 21:\n",
    "    print(\"The user can drink beer\")\n",
    "else:\n",
    "    print(\"The user cannot drink beer\")\n",
    "        \n",
    "#This program fails because you are comparing a string vs a number\n",
    "#The problem can be easily fixed as shown on the next cell"
   ]
  },
  {
   "cell_type": "markdown",
   "metadata": {},
   "source": [
    "## How can I correct such problem???"
   ]
  },
  {
   "cell_type": "code",
   "execution_count": null,
   "metadata": {},
   "outputs": [],
   "source": [
    "# Now the feedback from the user will be converted into an integer\n",
    "user_age = int(input(\"Please enter your age:\"))\n",
    "if user_age >= 21:\n",
    "    print(\"The user can drink beer, user is 21 or more years old\")\n",
    "else:\n",
    "    print(\"The user cannot drink beer. The user is < 21\")"
   ]
  },
  {
   "cell_type": "markdown",
   "metadata": {},
   "source": [
    "## The Modulo Operator\n",
    "(X % Y)\n",
    "a) you have X elements\n",
    "b) You need to create groups of Y elements\n",
    "c) The result will be how many elements are without a group"
   ]
  },
  {
   "cell_type": "code",
   "execution_count": null,
   "metadata": {},
   "outputs": [],
   "source": [
    "print(f\" (0 % 4) = {0 % 4}\")\n",
    "print(f\" (1 % 4) = {1 % 4}\")\n",
    "print(f\" (2 % 4) = {2 % 4}\")\n",
    "print(f\" (3 % 4) = {3 % 4}\")\n",
    "print(f\" (4 % 4) = {4 % 4}\")\n",
    "print(f\" (5 % 4) = {5 % 4}\")\n",
    "print(f\" (6 % 4) = {6 % 4}\")\n",
    "print(f\" (7 % 4) = {7 % 4}\")\n",
    "print(f\" (8 % 4) = {8 % 4}\")\n",
    "print(f\" (9 % 4) = {9 % 4}\")\n",
    "print(f\" (10 % 4) = {10 % 4}\")\n",
    "print(f\" (11 % 4) = {11 % 4}\")\n",
    "print(f\" (12 % 4) = {12 % 4}\")\n",
    "print(f\" (13 % 4) = {13 % 4}\")\n",
    "print(f\" (14 % 4) = {14 % 4}\")\n",
    "print(f\" (15 % 4) = {15 % 4}\")\n",
    "print(f\" (16 % 4) = {16 % 4}\")"
   ]
  },
  {
   "cell_type": "markdown",
   "metadata": {
    "collapsed": true
   },
   "source": [
    "# while loops\n",
    "\n",
    "The **while** statement in Python is one of most general ways to perform iteration. A **while** statement will repeatedly execute a single statement or group of statements as long as the condition is true. The reason it is called a 'loop' is because the code statements are looped through over and over again until the condition is no longer met.\n",
    "\n",
    "The general format of a while loop is:\n",
    "\n",
    "    while test:\n",
    "        code statement\n",
    "    else:\n",
    "        final code statements\n",
    "\n",
    "Let’s look at a few simple while loops in action. "
   ]
  },
  {
   "cell_type": "code",
   "execution_count": null,
   "metadata": {},
   "outputs": [],
   "source": [
    "x = 0\n",
    "\n",
    "while x < 10:\n",
    "    print(\"===========================\")\n",
    "    print (f\"x is currently: {x}\")\n",
    "    print (' x is still less than 10, adding 1 to x')\n",
    "    x+=1"
   ]
  },
  {
   "cell_type": "markdown",
   "metadata": {},
   "source": [
    "Notice how many times the print statements occurred and how the while loop kept going until the True condition was met, which occurred once x==10. Its important to note that once this occurred the code stopped. Lets see how we could add an else statement:"
   ]
  },
  {
   "cell_type": "code",
   "execution_count": null,
   "metadata": {},
   "outputs": [],
   "source": [
    "x = 0\n",
    "\n",
    "while x < 10:\n",
    "    print(\"===========================\")\n",
    "    print (f\"x is currently: {x}\")\n",
    "    print (' x is still less than 10, adding 1 to x')\n",
    "    x+=1\n",
    "    \n",
    "else:\n",
    "    print(\"===========================\")\n",
    "    print ('ALL DONE !!!!')"
   ]
  },
  {
   "cell_type": "markdown",
   "metadata": {},
   "source": [
    "## How to Allow the User to Stop a While Loop"
   ]
  },
  {
   "cell_type": "code",
   "execution_count": null,
   "metadata": {},
   "outputs": [],
   "source": [
    "prompt = \"The program will repeat until you the user enters the string 'quit':  \"\n",
    "\n",
    "user_message = \"\"\n",
    "\n",
    "while user_message != 'quit':\n",
    "    user_message = input(prompt) # ASK AGAIN\n",
    "    \n",
    "    user_message = user_message.lower()   # conver this into lower case\n",
    "    user_message = user_message.strip()   # remove white spaces from Left and Right\n",
    "    print(user_message)\n",
    "    \n",
    "    \n",
    "   # if message != 'quit'\n",
    "   # user_message = input(user_message.lower())\n",
    "   # user_message = user_message.strip()"
   ]
  },
  {
   "cell_type": "markdown",
   "metadata": {},
   "source": [
    "## Using a Flag to Control the Loop"
   ]
  },
  {
   "cell_type": "code",
   "execution_count": null,
   "metadata": {},
   "outputs": [],
   "source": [
    "prompt = \"The program will repeat until you the user enters the string 'quit':  \"\n",
    "active_loop_flag = True\n",
    "\n",
    "while active_loop_flag:\n",
    "    #---------------------------------------\n",
    "    user_message = input(prompt) # ASK AGAIN\n",
    "    user_message = user_message.lower()   # conver this into lower case\n",
    "    user_message = user_message.strip()   # remove white spaces from Left and Right\n",
    "    #---------------------------------------\n",
    "    if user_message == 'quit':\n",
    "        active_loop_flag = False\n",
    "    #---------------------------------------\n",
    "    print(user_message)\n",
    "    "
   ]
  },
  {
   "cell_type": "markdown",
   "metadata": {},
   "source": [
    "## break, continue, pass\n",
    "\n",
    "We can use break, continue, and pass statements in our loops to add additional functionality for various cases. The three statements are defined by:\n",
    "\n",
    "    break: Breaks out of the current closest enclosing loop.\n",
    "    continue: Goes to the top of the closest enclosing loop.\n",
    "    pass: Does nothing at all.\n",
    "    \n",
    "    \n",
    "Thinking about **break** and **continue** statements, the general format of the while loop looks like this:\n",
    "\n",
    "    while test: \n",
    "        code statement\n",
    "        if test: \n",
    "            break\n",
    "        if test: \n",
    "            continue \n",
    "    else:\n",
    "\n",
    "**break** and **continue** statements can appear anywhere inside the loop’s body,but we will usually put them further nested in conjunction with an **if** statement to perform an action based on some condition.\n",
    "\n",
    "Lets go ahead and look at some examples!"
   ]
  },
  {
   "cell_type": "code",
   "execution_count": null,
   "metadata": {
    "scrolled": true
   },
   "outputs": [],
   "source": [
    "x = 0\n",
    "\n",
    "while x < 10:\n",
    "    print(\"======================================\")\n",
    "    print(f\"x is currently: {x}\")\n",
    "    print(\"x is still less than 10, adding 1 to x\")\n",
    "    \n",
    "    x+=1\n",
    "    if (x % 3)==0:\n",
    "        continue\n",
    "        \n",
    "    print (x)\n",
    "        "
   ]
  },
  {
   "cell_type": "markdown",
   "metadata": {},
   "source": [
    "Note how we have a printed statement when x==3, and a continue being printed out as we continue through the outer while loop. Let's put in a break once x ==3 and see if the result makes sense:"
   ]
  },
  {
   "cell_type": "code",
   "execution_count": null,
   "metadata": {},
   "outputs": [],
   "source": [
    "x = 0\n",
    "\n",
    "while x < 10:\n",
    "    print(\"======================================\")\n",
    "    print(f\"x is currently: {x}\")\n",
    "    print(\"x is still less than 10, adding 1 to x\")\n",
    "    \n",
    "    x+=1\n",
    "    if x == 3:\n",
    "        print (\"x==3\")\n",
    "        break\n",
    "    else:\n",
    "        print (\"continuing...\")\n",
    "        continue"
   ]
  },
  {
   "cell_type": "markdown",
   "metadata": {},
   "source": [
    "Note how the other else statement wasn't reached and continuing was never printed!\n",
    "\n",
    "After these brief but simple examples, you should feel comfortable using while statements in you code.\n",
    "\n",
    "**A word of caution however! It is possible to create an infinitely running loop with while statements. For example:**"
   ]
  },
  {
   "cell_type": "code",
   "execution_count": null,
   "metadata": {},
   "outputs": [],
   "source": [
    "# DO NOT RUN THIS CODE!!!! \n",
    "iteration = 0\n",
    "while True:\n",
    "    \n",
    "    print(f\"Infinite Loop! Iteration {iteration}\")\n",
    "    iteration = iteration + 1"
   ]
  },
  {
   "cell_type": "markdown",
   "metadata": {},
   "source": [
    "## While Loop with Lists and Dictionaries"
   ]
  },
  {
   "cell_type": "code",
   "execution_count": 3,
   "metadata": {},
   "outputs": [
    {
     "name": "stdout",
     "output_type": "stream",
     "text": [
      "source_list = []\n",
      "destination_list = ['Terry', 'Mika', 'Lopa', 'Tina', 'Nelson', 'Catherine', 'Eduardo']\n"
     ]
    }
   ],
   "source": [
    "# This examples moves the elements from one  List to another list\n",
    "# Use according to your needs and context \n",
    "destination_list = []\n",
    "source_list = ['Eduardo', 'Catherine', 'Nelson', 'Tina', \n",
    "               'Lopa', 'Mika', 'Terry']\n",
    "\n",
    "while source_list:\n",
    "    current_person = source_list.pop()\n",
    "    destination_list.append(current_person)\n",
    "\n",
    "print(f\"source_list = {source_list}\")\n",
    "print(f\"destination_list = {destination_list}\")"
   ]
  },
  {
   "cell_type": "markdown",
   "metadata": {},
   "source": [
    "## WHILE LOOP Example: Removing all the instances of a particular element "
   ]
  },
  {
   "cell_type": "code",
   "execution_count": 6,
   "metadata": {},
   "outputs": [
    {
     "name": "stdout",
     "output_type": "stream",
     "text": [
      "BEFORE\n",
      "Original Length --> 10\n",
      "['Fain', 'Dillards', 'The Library', 'Bolin', 'Clark Student Center', 'Hardin', 'Fain', 'Fain', 'Bolin', 'Hardin']\n",
      "=========================================\n",
      "AFTER\n",
      "Length AFTER removal --> 7\n",
      "['Dillards', 'The Library', 'Bolin', 'Clark Student Center', 'Hardin', 'Bolin', 'Hardin']\n"
     ]
    }
   ],
   "source": [
    "buildings = ['Fain', 'Dillards', 'The Library', 'Bolin', \n",
    "            'Clark Student Center', 'Hardin', 'Fain',\n",
    "            'Fain', 'Bolin', 'Hardin']\n",
    "print(\"BEFORE\")\n",
    "print(f\"Original Length --> {len(buildings)}\")\n",
    "print(buildings)\n",
    "print(\"=========================================\")\n",
    "#----------------------------------------------------------------\n",
    "building_to_remove = 'Fain' #value to be removed -all its intances\n",
    "counter = 0   #counter to keep track of the number of times \n",
    "              #that it was present\n",
    "#----------------------------------------------------------------\n",
    "while building_to_remove in buildings:\n",
    "    buildings.remove(building_to_remove)\n",
    "    counter = counter + 1\n",
    "  #---------------------------------------------------------------- \n",
    "print(\"AFTER\")\n",
    "print(f\"Length AFTER removal --> {len(buildings)}\")\n",
    "print(buildings)"
   ]
  },
  {
   "cell_type": "code",
   "execution_count": null,
   "metadata": {},
   "outputs": [],
   "source": []
  }
 ],
 "metadata": {
  "kernelspec": {
   "display_name": "Python 3",
   "language": "python",
   "name": "python3"
  },
  "language_info": {
   "codemirror_mode": {
    "name": "ipython",
    "version": 3
   },
   "file_extension": ".py",
   "mimetype": "text/x-python",
   "name": "python",
   "nbconvert_exporter": "python",
   "pygments_lexer": "ipython3",
   "version": "3.6.5"
  }
 },
 "nbformat": 4,
 "nbformat_minor": 1
}
