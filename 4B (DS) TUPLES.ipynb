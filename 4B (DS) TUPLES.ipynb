{
 "cells": [
  {
   "cell_type": "code",
   "execution_count": null,
   "metadata": {},
   "outputs": [],
   "source": [
    "# MUST KNOW\n",
    "# 1. They are IMMUTABLE: Content cannot change\n",
    "# 2. Are constructed with curved () parenthesis\n",
    "# 3. COMMAS are used to separate elements in the list\n",
    "# 4. You can also perform INDEXING and SLICING on them\n",
    "# 5. They also behave as a CIRCULAR buffer \n",
    "# 6. Only two methods can be used on tuples: Index and Count\n",
    "\n",
    "#Basic Tuple Example\n",
    "t1 = (9, 8, 7, 6, 5)\n",
    "len(t1)                #returns the number of elements in the tuple"
   ]
  },
  {
   "cell_type": "markdown",
   "metadata": {},
   "source": [
    "# Methods"
   ]
  },
  {
   "cell_type": "code",
   "execution_count": 1,
   "metadata": {},
   "outputs": [
    {
     "name": "stdout",
     "output_type": "stream",
     "text": [
      "6\n",
      "----------------------\n",
      "0\n",
      "1\n",
      "2\n",
      "3\n",
      "4\n",
      "----------------------\n",
      "2\n"
     ]
    }
   ],
   "source": [
    "#you can have elements of different nature\n",
    "t2 =('Mom', 20, 'a', 'Dad', 10, 'Dad')    #Look at this tuple, you have mixed multiple types\n",
    "print(len(t2))\n",
    "print(\"----------------------\")\n",
    "# THE INDEX METHOD\n",
    "print(t2.index('Mom'))\n",
    "print(t2.index(20))\n",
    "print(t2.index('a'))\n",
    "print(t2.index('Dad'))\n",
    "print(t2.index(10))\n",
    "print(\"----------------------\")\n",
    "\n",
    "#THE COUNT METHOD\n",
    "print(t2.count('Dad'))          # Number of times that a value appears"
   ]
  },
  {
   "cell_type": "markdown",
   "metadata": {},
   "source": [
    "# Indexing and Slicing "
   ]
  },
  {
   "cell_type": "code",
   "execution_count": null,
   "metadata": {},
   "outputs": [],
   "source": [
    "# t2 =('Mom', 20, 'a', 'Dad', 10, 'Dad')    #Look at this tuple, you have mixed multiple types\n",
    "print(t2[0])\n",
    "print(t2[4])\n",
    "print(t2[-1])\n",
    "print(t2[:])\n",
    "print(t2[::])\n",
    "print(t2[::-1])\n",
    "print(t2[1:3])\n",
    "print(t2[0::2])"
   ]
  },
  {
   "cell_type": "code",
   "execution_count": 5,
   "metadata": {},
   "outputs": [
    {
     "name": "stdout",
     "output_type": "stream",
     "text": [
      "('a', 'a', 'a', 'a', 'a', 'a', 'a', 'a', 'a', 'a', 'a', 'a', 1, 1, 1, 1, 1, 1, 22, 2, 2, 2, 2, 222, 222, 2222, 3333)\n"
     ]
    }
   ],
   "source": [
    "   #Look at this tuple, you have mixed multiple types\n",
    "s2 =('a','a','a','a','a','a','a','a','a','a','a','a',1,1,1,1,1,1,22,2,2,2,2,222,222,2222,3333)\n",
    "print(s2)"
   ]
  },
  {
   "cell_type": "code",
   "execution_count": null,
   "metadata": {},
   "outputs": [],
   "source": []
  }
 ],
 "metadata": {
  "kernelspec": {
   "display_name": "Python 3 (ipykernel)",
   "language": "python",
   "name": "python3"
  },
  "language_info": {
   "codemirror_mode": {
    "name": "ipython",
    "version": 3
   },
   "file_extension": ".py",
   "mimetype": "text/x-python",
   "name": "python",
   "nbconvert_exporter": "python",
   "pygments_lexer": "ipython3",
   "version": "3.12.4"
  }
 },
 "nbformat": 4,
 "nbformat_minor": 4
}
