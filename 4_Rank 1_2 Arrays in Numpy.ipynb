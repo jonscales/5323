{
 "cells": [
  {
   "cell_type": "code",
   "execution_count": 1,
   "metadata": {},
   "outputs": [],
   "source": [
    "# This is how you import Numpy\n",
    "import numpy as np  "
   ]
  },
  {
   "cell_type": "markdown",
   "metadata": {},
   "source": [
    "# * let's define a RANK 1 array. \n",
    "* A Rank 1 array is an array with a number of dimensions equal to 1.\n",
    "* Using this type of array is the most common source of mistakes when dealing with DL algorithms"
   ]
  },
  {
   "cell_type": "code",
   "execution_count": 2,
   "metadata": {},
   "outputs": [
    {
     "name": "stdout",
     "output_type": "stream",
     "text": [
      "a) prints the original array =[12 11 10  9  8  7  6  5  4  3  2  1]\n",
      "b) Array Dimensions = a1.shape =(12,)\n",
      "b.1) This is how you get the RANK (a2.ndim) = 1\n",
      "b.2) This is a RANK 1 Array = \n",
      "[12 11 10  9  8  7  6  5  4  3  2  1]\n"
     ]
    }
   ],
   "source": [
    "a2 = np.array([12, 11, 10, 9, 8, 7, 6, 5, 4, 3, 2, 1])\n",
    "a3 = a2\n",
    "print(\"a) prints the original array =\" + str(a2))\n",
    "print(\"b) Array Dimensions = a1.shape =\" + str(a2.shape))\n",
    "print(\"b.1) This is how you get the RANK (a2.ndim) = \" + str(a2.ndim))\n",
    "print(\"b.2) This is a RANK 1 Array = \\n\" + str(a2))"
   ]
  },
  {
   "cell_type": "markdown",
   "metadata": {},
   "source": [
    "# * let's define a RANK 2 array.\n",
    "* A Rank 2 array is an array with a number of dimensions equal to TWO.\n",
    "* DO NOT USE RANK 1, USE RANK 2 TO REPRESENT RANK 1"
   ]
  },
  {
   "cell_type": "code",
   "execution_count": 3,
   "metadata": {},
   "outputs": [
    {
     "name": "stdout",
     "output_type": "stream",
     "text": [
      "---------------------------------------------\n",
      "c) Array Dimensions (Rows, Cols)= a1.shape =(2, 3, 2)\n",
      "d) Number of Dimensions = \n",
      "e) This is a RANK 3 Array = \n",
      "[[[12 11]\n",
      "  [10  9]\n",
      "  [ 8  7]]\n",
      "\n",
      " [[ 6  5]\n",
      "  [ 4  3]\n",
      "  [ 2  1]]]\n",
      "f) This is how you get the RANK (a2.ndim) = 3\n",
      "g) Number Rows a2.shape[0]=2\n",
      "h) Number Columns a2.shape[1]=3\n",
      "i) Number Columns a2.shape[2]=2\n",
      "j) Number of Elements in array = len(a2) =12\n",
      "---------------------------------------------\n"
     ]
    }
   ],
   "source": [
    "print(\"---------------------------------------------\")\n",
    "a2 = np.reshape(a2,(2,3,2))\n",
    "print(\"c) Array Dimensions (Rows, Cols)= a1.shape =\" + str(a2.shape))\n",
    "print(\"d) Number of Dimensions = \")\n",
    "print(\"e) This is a RANK 3 Array = \\n\" + str(a2))\n",
    "print(\"f) This is how you get the RANK (a2.ndim) = \" + str(a2.ndim))\n",
    "print(\"g) Number Rows a2.shape[0]=\" + str(a2.shape[0]))\n",
    "print(\"h) Number Columns a2.shape[1]=\" + str(a2.shape[1]))\n",
    "print(\"i) Number Columns a2.shape[2]=\" + str(a2.shape[2]))\n",
    "print(\"j) Number of Elements in array = len(a2) =\" + str((a2.shape[0]*a2.shape[1]*a2.shape[2])))  \n",
    "print(\"---------------------------------------------\")\n"
   ]
  },
  {
   "cell_type": "markdown",
   "metadata": {},
   "source": [
    "# How to convert Rank 1 to Rank 2 Array"
   ]
  },
  {
   "cell_type": "code",
   "execution_count": 4,
   "metadata": {},
   "outputs": [],
   "source": [
    "a2 = np.array([12, 11, 10, 9, 8, 7, 6, 5, 4, 3, 2, 1])  # Rank 1\n",
    "a2 = np.reshape(a2,(1,12))"
   ]
  },
  {
   "cell_type": "markdown",
   "metadata": {},
   "source": [
    "now lets look at this again"
   ]
  },
  {
   "cell_type": "code",
   "execution_count": 5,
   "metadata": {},
   "outputs": [
    {
     "name": "stdout",
     "output_type": "stream",
     "text": [
      "a) prints the original array =[[12 11 10  9  8  7  6  5  4  3  2  1]]\n",
      "b) Array Dimensions = a1.shape =(1, 12)\n",
      "b.1) This is how you get the RANK (a2.ndim) = 2\n",
      "b.2) This is a RANK 2 Array = \n",
      "[[12 11 10  9  8  7  6  5  4  3  2  1]]\n"
     ]
    }
   ],
   "source": [
    "print(\"a) prints the original array =\" + str(a2))\n",
    "print(\"b) Array Dimensions = a1.shape =\" + str(a2.shape))\n",
    "print(\"b.1) This is how you get the RANK (a2.ndim) = \" + str(a2.ndim))\n",
    "print(\"b.2) This is a RANK 2 Array = \\n\" + str(a2))"
   ]
  },
  {
   "cell_type": "markdown",
   "metadata": {},
   "source": []
  }
 ],
 "metadata": {
  "kernelspec": {
   "display_name": "Python 3",
   "language": "python",
   "name": "python3"
  },
  "language_info": {
   "codemirror_mode": {
    "name": "ipython",
    "version": 3
   },
   "file_extension": ".py",
   "mimetype": "text/x-python",
   "name": "python",
   "nbconvert_exporter": "python",
   "pygments_lexer": "ipython3",
   "version": "3.6.5"
  }
 },
 "nbformat": 4,
 "nbformat_minor": 2
}
