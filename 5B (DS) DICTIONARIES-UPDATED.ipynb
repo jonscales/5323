{
 "cells": [
  {
   "cell_type": "markdown",
   "metadata": {},
   "source": [
    "# Dictionaries\n",
    "\n",
    "We've been learning about *sequences* in Python but now we're going to switch gears and learn about *mappings* in Python. If you're familiar with other languages you can think of these Dictionaries as hash tables. \n",
    "\n",
    "This section will serve as a brief introduction to dictionaries and consist of:\n",
    "\n",
    "    1.) Constructing a Dictionary\n",
    "    2.) Accessing objects from a dictionary\n",
    "    3.) Nesting Dictionaries\n",
    "    4.) Basic Dictionary Methods\n",
    "\n",
    "So what are mappings? Mappings are a collection of objects that are stored by a *key*, unlike a sequence that stored objects by their relative position. This is an important distinction, since mappings won't retain order since they have objects defined by a key.\n",
    "\n",
    "A Python dictionary consists of a key and then an associated value. That value can be almost any Python object.\n",
    "\n",
    "\n",
    "## Constructing a Dictionary\n",
    "Let's see how we can construct dictionaries to get a better understanding of how they work!"
   ]
  },
  {
   "cell_type": "code",
   "execution_count": null,
   "metadata": {},
   "outputs": [],
   "source": [
    "# Make a dictionary with {} and : to signify a key and a value\n",
    "my_dict = {'key1':'value1','key2':'value2'}"
   ]
  },
  {
   "cell_type": "code",
   "execution_count": null,
   "metadata": {},
   "outputs": [],
   "source": [
    "# Call values by their key\n",
    "my_dict['key2']"
   ]
  },
  {
   "cell_type": "markdown",
   "metadata": {},
   "source": [
    "Its important to note that dictionaries are very flexible in the data types they can hold. For example:"
   ]
  },
  {
   "cell_type": "code",
   "execution_count": null,
   "metadata": {},
   "outputs": [],
   "source": [
    "my_dict = {'key1':123,'key2':[12,23,33],'key3':['item0','item1','item2']}"
   ]
  },
  {
   "cell_type": "code",
   "execution_count": null,
   "metadata": {},
   "outputs": [],
   "source": [
    "#Lets call items from the dictionary\n",
    "my_dict['key3']"
   ]
  },
  {
   "cell_type": "code",
   "execution_count": null,
   "metadata": {},
   "outputs": [],
   "source": [
    "# Can call an index on that value\n",
    "my_dict['key3'][0]"
   ]
  },
  {
   "cell_type": "code",
   "execution_count": null,
   "metadata": {},
   "outputs": [],
   "source": [
    "#Can then even call methods on that value\n",
    "my_dict['key3'][0].upper()"
   ]
  },
  {
   "cell_type": "markdown",
   "metadata": {},
   "source": [
    "We can effect the values of a key as well. For instance:"
   ]
  },
  {
   "cell_type": "code",
   "execution_count": null,
   "metadata": {},
   "outputs": [],
   "source": [
    "my_dict['key1']"
   ]
  },
  {
   "cell_type": "code",
   "execution_count": null,
   "metadata": {},
   "outputs": [],
   "source": [
    "# Subtract 123 from the value\n",
    "my_dict['key1'] = my_dict['key1'] - 123"
   ]
  },
  {
   "cell_type": "code",
   "execution_count": null,
   "metadata": {},
   "outputs": [],
   "source": [
    "#Check\n",
    "my_dict['key1']"
   ]
  },
  {
   "cell_type": "markdown",
   "metadata": {},
   "source": [
    "A quick note, Python has a built-in method of doing a self subtraction or addition (or multiplication or division). We could have also used += or -= for the above statement. For example:"
   ]
  },
  {
   "cell_type": "code",
   "execution_count": null,
   "metadata": {},
   "outputs": [],
   "source": [
    "# Set the object equal to itself minus 123 \n",
    "my_dict['key1'] -= 123\n",
    "my_dict['key1']"
   ]
  },
  {
   "cell_type": "markdown",
   "metadata": {},
   "source": [
    "We can also create keys by assignment. For instance if we started off with an empty dictionary, we could continually add to it:"
   ]
  },
  {
   "cell_type": "code",
   "execution_count": 3,
   "metadata": {},
   "outputs": [],
   "source": [
    "# Create a new dictionary\n",
    "d = {}"
   ]
  },
  {
   "cell_type": "code",
   "execution_count": 5,
   "metadata": {},
   "outputs": [],
   "source": [
    "# Create a new key through assignment\n",
    "d['animal'] = 'Dog'"
   ]
  },
  {
   "cell_type": "code",
   "execution_count": 7,
   "metadata": {},
   "outputs": [],
   "source": [
    "# Can do this with any object\n",
    "d['answer'] = 42"
   ]
  },
  {
   "cell_type": "code",
   "execution_count": 9,
   "metadata": {},
   "outputs": [
    {
     "data": {
      "text/plain": [
       "{'animal': 'Dog', 'answer': 42}"
      ]
     },
     "execution_count": 9,
     "metadata": {},
     "output_type": "execute_result"
    }
   ],
   "source": [
    "#Show\n",
    "d"
   ]
  },
  {
   "cell_type": "markdown",
   "metadata": {},
   "source": [
    "## Nesting with Dictionaries\n",
    "\n",
    "Hopefully you're starting to see how powerful Python is with its flexibility of nesting objects and calling methods on them. Let's see a dictionary nested inside a dictionary:"
   ]
  },
  {
   "cell_type": "code",
   "execution_count": null,
   "metadata": {},
   "outputs": [],
   "source": [
    "# Dictionary nested inside a dictionary nested in side a dictionary\n",
    "d = {'key1':{'nestkey':{'subnestkey':'value'}}}"
   ]
  },
  {
   "cell_type": "markdown",
   "metadata": {},
   "source": [
    "Wow! That's a quite the inception of dictionaries! Let's see how we can grab that value:"
   ]
  },
  {
   "cell_type": "code",
   "execution_count": null,
   "metadata": {},
   "outputs": [],
   "source": [
    "# Keep calling the keys\n",
    "d['key1']['nestkey']['subnestkey']"
   ]
  },
  {
   "cell_type": "markdown",
   "metadata": {},
   "source": [
    "## A few Dictionary Methods\n",
    "\n",
    "There are a few methods we can call on a dictionary. Let's get a quick introduction to a few of them:"
   ]
  },
  {
   "cell_type": "code",
   "execution_count": 11,
   "metadata": {},
   "outputs": [],
   "source": [
    "# Create a typical dictionary\n",
    "d = {'key1':1,'key2':2,'key3':3}"
   ]
  },
  {
   "cell_type": "code",
   "execution_count": 17,
   "metadata": {},
   "outputs": [
    {
     "data": {
      "text/plain": [
       "dict_keys(['key1', 'key2', 'key3'])"
      ]
     },
     "execution_count": 17,
     "metadata": {},
     "output_type": "execute_result"
    }
   ],
   "source": [
    "# Method to return a list of all keys \n",
    "d.keys()"
   ]
  },
  {
   "cell_type": "code",
   "execution_count": 15,
   "metadata": {},
   "outputs": [
    {
     "data": {
      "text/plain": [
       "dict_values([1, 2, 3])"
      ]
     },
     "execution_count": 15,
     "metadata": {},
     "output_type": "execute_result"
    }
   ],
   "source": [
    "# Method to grab all values\n",
    "d.values()"
   ]
  },
  {
   "cell_type": "code",
   "execution_count": 13,
   "metadata": {},
   "outputs": [
    {
     "data": {
      "text/plain": [
       "dict_items([('key1', 1), ('key2', 2), ('key3', 3)])"
      ]
     },
     "execution_count": 13,
     "metadata": {},
     "output_type": "execute_result"
    }
   ],
   "source": [
    "# Method to return tuples of all items  (we'll learn about tuples soon)\n",
    "d.items()"
   ]
  },
  {
   "cell_type": "markdown",
   "metadata": {},
   "source": [
    "Hopefully you now have a good basic understanding how to construct dictionaries. There's a lot more to go into here, but we will revisit dictionaries at later time. After this section all you need to know is how to create a dictionary and how to retrieve values from it."
   ]
  },
  {
   "cell_type": "markdown",
   "metadata": {},
   "source": [
    "# Recap and More"
   ]
  },
  {
   "cell_type": "markdown",
   "metadata": {},
   "source": [
    "## Accessing values in a dictionary"
   ]
  },
  {
   "cell_type": "code",
   "execution_count": null,
   "metadata": {},
   "outputs": [],
   "source": [
    "object_0 ={ 'color': 'purple'}\n",
    "print(object_0['color']) # here you are using the key to access the value of a dictionary"
   ]
  },
  {
   "cell_type": "code",
   "execution_count": null,
   "metadata": {},
   "outputs": [],
   "source": [
    "my_dict ={'color': 'blue', 'dimesions': '5x5 inches'}\n",
    "print(f\"Your color is {my_dict['color']} and the dimensions are {my_dict['dimesions']}\")"
   ]
  },
  {
   "cell_type": "markdown",
   "metadata": {},
   "source": [
    "## Adding new key-value pairs"
   ]
  },
  {
   "cell_type": "code",
   "execution_count": null,
   "metadata": {},
   "outputs": [],
   "source": [
    "my_dict ={'color': 'blue', 'dimesions': '5x5 inches'}\n",
    "print(f\"BEFORE --> {my_dict}\")\n",
    "\n",
    "# WE ARE ADDING SOME NEW KEY-VALUE PAIRS HERE\n",
    "my_dict['Amount in Store'] = 10\n",
    "my_dict['price in USD'] = 1\n",
    "\n",
    "print(f\"AFTER --> {my_dict}\")"
   ]
  },
  {
   "cell_type": "markdown",
   "metadata": {},
   "source": [
    "## How to remove Key-Value Pairs"
   ]
  },
  {
   "cell_type": "code",
   "execution_count": null,
   "metadata": {},
   "outputs": [],
   "source": [
    "# USE THE del statement to remove a key-value of interest\n",
    "my_dict ={'color': 'blue', 'dimesions': '5x5 inches'}\n",
    "print(f\"BEFORE --> {my_dict}\")\n",
    "\n",
    "del my_dict['color']\n",
    "print(f\"AFTER --> {my_dict}\")"
   ]
  },
  {
   "cell_type": "markdown",
   "metadata": {},
   "source": [
    "## Looping through similar objects"
   ]
  },
  {
   "cell_type": "code",
   "execution_count": null,
   "metadata": {},
   "outputs": [],
   "source": [
    "faculty_language ={'Stringfellow': \"C#\",\n",
    "                  'Passos':\"Assembly & C\",\n",
    "                  'Johnsons': \"C++, Python\",\n",
    "                  'Lopa':'C++',\n",
    "                  'Griffin':\"C++, Python, GO\",\n",
    "                  'Morgan': \"Python, C++\",\n",
    "                  'Colmenares': 'Python, C++, C, Assembly'}\n",
    "\n",
    "for (faculty, language) in faculty_language.items():\n",
    "    print(f\"Dr. {faculty} prefers to use {language}\")"
   ]
  },
  {
   "cell_type": "markdown",
   "metadata": {},
   "source": [
    "## USING THE get() METHOD TO ACCESS A VALUE"
   ]
  },
  {
   "cell_type": "markdown",
   "metadata": {},
   "source": [
    "a) This is a very nice and interesting method that you can use as an alternative to get a value <br>\n",
    "b) This method uses two arguments <br>\n",
    "c) The first argument must be a key <br>\n",
    "d) The second argumant (OPTIONAL) is a defult value to be returned if the requested key does not exist <br>"
   ]
  },
  {
   "cell_type": "code",
   "execution_count": 1,
   "metadata": {},
   "outputs": [
    {
     "name": "stdout",
     "output_type": "stream",
     "text": [
      "BEFORE --> Python, C++, C, Assembly\n",
      "AFTER  --> Colmenares not found in record\n"
     ]
    }
   ],
   "source": [
    "faculty_language ={'Stringfellow': \"C#\",\n",
    "                  'Passos':\"Assembly & C\",\n",
    "                  'Johnsons': \"C++, Python\",\n",
    "                  'Lopa':'C++',\n",
    "                  'Griffin':\"C++, Python, GO\",\n",
    "                  'Morgan': \"Python, C++\",\n",
    "                  'Colmenares': 'Python, C++, C, Assembly'}\n",
    "\n",
    "the_value = faculty_language.get('Colmenares', 'Colmenares not found in record')\n",
    "print(f\"BEFORE --> {the_value}\")\n",
    "\n",
    "# DELETING COLMENARES ENTRY FROM THE DICTIONARY\n",
    "del faculty_language['Colmenares']\n",
    "the_value = faculty_language.get('Colmenares', 'Colmenares not found in record')\n",
    "print(f\"AFTER  --> {the_value}\")"
   ]
  },
  {
   "cell_type": "markdown",
   "metadata": {},
   "source": [
    "## What happens if you do not use a second argument with the get() method and the key does not exist?"
   ]
  },
  {
   "cell_type": "code",
   "execution_count": 2,
   "metadata": {},
   "outputs": [
    {
     "name": "stdout",
     "output_type": "stream",
     "text": [
      "AFTER  --> None\n"
     ]
    }
   ],
   "source": [
    "the_value = faculty_language.get('Colmenares')\n",
    "print(f\"AFTER  --> {the_value}\")"
   ]
  },
  {
   "cell_type": "markdown",
   "metadata": {},
   "source": [
    "## Looping Through the Keys - THIS EXAMPLE SHOW --> in an on order\n"
   ]
  },
  {
   "cell_type": "markdown",
   "metadata": {},
   "source": [
    "a) One way to do this in order (alphabetical), is to use the sorted() method"
   ]
  },
  {
   "cell_type": "code",
   "execution_count": 6,
   "metadata": {},
   "outputs": [
    {
     "name": "stdout",
     "output_type": "stream",
     "text": [
      "Colmenares prefered languages to use are Python, C++, C, Assembly\n",
      "Griffin prefered languages to use are C++, Python, GO\n",
      "Johnsons prefered languages to use are C++, Python\n",
      "Lopa prefered languages to use are C++\n",
      "Morgan prefered languages to use are Python, C++\n",
      "Passos prefered languages to use are Assembly & C\n",
      "Stringfellow prefered languages to use are C#\n"
     ]
    }
   ],
   "source": [
    "faculty_language ={'Stringfellow': \"C#\",\n",
    "                  'Passos':\"Assembly & C\",\n",
    "                  'Johnsons': \"C++, Python\",\n",
    "                  'Lopa':'C++',\n",
    "                  'Griffin':\"C++, Python, GO\",\n",
    "                  'Morgan': \"Python, C++\",\n",
    "                  'Colmenares': 'Python, C++, C, Assembly'}\n",
    "\n",
    "for faculty in sorted(faculty_language.keys()):\n",
    "    print(f\"{faculty} prefered languages to use are {faculty_language[faculty]}\")"
   ]
  },
  {
   "cell_type": "markdown",
   "metadata": {},
   "source": [
    "## Looping Through the values + Multiple things combined. What languages are taught by CS - no repeated"
   ]
  },
  {
   "cell_type": "code",
   "execution_count": 3,
   "metadata": {},
   "outputs": [
    {
     "name": "stdout",
     "output_type": "stream",
     "text": [
      "BEFORE SEVERAL REPEATED: ['C#', 'Assembly', 'C', 'C++', 'Python', 'C++', 'C++', 'Python', 'GO', 'Python', 'C++', 'Python', 'C++', 'C', 'Assembly']\n",
      "The CS department teaches these PLanguages {'C#', 'GO', 'Python', 'Assembly', 'C', 'C++'}\n"
     ]
    }
   ],
   "source": [
    "faculty_language ={'Stringfellow': [\"C#\"],\n",
    "                  'Passos':[\"Assembly\" , \"C\"],\n",
    "                  'Johnson': [\"C++\", \"Python\"],\n",
    "                  'Lopa':[\"C++\"],\n",
    "                  'Griffin':[\"C++\", \"Python\", \"GO\"],\n",
    "                  'Morgan': [\"Python\", \"C++\"],\n",
    "                  'Colmenares': [\"Python\", \"C++\", \"C\", \"Assembly\"]}\n",
    "\n",
    "my_list =[]  #creating an empty list\n",
    "\n",
    "# for loop that will grow my list\n",
    "for languages in faculty_language.values():\n",
    "    my_list = my_list + languages\n",
    "    \n",
    "#show before values    \n",
    "print(f\"BEFORE SEVERAL REPEATED: {my_list}\")\n",
    "\n",
    "my_list = set(my_list)    # convert list into a set\n",
    "\n",
    "#report NON repeted values\n",
    "print(f\"The CS department teaches these PLanguages {my_list}\")"
   ]
  },
  {
   "cell_type": "code",
   "execution_count": null,
   "metadata": {},
   "outputs": [],
   "source": []
  },
  {
   "cell_type": "code",
   "execution_count": null,
   "metadata": {},
   "outputs": [],
   "source": []
  }
 ],
 "metadata": {
  "kernelspec": {
   "display_name": "Python 3 (ipykernel)",
   "language": "python",
   "name": "python3"
  },
  "language_info": {
   "codemirror_mode": {
    "name": "ipython",
    "version": 3
   },
   "file_extension": ".py",
   "mimetype": "text/x-python",
   "name": "python",
   "nbconvert_exporter": "python",
   "pygments_lexer": "ipython3",
   "version": "3.12.4"
  }
 },
 "nbformat": 4,
 "nbformat_minor": 4
}
