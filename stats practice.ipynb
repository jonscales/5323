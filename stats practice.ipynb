{
 "cells": [
  {
   "cell_type": "markdown",
   "id": "1ff54430-faa9-47db-ad4d-2deefcdc0607",
   "metadata": {},
   "source": [
    "## Statistic Value Calculations\n"
   ]
  },
  {
   "cell_type": "code",
   "execution_count": 7,
   "id": "b114a28b-8dc0-4536-b36a-ab13a53555dc",
   "metadata": {},
   "outputs": [],
   "source": [
    "#import modules needed for statistics\n",
    "import statistics as stat\n",
    "import random\n",
    "#import numpy as np\n",
    "import scipy as sc\n",
    "import sklearn as sl\n"
   ]
  },
  {
   "cell_type": "markdown",
   "id": "fcf7aa1f-e6bc-48c9-8166-3311967d112b",
   "metadata": {},
   "source": [
    "## Data"
   ]
  },
  {
   "cell_type": "code",
   "execution_count": 9,
   "id": "d91937a3-c7f1-4e3a-b73a-121f6bd0d795",
   "metadata": {},
   "outputs": [
    {
     "name": "stdout",
     "output_type": "stream",
     "text": [
      "[82, 15, 4, 95, 36, 32, 29, 18, 95, 14, 87, 95, 70, 12, 76, 55, 5, 4, 12, 28, 30, 65, 78, 4, 72, 26, 92, 84, 90, 70, 54, 29, 58, 76, 36, 1, 98, 21, 90, 55, 44, 36, 20, 28, 98, 44, 14, 12, 49, 13, 46, 45, 78, 34, 6, 94, 59, 69, 16, 49, 11, 71, 38, 81, 80, 47, 74, 25, 91, 9, 6, 85, 30, 99, 38, 11, 30, 13, 49, 36, 59, 82, 47, 21, 48, 46, 27, 86, 35, 90, 88, 83, 10, 78, 82, 22, 69, 94, 32, 21]\n"
     ]
    }
   ],
   "source": [
    "#seed a set of 100 random integers between 1 and 100 inclusive\n",
    "random.seed(42)\n",
    "\n",
    "pydata = [random.randint(1, 100) for _ in range(100)]\n",
    "#npdata = np.array(pydata)\n",
    "print(pydata)\n",
    "#print(npdata)\n",
    "\n"
   ]
  },
  {
   "cell_type": "markdown",
   "id": "436cc02c-7fcd-4ac6-9d12-36f4f8b78482",
   "metadata": {},
   "source": [
    "## Python Calculations"
   ]
  },
  {
   "cell_type": "code",
   "execution_count": 19,
   "id": "09f985c5-f105-44e9-a402-a8c191980ba0",
   "metadata": {},
   "outputs": [
    {
     "name": "stdout",
     "output_type": "stream",
     "text": [
      "Sum of the values in data =  4891\n",
      "Mean of the values in data =  48.91\n",
      "Mode of the values in data =  36\n",
      "Median of the values in data =  46.0\n",
      "Standard deviation of the values in data =  30.18732592437837\n",
      "Variance of the values in data =  911.2746464646465\n"
     ]
    }
   ],
   "source": [
    "pys = sum([x for x in pydata])\n",
    "pymn = stat.mean(pydata)\n",
    "pymod = stat.mode(pydata)\n",
    "pymed = stat.median(pydata)\n",
    "pysd = stat.stdev(pydata)\n",
    "pyvar = stat.variance(pydata)\n",
    "print(\"Sum of the values in data = \",pys)\n",
    "print(\"Mean of the values in data = \",pymn)\n",
    "print(\"Mode of the values in data = \",pymod)\n",
    "print(\"Median of the values in data = \",pymed)\n",
    "print(\"Standard deviation of the values in data = \",pysd)\n",
    "print(\"Variance of the values in data = \",pyvar)\n"
   ]
  },
  {
   "cell_type": "markdown",
   "id": "dbab43a5-2654-400a-b59a-6f32ab90c07e",
   "metadata": {},
   "source": [
    "## Numpy Calculations\n"
   ]
  },
  {
   "cell_type": "code",
   "execution_count": 45,
   "id": "c1b8b63d-24fc-4273-9967-addef9eec644",
   "metadata": {},
   "outputs": [
    {
     "name": "stdout",
     "output_type": "stream",
     "text": [
      "Numpy data\n",
      "  [82 15  4 95 36 32 29 18 95 14 87 95 70 12 76 55  5  4 12 28 30 65 78  4\n",
      " 72 26 92 84 90 70 54 29 58 76 36  1 98 21 90 55 44 36 20 28 98 44 14 12\n",
      " 49 13 46 45 78 34  6 94 59 69 16 49 11 71 38 81 80 47 74 25 91  9  6 85\n",
      " 30 99 38 11 30 13 49 36 59 82 47 21 48 46 27 86 35 90 88 83 10 78 82 22\n",
      " 69 94 32 21] \n",
      "\n",
      "Sum of the values in data =  4891\n",
      "Mean of the values in data =  48.91\n",
      "Median of the values in data =  46.0\n",
      "Standard deviation of the values in data =  30.03601005459946\n",
      "Variance of the values in data =  902.1618999999998\n"
     ]
    }
   ],
   "source": [
    "import numpy as np\n",
    "#print(dir(np))\n",
    "npdata = np.array(pydata)\n",
    "print(\"Numpy data\\n \",npdata,\"\\n\")\n",
    "nps = sum(npdata)\n",
    "npmn = np.mean(npdata)\n",
    "\n",
    "#npmod = np.mod(npdata)\n",
    "npmed = np.median(npdata)\n",
    "npsd = np.std(npdata)\n",
    "npvar = np.var(npdata)\n",
    "print(\"Sum of the values in data = \",nps)\n",
    "print(\"Mean of the values in data = \",npmn)\n",
    "#print(\"Mode of the values in data = \",npmod)\n",
    "print(\"Median of the values in data = \",npmed)\n",
    "print(\"Standard deviation of the values in data = \",npsd)\n",
    "print(\"Variance of the values in data = \",npvar)"
   ]
  },
  {
   "cell_type": "markdown",
   "id": "c4256724-8585-4058-9bd2-ec221e321fd7",
   "metadata": {},
   "source": [
    "## SciPy Calculations"
   ]
  },
  {
   "cell_type": "code",
   "execution_count": null,
   "id": "389431ce-b730-4c50-90dd-9510e5bd1008",
   "metadata": {},
   "outputs": [],
   "source": []
  },
  {
   "cell_type": "markdown",
   "id": "e059aefa-d688-45ee-b759-2df2a49d95e4",
   "metadata": {},
   "source": [
    "## SciKit-Learn Calculations"
   ]
  },
  {
   "cell_type": "code",
   "execution_count": null,
   "id": "2b88a5ee-e49a-4312-b77c-b46ac91809e3",
   "metadata": {},
   "outputs": [],
   "source": []
  },
  {
   "cell_type": "code",
   "execution_count": null,
   "id": "4d3dfd69-0220-46cd-b1ba-9bc059d183ef",
   "metadata": {},
   "outputs": [],
   "source": []
  }
 ],
 "metadata": {
  "kernelspec": {
   "display_name": "Python 3 (ipykernel)",
   "language": "python",
   "name": "python3"
  },
  "language_info": {
   "codemirror_mode": {
    "name": "ipython",
    "version": 3
   },
   "file_extension": ".py",
   "mimetype": "text/x-python",
   "name": "python",
   "nbconvert_exporter": "python",
   "pygments_lexer": "ipython3",
   "version": "3.12.4"
  }
 },
 "nbformat": 4,
 "nbformat_minor": 5
}
