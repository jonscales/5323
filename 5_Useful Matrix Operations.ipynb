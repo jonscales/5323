{
 "cells": [
  {
   "cell_type": "markdown",
   "metadata": {},
   "source": [
    "# This is all based on Numpy which is better than just python"
   ]
  },
  {
   "cell_type": "code",
   "execution_count": 2,
   "metadata": {},
   "outputs": [],
   "source": [
    "import numpy as np"
   ]
  },
  {
   "cell_type": "markdown",
   "metadata": {},
   "source": [
    "## Rank 1 Array"
   ]
  },
  {
   "cell_type": "code",
   "execution_count": 3,
   "metadata": {},
   "outputs": [
    {
     "name": "stdout",
     "output_type": "stream",
     "text": [
      "a) Print a1 = [55 44 33 22 11]\n",
      "b) Array Dimensions = a1.shape =(5,)\n",
      "c) Number of Elements in array = a1.shape[0] =5\n",
      "d) Number of Elements in array = len(a1) =5\n"
     ]
    }
   ],
   "source": [
    "a1 = np.array([55, 44, 33, 22, 11])\n",
    "print(\"a) Print a1 = \" + str(a1))\n",
    "print(\"b) Array Dimensions = a1.shape =\" + str(a1.shape))\n",
    "print(\"c) Number of Elements in array = a1.shape[0] =\" + str(a1.shape[0])) \n",
    "print(\"d) Number of Elements in array = len(a1) =\" + str(len(a1))) "
   ]
  },
  {
   "cell_type": "markdown",
   "metadata": {},
   "source": [
    "## Creating a Rank 2 Array from a Rank 1 Array"
   ]
  },
  {
   "cell_type": "code",
   "execution_count": 4,
   "metadata": {},
   "outputs": [
    {
     "name": "stdout",
     "output_type": "stream",
     "text": [
      "a) prints the original array =[12 11 10  9  8  7  6  5  4  3  2  1]\n",
      "b) Array Dimensions = a1.shape =(12,)\n",
      "b.1) This is how you get the RANK (a2.ndim) = 1\n",
      "b.2) This is a RANK 1 Array = \n",
      "[12 11 10  9  8  7  6  5  4  3  2  1]\n",
      "---------------------------------------------\n",
      "c) Array Dimensions (Rows, Cols)= a1.shape =(4, 3)\n",
      "d) Number of Dimensions = \n",
      "e) This is a RANK 2 Array = \n",
      "[[12 11 10]\n",
      " [ 9  8  7]\n",
      " [ 6  5  4]\n",
      " [ 3  2  1]]\n",
      "f) This is how you get the RANK (a2.ndim) = 2\n",
      "g) Number Rows a2.shape[0]=4\n",
      "h) Number Columns a2.shape[1]=3\n",
      "i) Number of Elements in array = len(a2) =12\n",
      "---------------------------------------------\n",
      "j) prints the original array =[[12 11 10  9  8  7  6  5  4  3  2  1]]\n",
      "k) Array Dimensions = a3.shape =(1, 12)\n"
     ]
    }
   ],
   "source": [
    "a2 = np.array([12, 11, 10, 9, 8, 7, 6, 5, 4, 3, 2, 1])\n",
    "a3 = a2\n",
    "print(\"a) prints the original array =\" + str(a2))\n",
    "print(\"b) Array Dimensions = a1.shape =\" + str(a2.shape))\n",
    "print(\"b.1) This is how you get the RANK (a2.ndim) = \" + str(a2.ndim))\n",
    "print(\"b.2) This is a RANK 1 Array = \\n\" + str(a2))\n",
    "print(\"---------------------------------------------\")\n",
    "a2 = np.reshape(a2,(4,3))\n",
    "print(\"c) Array Dimensions (Rows, Cols)= a1.shape =\" + str(a2.shape))\n",
    "print(\"d) Number of Dimensions = \")\n",
    "print(\"e) This is a RANK 2 Array = \\n\" + str(a2))\n",
    "print(\"f) This is how you get the RANK (a2.ndim) = \" + str(a2.ndim))\n",
    "print(\"g) Number Rows a2.shape[0]=\" + str(a2.shape[0]))\n",
    "print(\"h) Number Columns a2.shape[1]=\" + str(a2.shape[1]))\n",
    "print(\"i) Number of Elements in array = len(a2) =\" + str((a2.shape[0]*a2.shape[1])))  \n",
    "print(\"---------------------------------------------\")\n",
    "a3 = np.reshape(a3,(1,12))\n",
    "print(\"j) prints the original array =\" + str(a3))\n",
    "print(\"k) Array Dimensions = a3.shape =\" + str(a3.shape))"
   ]
  },
  {
   "cell_type": "markdown",
   "metadata": {},
   "source": [
    "# Array and Matrix Full of zeros or ones"
   ]
  },
  {
   "cell_type": "markdown",
   "metadata": {},
   "source": [
    "## Array and Matrix initialized with Zeros"
   ]
  },
  {
   "cell_type": "code",
   "execution_count": 4,
   "metadata": {},
   "outputs": [
    {
     "name": "stdout",
     "output_type": "stream",
     "text": [
      "a) a3 =\n",
      " [0. 0. 0. 0. 0. 0. 0. 0. 0. 0. 0. 0.]\n",
      "b) a3 rank = 1\n",
      "-------------------------- \n",
      "c) a4 =\n",
      " [[0. 0. 0. 0.]\n",
      " [0. 0. 0. 0.]\n",
      " [0. 0. 0. 0.]\n",
      " [0. 0. 0. 0.]]\n",
      "d) a4 rank = 2\n"
     ]
    }
   ],
   "source": [
    "a3 = np.zeros(12)\n",
    "a4 = np.zeros((4,4))\n",
    "print(\"a) a3 =\\n \" + str(a3))\n",
    "print(\"b) a3 rank = \" + str(a3.ndim))\n",
    "print(\"-------------------------- \")\n",
    "print(\"c) a4 =\\n \" + str(a4))\n",
    "print(\"d) a4 rank = \" + str(a4.ndim))"
   ]
  },
  {
   "cell_type": "markdown",
   "metadata": {},
   "source": [
    "## Array and Matrix Initialized with Ones"
   ]
  },
  {
   "cell_type": "code",
   "execution_count": 6,
   "metadata": {},
   "outputs": [
    {
     "name": "stdout",
     "output_type": "stream",
     "text": [
      "a) a5 =\n",
      " [1. 1. 1. 1. 1. 1. 1. 1. 1. 1. 1. 1.]\n",
      "b) a5 rank = 1\n",
      "-------------------------- \n",
      "c) a6 =\n",
      " [[1. 1. 1. 1.]\n",
      " [1. 1. 1. 1.]\n",
      " [1. 1. 1. 1.]\n",
      " [1. 1. 1. 1.]]\n",
      "d) a6 rank = 2\n"
     ]
    }
   ],
   "source": [
    "a5 = np.ones(12)\n",
    "a6 = np.ones((4,4))\n",
    "print(\"a) a5 =\\n \" + str(a5))\n",
    "print(\"b) a5 rank = \" + str(a5.ndim))\n",
    "print(\"-------------------------- \")\n",
    "print(\"c) a6 =\\n \" + str(a6))\n",
    "print(\"d) a6 rank = \" + str(a6.ndim))"
   ]
  },
  {
   "cell_type": "markdown",
   "metadata": {},
   "source": [
    "## Array initialized to some values"
   ]
  },
  {
   "cell_type": "code",
   "execution_count": 7,
   "metadata": {},
   "outputs": [
    {
     "name": "stdout",
     "output_type": "stream",
     "text": [
      "a7 = [ 0 10 20 30 40 50 60 70 80 90]\n"
     ]
    }
   ],
   "source": [
    "a7=np.arange(0,100, 10)  # arange(First, Last, Step or Increase)\n",
    "print(\"a7 =\", a7)"
   ]
  },
  {
   "cell_type": "code",
   "execution_count": 7,
   "metadata": {},
   "outputs": [
    {
     "name": "stdout",
     "output_type": "stream",
     "text": [
      "a8 = [-2.   -1.75 -1.5  -1.25 -1.   -0.75 -0.5  -0.25  0.    0.25  0.5   0.75\n",
      "  1.    1.25  1.5   1.75]\n"
     ]
    }
   ],
   "source": [
    "a8=np.arange(-2,2, 0.25)  # arange(First, Last, Step or Increase)\n",
    "print(\"a8 =\", a8)"
   ]
  },
  {
   "cell_type": "markdown",
   "metadata": {},
   "source": [
    "## Randomly Initialized Matrix"
   ]
  },
  {
   "cell_type": "markdown",
   "metadata": {},
   "source": [
    "https://chrisalbon.com/python/basics/generating_random_numbers_with_numpy/"
   ]
  },
  {
   "cell_type": "code",
   "execution_count": 8,
   "metadata": {},
   "outputs": [
    {
     "name": "stdout",
     "output_type": "stream",
     "text": [
      "a9 = \n",
      "[[0.97231366 0.50120511 0.01840847]\n",
      " [0.72625157 0.05458631 0.22303107]]\n"
     ]
    }
   ],
   "source": [
    "# RANDOM FLOATS [0, 1) = np.random.rand(Rows, Columns) \n",
    "a9 = np.random.rand(2, 3)  \n",
    "print(\"a9 = \\n\" + str(a9))"
   ]
  },
  {
   "cell_type": "code",
   "execution_count": 9,
   "metadata": {},
   "outputs": [
    {
     "name": "stdout",
     "output_type": "stream",
     "text": [
      "a10 = \n",
      "[[6 6 6]\n",
      " [3 5 9]]\n"
     ]
    }
   ],
   "source": [
    "# RANDOM INTEGERS = np.random.randint(Low, High, size=(Rows,Cols)) \n",
    "a10 = np.random.randint(2, 10, size=(2,3))\n",
    "print(\"a10 = \\n\" + str(a10))"
   ]
  },
  {
   "cell_type": "code",
   "execution_count": 10,
   "metadata": {},
   "outputs": [],
   "source": [
    "a11 = np.random.randint(2, 10, size=(2,3))"
   ]
  },
  {
   "cell_type": "markdown",
   "metadata": {},
   "source": [
    "# Broadcasting Examples"
   ]
  },
  {
   "cell_type": "code",
   "execution_count": 11,
   "metadata": {},
   "outputs": [
    {
     "name": "stdout",
     "output_type": "stream",
     "text": [
      "a) Before Adding 22 to a5 =  [1. 1. 1. 1. 1. 1. 1. 1. 1. 1. 1. 1.]\n",
      "b) After  Adding 22 to a5 =  [23. 23. 23. 23. 23. 23. 23. 23. 23. 23. 23. 23.]\n"
     ]
    }
   ],
   "source": [
    "# BROADCASTING ADDITION\n",
    "print(\"a) Before Adding 22 to a5 = \", str(a5))\n",
    "print(\"b) After  Adding 22 to a5 = \", str(a5 + 22))"
   ]
  },
  {
   "cell_type": "code",
   "execution_count": 12,
   "metadata": {},
   "outputs": [
    {
     "name": "stdout",
     "output_type": "stream",
     "text": [
      "a) Before *ing each element of a5 by 5 =  [1. 1. 1. 1. 1. 1. 1. 1. 1. 1. 1. 1.]\n",
      "b) After  *ing each element of a5 by 5 =  [5. 5. 5. 5. 5. 5. 5. 5. 5. 5. 5. 5.]\n"
     ]
    }
   ],
   "source": [
    "# BROADCASTING MULTIPLICATION\n",
    "print(\"a) Before *ing each element of a5 by 5 = \", str(a5))\n",
    "print(\"b) After  *ing each element of a5 by 5 = \", str(a5 * 5))"
   ]
  },
  {
   "cell_type": "markdown",
   "metadata": {},
   "source": [
    "# Matrix Addition, Element Wise Mult. and Algebraic Matrix Multiplication"
   ]
  },
  {
   "cell_type": "markdown",
   "metadata": {},
   "source": [
    "# # Matrix Addition"
   ]
  },
  {
   "cell_type": "code",
   "execution_count": 13,
   "metadata": {},
   "outputs": [
    {
     "name": "stdout",
     "output_type": "stream",
     "text": [
      "a) m1 = m2 = \n",
      " [[1 2]\n",
      " [3 4]]\n",
      "==============================\n",
      "b) m1 + m2 = \n",
      " [[2 4]\n",
      " [6 8]]\n",
      "==============================\n"
     ]
    }
   ],
   "source": [
    "m1 = np.array([[1, 2], [3, 4]])\n",
    "m2 = m1;\n",
    "mx = np.array([[1, 2], [3, 4], [5, 6]])\n",
    "\n",
    "print(\"a) m1 = m2 = \\n\", str(m1))\n",
    "print(\"==============================\")\n",
    "mAddition1 = m1 + m2 \n",
    "print(\"b) m1 + m2 = \\n\", str(m1 + m2))\n",
    "print(\"==============================\")"
   ]
  },
  {
   "cell_type": "markdown",
   "metadata": {},
   "source": [
    "# # Element Wise Matrix Multiplication (2 Methods)"
   ]
  },
  {
   "cell_type": "code",
   "execution_count": 14,
   "metadata": {},
   "outputs": [
    {
     "name": "stdout",
     "output_type": "stream",
     "text": [
      "Method 1: THIS IS ELEMENT-WISE MULT. Not real Matrix Mult.\n",
      "a) m1 * m2 = \n",
      " [[ 1  4]\n",
      " [ 9 16]]\n",
      "==============================\n",
      "Method 2: THIS IS ELEMENT-WISE MULT. Not real Matrix Mult.\n",
      "b) np.multiply(m1, m2) = \n",
      " [[ 1  4]\n",
      " [ 9 16]]\n",
      "==============================\n"
     ]
    }
   ],
   "source": [
    "# This will do ELEMENT-WISE multiplication, NOT REAL MATRIX MULT.\n",
    "print(\"Method 1: THIS IS ELEMENT-WISE MULT. Not real Matrix Mult.\")\n",
    "mMultiplication1 = m1 * m2  \n",
    "print(\"a) m1 * m2 = \\n\", str(mMultiplication1))\n",
    "print(\"==============================\")\n",
    "\n",
    "print(\"Method 2: THIS IS ELEMENT-WISE MULT. Not real Matrix Mult.\")\n",
    "# This will do ELEMENT-WISE multiplication, NOT REAL MATRIX MULT.\n",
    "mMultiplication2 = np.multiply(m1, m2) \n",
    "print(\"b) np.multiply(m1, m2) = \\n\", str(mMultiplication2))\n",
    "print(\"==============================\")"
   ]
  },
  {
   "cell_type": "markdown",
   "metadata": {},
   "source": [
    "# # Algebraic Matrix Multiplication"
   ]
  },
  {
   "cell_type": "code",
   "execution_count": 15,
   "metadata": {},
   "outputs": [
    {
     "name": "stdout",
     "output_type": "stream",
     "text": [
      "THIS IS REAL MATRIX MULT. This is NOT Element Wise Mult.\n",
      "a) np.dot(m1, m2) = \n",
      " [[ 7 10]\n",
      " [15 22]]\n",
      "==============================\n"
     ]
    }
   ],
   "source": [
    "print(\"THIS IS REAL MATRIX MULT. This is NOT Element Wise Mult.\")\n",
    "# THIS IS THE REAL ALGEBRAIC MATRIX MULT. THIS IS NOT ELEMENT WISE Mult\n",
    "mMultiplication3 = np.dot(m1, m2)  \n",
    "\n",
    "print(\"a) np.dot(m1, m2) = \\n\", str(mMultiplication3))\n",
    "print(\"==============================\")"
   ]
  },
  {
   "cell_type": "code",
   "execution_count": null,
   "metadata": {},
   "outputs": [],
   "source": []
  }
 ],
 "metadata": {
  "kernelspec": {
   "display_name": "Python 3 (ipykernel)",
   "language": "python",
   "name": "python3"
  },
  "language_info": {
   "codemirror_mode": {
    "name": "ipython",
    "version": 3
   },
   "file_extension": ".py",
   "mimetype": "text/x-python",
   "name": "python",
   "nbconvert_exporter": "python",
   "pygments_lexer": "ipython3",
   "version": "3.7.13"
  }
 },
 "nbformat": 4,
 "nbformat_minor": 2
}
