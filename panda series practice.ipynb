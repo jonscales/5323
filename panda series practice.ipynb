{
 "cells": [
  {
   "cell_type": "markdown",
   "id": "bcf39d67-a2f7-4dcb-9d49-db7807364b03",
   "metadata": {},
   "source": [
    "Panda Series Practice"
   ]
  },
  {
   "cell_type": "code",
   "execution_count": 69,
   "id": "41f740d7-d5e9-4092-a32a-b0d1c32f023f",
   "metadata": {},
   "outputs": [],
   "source": [
    "#importing libraries\n",
    "import pandas as pd\n",
    "import numpy as np\n"
   ]
  },
  {
   "cell_type": "code",
   "execution_count": 85,
   "id": "5fcb1273-0296-4163-bc23-6a10e48213e4",
   "metadata": {},
   "outputs": [
    {
     "name": "stdout",
     "output_type": "stream",
     "text": [
      "a    10\n",
      "b    20\n",
      "c    30\n",
      "d    40\n",
      "e    50\n",
      "f    60\n",
      "dtype: int64\n"
     ]
    }
   ],
   "source": [
    "#creating series\n",
    "set1 = pd.Series([10,20,30,40,50,60],['a','b','c','d','e','f'])\n",
    "print(set1)"
   ]
  },
  {
   "cell_type": "code",
   "execution_count": 87,
   "id": "4a024953-5dbd-4894-b3ec-e91bd52964a7",
   "metadata": {},
   "outputs": [
    {
     "name": "stdout",
     "output_type": "stream",
     "text": [
      "a    10\n",
      "b    20\n",
      "c    30\n",
      "d    40\n",
      "e    50\n",
      "f    60\n",
      "dtype: int64\n"
     ]
    }
   ],
   "source": [
    "#set1.name=\"grades\"\n",
    "print(set1)\n"
   ]
  },
  {
   "cell_type": "code",
   "execution_count": 89,
   "id": "51e3d2f0-4288-4052-9b8c-d3d309ac841f",
   "metadata": {},
   "outputs": [
    {
     "name": "stdout",
     "output_type": "stream",
     "text": [
      "g     70\n",
      "h     80\n",
      "i     90\n",
      "j    100\n",
      "dtype: int64\n"
     ]
    }
   ],
   "source": [
    "set2 = pd.Series([70,80,90,100], ['g','h','i','j'])\n",
    "print(set2)"
   ]
  },
  {
   "cell_type": "code",
   "execution_count": 111,
   "id": "0ce0dc6e-6f41-412b-a541-3fed656b3050",
   "metadata": {},
   "outputs": [
    {
     "name": "stdout",
     "output_type": "stream",
     "text": [
      "a     10\n",
      "b     20\n",
      "c     30\n",
      "d     40\n",
      "e     50\n",
      "f     60\n",
      "g     70\n",
      "h     80\n",
      "i     90\n",
      "j    100\n",
      "dtype: int64\n"
     ]
    }
   ],
   "source": [
    "grades = pd.Series([10,20,30,40,50,60,70,80,90,100],['a','b','c','d','e','f','g','h','i','j'])\n",
    "print(grades)"
   ]
  },
  {
   "cell_type": "code",
   "execution_count": 115,
   "id": "8fda1cb8-2956-42e6-93c7-fd93336301be",
   "metadata": {},
   "outputs": [
    {
     "name": "stdout",
     "output_type": "stream",
     "text": [
      "g     70\n",
      "h     80\n",
      "i     90\n",
      "j    100\n",
      "dtype: int64\n"
     ]
    }
   ],
   "source": [
    "print(grades[grades>=70])\n"
   ]
  },
  {
   "cell_type": "code",
   "execution_count": null,
   "id": "bbeaca7f-3e8d-4897-a47b-f4ae8b593191",
   "metadata": {},
   "outputs": [],
   "source": []
  }
 ],
 "metadata": {
  "kernelspec": {
   "display_name": "Python 3 (ipykernel)",
   "language": "python",
   "name": "python3"
  },
  "language_info": {
   "codemirror_mode": {
    "name": "ipython",
    "version": 3
   },
   "file_extension": ".py",
   "mimetype": "text/x-python",
   "name": "python",
   "nbconvert_exporter": "python",
   "pygments_lexer": "ipython3",
   "version": "3.12.4"
  }
 },
 "nbformat": 4,
 "nbformat_minor": 5
}
