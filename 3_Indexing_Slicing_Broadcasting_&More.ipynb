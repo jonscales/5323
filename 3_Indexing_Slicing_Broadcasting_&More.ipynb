{
 "cells": [
  {
   "cell_type": "code",
   "execution_count": 2,
   "metadata": {},
   "outputs": [],
   "source": [
    "# Import the library\n",
    "import numpy as np"
   ]
  },
  {
   "cell_type": "code",
   "execution_count": 11,
   "metadata": {},
   "outputs": [
    {
     "data": {
      "text/plain": [
       "array([10,  9,  8,  7,  6,  5,  4,  3,  2,  1,  0])"
      ]
     },
     "execution_count": 11,
     "metadata": {},
     "output_type": "execute_result"
    }
   ],
   "source": [
    "# define you array, this one has 11 elements\n",
    "myArray = np.arange(10,-1, -1)\n",
    "myArray"
   ]
  },
  {
   "cell_type": "markdown",
   "metadata": {},
   "source": [
    "# INDEXING"
   ]
  },
  {
   "cell_type": "code",
   "execution_count": 16,
   "metadata": {},
   "outputs": [
    {
     "name": "stdout",
     "output_type": "stream",
     "text": [
      "10\n",
      "8\n",
      "6\n",
      "0\n"
     ]
    }
   ],
   "source": [
    "#lets use basic indexing\n",
    "#examples 1,2,3\n",
    "print(myArray[0])\n",
    "print(myArray[2])\n",
    "print(myArray[4])\n",
    "print(myArray[10])"
   ]
  },
  {
   "cell_type": "markdown",
   "metadata": {},
   "source": [
    "# SLICING\n"
   ]
  },
  {
   "cell_type": "code",
   "execution_count": 17,
   "metadata": {},
   "outputs": [
    {
     "name": "stdout",
     "output_type": "stream",
     "text": [
      "[10  9  8  7  6  5  4  3  2  1  0]\n"
     ]
    }
   ],
   "source": [
    "#let's look at the original array\n",
    "print(myArray)"
   ]
  },
  {
   "cell_type": "code",
   "execution_count": 18,
   "metadata": {},
   "outputs": [
    {
     "name": "stdout",
     "output_type": "stream",
     "text": [
      "[9 8]\n"
     ]
    }
   ],
   "source": [
    "# Example 1\n",
    "# now let's proceed to slice, take a chunck from index 1 to 3 \n",
    "# Be aware that (index 3 will be EXCLUDED)\n",
    "slice1 = myArray[1:3]\n",
    "print(slice1)"
   ]
  },
  {
   "cell_type": "code",
   "execution_count": 19,
   "metadata": {},
   "outputs": [
    {
     "name": "stdout",
     "output_type": "stream",
     "text": [
      "[10  9  8  7  6]\n"
     ]
    }
   ],
   "source": [
    "#Example 2\n",
    "slice2 = myArray[0:5]\n",
    "print(slice2)"
   ]
  },
  {
   "cell_type": "code",
   "execution_count": 20,
   "metadata": {},
   "outputs": [
    {
     "name": "stdout",
     "output_type": "stream",
     "text": [
      "[9 8 7 6]\n"
     ]
    }
   ],
   "source": [
    "#Example 3\n",
    "slice3 = myArray[1:5]\n",
    "print(slice3)"
   ]
  },
  {
   "cell_type": "code",
   "execution_count": 21,
   "metadata": {},
   "outputs": [
    {
     "name": "stdout",
     "output_type": "stream",
     "text": [
      "[5 4 3 2 1 0]\n"
     ]
    }
   ],
   "source": [
    "#Example 4\n",
    "# from index 5 all the way to the last index\n",
    "# Be aware that the last index element WILL BE INCLUDED\n",
    "slice4 = myArray[5:]\n",
    "print(slice4)"
   ]
  },
  {
   "cell_type": "code",
   "execution_count": 23,
   "metadata": {},
   "outputs": [
    {
     "name": "stdout",
     "output_type": "stream",
     "text": [
      "[10  9  8  7  6]\n"
     ]
    }
   ],
   "source": [
    "#Example 5\n",
    "# from index 0 all the way to index 5\n",
    "# Be aware that the ELEMENT in index 5 WILL BE EXCLUDED\n",
    "slice5 = myArray[:5]\n",
    "print(slice5)"
   ]
  },
  {
   "cell_type": "code",
   "execution_count": 24,
   "metadata": {},
   "outputs": [
    {
     "name": "stdout",
     "output_type": "stream",
     "text": [
      "[10  9  8  7  6  5  4  3  2  1  0]\n"
     ]
    }
   ],
   "source": [
    "#Example 6\n",
    "# from index 0 all the way to last index\n",
    "# if : is the only one included, then it means ALL of them\n",
    "slice6 = myArray[:]\n",
    "print(slice6)"
   ]
  },
  {
   "cell_type": "markdown",
   "metadata": {},
   "source": [
    "# BROADCASTING"
   ]
  },
  {
   "cell_type": "code",
   "execution_count": 25,
   "metadata": {},
   "outputs": [
    {
     "name": "stdout",
     "output_type": "stream",
     "text": [
      "[10  9  8  7  6  5  4  3  2  1  0]\n"
     ]
    }
   ],
   "source": [
    "#let's look at the original array\n",
    "print(myArray)"
   ]
  },
  {
   "cell_type": "code",
   "execution_count": 26,
   "metadata": {},
   "outputs": [
    {
     "name": "stdout",
     "output_type": "stream",
     "text": [
      "[12345 12345 12345 12345 12345     5     4     3     2     1     0]\n"
     ]
    }
   ],
   "source": [
    "# let's broadcast this number (12345) into the array, specifically\n",
    "# indexes zero, one, two, three and four\n",
    "# Be aware that the original arry has changed. That is visualized with \n",
    "# the print function\n",
    "myArray[0:5]=12345\n",
    "print(myArray)"
   ]
  },
  {
   "cell_type": "code",
   "execution_count": 29,
   "metadata": {},
   "outputs": [
    {
     "name": "stdout",
     "output_type": "stream",
     "text": [
      "[[1. 1. 1. 1.]\n",
      " [1. 1. 1. 1.]\n",
      " [1. 1. 1. 1.]\n",
      " [1. 1. 1. 1.]]\n"
     ]
    }
   ],
   "source": [
    "#example 2 - Broadcasting in Matrices\n",
    "# multiplication example \n",
    "myMatrix = np.ones((4,4))\n",
    "print(myMatrix)"
   ]
  },
  {
   "cell_type": "code",
   "execution_count": 31,
   "metadata": {},
   "outputs": [
    {
     "name": "stdout",
     "output_type": "stream",
     "text": [
      "[[5. 5. 5. 5.]\n",
      " [5. 5. 5. 5.]\n",
      " [5. 5. 5. 5.]\n",
      " [5. 5. 5. 5.]]\n"
     ]
    }
   ],
   "source": [
    "# example 2 - continues\n",
    "# be aware that original matrix value has not changed\n",
    "print(myMatrix * 5)"
   ]
  },
  {
   "cell_type": "code",
   "execution_count": 35,
   "metadata": {},
   "outputs": [
    {
     "name": "stdout",
     "output_type": "stream",
     "text": [
      "[[6. 6. 6. 6.]\n",
      " [6. 6. 6. 6.]\n",
      " [6. 6. 6. 6.]\n",
      " [6. 6. 6. 6.]]\n"
     ]
    }
   ],
   "source": [
    "# example 3 - Matrix + scalar\n",
    "# be aware that original matrix value has not changed\n",
    "print(myMatrix  +  5)"
   ]
  },
  {
   "cell_type": "markdown",
   "metadata": {},
   "source": [
    "# BROADCASTING - IMPORTANT"
   ]
  },
  {
   "cell_type": "code",
   "execution_count": 37,
   "metadata": {},
   "outputs": [
    {
     "name": "stdout",
     "output_type": "stream",
     "text": [
      "[10  9  8  7  6  5  4  3  2  1  0]\n"
     ]
    }
   ],
   "source": [
    "# REdefine you array, this one has 11 elements\n",
    "myArray = np.arange(10,-1, -1)\n",
    "print(myArray)"
   ]
  },
  {
   "cell_type": "code",
   "execution_count": 38,
   "metadata": {},
   "outputs": [
    {
     "name": "stdout",
     "output_type": "stream",
     "text": [
      "[10  9  8  7  6]\n"
     ]
    }
   ],
   "source": [
    "# We are about to get a slice of this array\n",
    "# Be aware that arraySlice is pointing to myArray. You are creating such\n",
    "# relationship here.\n",
    "arraySlice = myArray[0:5]\n",
    "print(arraySlice)"
   ]
  },
  {
   "cell_type": "code",
   "execution_count": 39,
   "metadata": {},
   "outputs": [
    {
     "name": "stdout",
     "output_type": "stream",
     "text": [
      "[123 123 123 123 123]\n",
      "[123 123 123 123 123   5   4   3   2   1   0]\n"
     ]
    }
   ],
   "source": [
    "arraySlice[:] = 123   # here we are modifying all of its samples\n",
    "print(arraySlice)     # printing the whole slice\n",
    "print(myArray)        # printing the whole source array\n",
    "\n",
    "# OBSERVE THE CHANGE ON THE SOURCE ARRAY.\n",
    "# THIS IS DANGEROUS, IT MEANS YOU CAN MODIFY/ALTER/CHANGE THE SOURCE ARRAY"
   ]
  },
  {
   "cell_type": "code",
   "execution_count": 5,
   "metadata": {},
   "outputs": [
    {
     "name": "stdout",
     "output_type": "stream",
     "text": [
      "[10  9  8  7  6  5  4  3  2  1  0]\n",
      "[10  9  8  7  6  5  4  3  2  1  0]\n"
     ]
    }
   ],
   "source": [
    "# SO WHAT TO DO???\n",
    "# create a copy of the original array, like a secondary source\n",
    "# in other words, you will need to explicitly set a copy.\n",
    "# this is done in python with the .copy() method\n",
    "\n",
    "# REdefine you array, this one has 11 elements\n",
    "myArray = np.arange(10,-1, -1)\n",
    "#myArrayCopy = myArray\n",
    "myArrayCopy = myArray.copy()\n",
    "\n",
    "\n",
    "print(myArray)\n",
    "print(myArrayCopy)"
   ]
  },
  {
   "cell_type": "code",
   "execution_count": 6,
   "metadata": {},
   "outputs": [
    {
     "name": "stdout",
     "output_type": "stream",
     "text": [
      "[10  9  8  7  6  5  4  3  2  1  0]\n",
      "[111 111 111 111 111 111 111 111 111 111 111]\n"
     ]
    }
   ],
   "source": [
    "# so far so good, now let's try again\n",
    "myArrayCopy[:] = 111\n",
    "print(myArray)\n",
    "print(myArrayCopy)"
   ]
  },
  {
   "cell_type": "markdown",
   "metadata": {},
   "source": [
    "# 2D INDEXING & SLICING "
   ]
  },
  {
   "cell_type": "code",
   "execution_count": 43,
   "metadata": {},
   "outputs": [
    {
     "name": "stdout",
     "output_type": "stream",
     "text": [
      "[[9 8 7]\n",
      " [6 5 4]\n",
      " [3 2 1]]\n"
     ]
    }
   ],
   "source": [
    "myMatrix = np.array([[9,8,7],[6,5,4],[3,2,1]])\n",
    "print(myMatrix)"
   ]
  },
  {
   "cell_type": "code",
   "execution_count": 44,
   "metadata": {},
   "outputs": [
    {
     "data": {
      "text/plain": [
       "(3, 3)"
      ]
     },
     "execution_count": 44,
     "metadata": {},
     "output_type": "execute_result"
    }
   ],
   "source": [
    "# How to get the dimensions of a matrix?\n",
    "# ANSWER: with the \"shape\"  method\n",
    "# The answer will have this format (rows,columns)\n",
    "myMatrix.shape"
   ]
  },
  {
   "cell_type": "code",
   "execution_count": 45,
   "metadata": {},
   "outputs": [
    {
     "name": "stdout",
     "output_type": "stream",
     "text": [
      "[9 8 7]\n"
     ]
    }
   ],
   "source": [
    "# how to get a row, for example row zero\n",
    "print(myMatrix[0])"
   ]
  },
  {
   "cell_type": "code",
   "execution_count": 46,
   "metadata": {},
   "outputs": [
    {
     "name": "stdout",
     "output_type": "stream",
     "text": [
      "[6 5 4]\n"
     ]
    }
   ],
   "source": [
    "# how to get a row, for example row one\n",
    "print(myMatrix[1])"
   ]
  },
  {
   "cell_type": "code",
   "execution_count": 55,
   "metadata": {},
   "outputs": [
    {
     "name": "stdout",
     "output_type": "stream",
     "text": [
      "2\n"
     ]
    }
   ],
   "source": [
    "# how to get the element located at row 2 column 1? --> 2\n",
    "print(myMatrix[2,1])"
   ]
  },
  {
   "cell_type": "code",
   "execution_count": 64,
   "metadata": {},
   "outputs": [
    {
     "data": {
      "text/plain": [
       "array([[5, 4],\n",
       "       [2, 1]])"
      ]
     },
     "execution_count": 64,
     "metadata": {},
     "output_type": "execute_result"
    }
   ],
   "source": [
    "# how to get the 2x2 bottom-right corner/matrix\n",
    "myMatrix[1:,1:]"
   ]
  },
  {
   "cell_type": "code",
   "execution_count": 62,
   "metadata": {},
   "outputs": [
    {
     "data": {
      "text/plain": [
       "array([[9, 8],\n",
       "       [6, 5]])"
      ]
     },
     "execution_count": 62,
     "metadata": {},
     "output_type": "execute_result"
    }
   ],
   "source": [
    "# how to get the 2x2 upper-left corner/matrix\n",
    "myMatrix[0:2, 0:2]"
   ]
  },
  {
   "cell_type": "markdown",
   "metadata": {},
   "source": [
    "# CONDITIONAL SELECTION"
   ]
  },
  {
   "cell_type": "code",
   "execution_count": 65,
   "metadata": {},
   "outputs": [
    {
     "name": "stdout",
     "output_type": "stream",
     "text": [
      "[10  9  8  7  6  5  4  3  2  1  0]\n"
     ]
    }
   ],
   "source": [
    "# REdefine you array, this one has 11 elements\n",
    "myArray = np.arange(10,-1, -1)\n",
    "print(myArray)"
   ]
  },
  {
   "cell_type": "code",
   "execution_count": 66,
   "metadata": {},
   "outputs": [
    {
     "data": {
      "text/plain": [
       "array([ True,  True,  True,  True,  True, False, False, False, False,\n",
       "       False, False])"
      ]
     },
     "execution_count": 66,
     "metadata": {},
     "output_type": "execute_result"
    }
   ],
   "source": [
    "#STEP 1\n",
    "#design and & visualize your filter. Are you happy with the results?\n",
    "myArray > 5"
   ]
  },
  {
   "cell_type": "code",
   "execution_count": 67,
   "metadata": {},
   "outputs": [
    {
     "name": "stdout",
     "output_type": "stream",
     "text": [
      "[ True  True  True  True  True False False False False False False]\n"
     ]
    }
   ],
   "source": [
    "#STEP 2\n",
    "#if you are happy with the results, then now you\n",
    "# can save it and create the filter that you will use\n",
    "\n",
    "myBooleanArray = (myArray > 5) #filter created here\n",
    "print(myBooleanArray) #filter being visualized here"
   ]
  },
  {
   "cell_type": "code",
   "execution_count": 69,
   "metadata": {},
   "outputs": [
    {
     "name": "stdout",
     "output_type": "stream",
     "text": [
      "[10  9  8  7  6]\n"
     ]
    }
   ],
   "source": [
    "#STEP 3\n",
    "#use your filter, \n",
    "# and get the values that respect/fulfill the filtering criteria\n",
    "print(myArray[myBooleanArray])"
   ]
  },
  {
   "cell_type": "code",
   "execution_count": 70,
   "metadata": {},
   "outputs": [
    {
     "name": "stdout",
     "output_type": "stream",
     "text": [
      "[10  9  8  7  6]\n"
     ]
    }
   ],
   "source": [
    "# CAN I DO BETTER? CAN I DO THIS WITH LESS INTRUCTIONS?\n",
    "# ANSWER\" YES\n",
    "# format:  arrayName(filter here)\n",
    "print(myArray[myArray > 5])    "
   ]
  },
  {
   "cell_type": "code",
   "execution_count": null,
   "metadata": {},
   "outputs": [],
   "source": []
  }
 ],
 "metadata": {
  "kernelspec": {
   "display_name": "Python 3",
   "language": "python",
   "name": "python3"
  },
  "language_info": {
   "codemirror_mode": {
    "name": "ipython",
    "version": 3
   },
   "file_extension": ".py",
   "mimetype": "text/x-python",
   "name": "python",
   "nbconvert_exporter": "python",
   "pygments_lexer": "ipython3",
   "version": "3.6.5"
  }
 },
 "nbformat": 4,
 "nbformat_minor": 5
}
