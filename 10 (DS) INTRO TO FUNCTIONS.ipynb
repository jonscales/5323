{
 "cells": [
  {
   "cell_type": "markdown",
   "metadata": {},
   "source": [
    "# Defining and Calling/Invoking Functions"
   ]
  },
  {
   "cell_type": "code",
   "execution_count": 1,
   "metadata": {},
   "outputs": [],
   "source": [
    "# Just like any othe programming language functions\n",
    "# receives arguments\n",
    "# returns a result\n",
    "\n",
    "#  Example 1: Basic function definition\n",
    "def hello_world():\n",
    "    print(\"Hello World\")"
   ]
  },
  {
   "cell_type": "code",
   "execution_count": 2,
   "metadata": {},
   "outputs": [
    {
     "name": "stdout",
     "output_type": "stream",
     "text": [
      "Hello World\n"
     ]
    }
   ],
   "source": [
    "#If you execute the cell above, you will realize that the print does not actually print anything\n",
    "# until you invoke or call the function, which is done as follows\n",
    "hello_world()"
   ]
  },
  {
   "cell_type": "code",
   "execution_count": 3,
   "metadata": {},
   "outputs": [
    {
     "name": "stdout",
     "output_type": "stream",
     "text": [
      "The entered string reads: Here I am\n"
     ]
    }
   ],
   "source": [
    "# Example 2: A function that captures and print a string of text\n",
    "#====================================================\n",
    "# Function definition\n",
    "def capture_and_print_text(the_string):\n",
    "    print(\"The entered string reads:\", the_string)\n",
    "#====================================================  \n",
    "# Function call\n",
    "capture_and_print_text('Here I am')\n"
   ]
  },
  {
   "cell_type": "markdown",
   "metadata": {},
   "source": [
    "# How to return a number"
   ]
  },
  {
   "cell_type": "code",
   "execution_count": 4,
   "metadata": {},
   "outputs": [
    {
     "data": {
      "text/plain": [
       "15.5"
      ]
     },
     "execution_count": 4,
     "metadata": {},
     "output_type": "execute_result"
    }
   ],
   "source": [
    "# let's write a basic funtion that adds two numbers\n",
    "#================================\n",
    "# This is the function definition\n",
    "def addition(n1, n2):\n",
    "    return (n1+n2)\n",
    "#================================\n",
    "# This is the function call\n",
    "addition(5,10.5)\n",
    "#================================"
   ]
  },
  {
   "cell_type": "code",
   "execution_count": 5,
   "metadata": {},
   "outputs": [
    {
     "name": "stdout",
     "output_type": "stream",
     "text": [
      "15.5\n"
     ]
    }
   ],
   "source": [
    "#You can also capture the returned value in a variable for posterior use at your discretion\n",
    "returned_value = addition(5,10.5)\n",
    "print(returned_value)"
   ]
  },
  {
   "cell_type": "code",
   "execution_count": 11,
   "metadata": {},
   "outputs": [
    {
     "name": "stdout",
     "output_type": "stream",
     "text": [
      "the number is a prime number\n"
     ]
    }
   ],
   "source": [
    "#Let's write a function that will find out if a number is prime or not\n",
    "def it_is_prime(n1):\n",
    "    counter = 0\n",
    "    for var in range(1,n1+1):\n",
    "        if (n1 % var == 0):\n",
    "            counter = counter + 1\n",
    "            if (counter > 2):\n",
    "                print('the number is NOT a prime number')\n",
    "                break            \n",
    "    if(counter == 2):\n",
    "        print('the number is a prime number')\n",
    "    \n",
    "it_is_prime(5)"
   ]
  },
  {
   "cell_type": "code",
   "execution_count": null,
   "metadata": {},
   "outputs": [],
   "source": []
  }
 ],
 "metadata": {
  "kernelspec": {
   "display_name": "Python 3",
   "language": "python",
   "name": "python3"
  },
  "language_info": {
   "codemirror_mode": {
    "name": "ipython",
    "version": 3
   },
   "file_extension": ".py",
   "mimetype": "text/x-python",
   "name": "python",
   "nbconvert_exporter": "python",
   "pygments_lexer": "ipython3",
   "version": "3.7.6"
  }
 },
 "nbformat": 4,
 "nbformat_minor": 2
}
